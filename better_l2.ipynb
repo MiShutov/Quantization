{
 "cells": [
  {
   "cell_type": "code",
   "execution_count": 1,
   "metadata": {},
   "outputs": [],
   "source": [
    "%load_ext autoreload\n",
    "%autoreload 2\n",
    "\n",
    "import torch\n",
    "import os\n",
    "import sys\n",
    "sys.path.append(\"/home/msst/repo/Quantization\")\n",
    "from qlib import HaarWavelet, batch_gathering\n",
    "from qlib.utils.pack_effective import unpack_bool_tensor\n",
    "from qlib.vector_quantization.nn_search.faiss_nn_search import reassign\n",
    "\n",
    "torch.backends.cuda.matmul.allow_tf32 = True\n",
    "DEVICE = 'cuda'\n",
    "DTYPE = torch.float32\n",
    "\n",
    "\n",
    "model_name='Llama2-7b-hf'"
   ]
  },
  {
   "cell_type": "code",
   "execution_count": 2,
   "metadata": {},
   "outputs": [],
   "source": [
    "def L2LossWithHess(w, wq, H=None):\n",
    "    diff_squared = torch.pow(w - wq, 2)\n",
    "    if H is None:\n",
    "        return torch.mean(diff_squared)\n",
    "    return torch.mean(H * diff_squared)"
   ]
  },
  {
   "cell_type": "code",
   "execution_count": 3,
   "metadata": {},
   "outputs": [],
   "source": [
    "path_to_per_block_fp = f'/mnt/ssd_storage/ml/weights/vc_data/{model_name}/per_block_fp'\n",
    "path_to_kmeans = f'/mnt/ssd_storage/ml/weights/vc_data/Llama2-7b-hf/kmeans/cb256_vecdim8_weightPERCOORD_scaleOUTL2_distMSE_blocksizeNone_iters10_abscoords_haar2'\n",
    "path_to_hess = f'/mnt/ssd_storage/ml/weights/vc_data/{model_name}/xtx/{model_name}_xtx.pth'\n",
    "\n",
    "xtx = torch.load(path_to_hess, weights_only=True)"
   ]
  },
  {
   "cell_type": "code",
   "execution_count": 4,
   "metadata": {},
   "outputs": [
    {
     "name": "stderr",
     "output_type": "stream",
     "text": [
      "/tmp/ipykernel_58501/473974112.py:8: FutureWarning: You are using `torch.load` with `weights_only=False` (the current default value), which uses the default pickle module implicitly. It is possible to construct malicious pickle data which will execute arbitrary code during unpickling (See https://github.com/pytorch/pytorch/blob/main/SECURITY.md#untrusted-models for more details). In a future release, the default value for `weights_only` will be flipped to `True`. This limits the functions that could be executed during unpickling. Arbitrary objects will no longer be allowed to be loaded via this mode unless they are explicitly allowlisted by the user via `torch.serialization.add_safe_globals`. We recommend you start setting `weights_only=True` for any use case where you don't have full control of the loaded file. Please open an issue on GitHub for any issues related to this experimental feature.\n",
      "  block = torch.load(os.path.join(path_to_per_block_fp, block_name))\n",
      "/tmp/ipykernel_58501/473974112.py:15: FutureWarning: You are using `torch.load` with `weights_only=False` (the current default value), which uses the default pickle module implicitly. It is possible to construct malicious pickle data which will execute arbitrary code during unpickling (See https://github.com/pytorch/pytorch/blob/main/SECURITY.md#untrusted-models for more details). In a future release, the default value for `weights_only` will be flipped to `True`. This limits the functions that could be executed during unpickling. Arbitrary objects will no longer be allowed to be loaded via this mode unless they are explicitly allowlisted by the user via `torch.serialization.add_safe_globals`. We recommend you start setting `weights_only=True` for any use case where you don't have full control of the loaded file. Please open an issue on GitHub for any issues related to this experimental feature.\n",
      "  kmeans_data = torch.load(f'{path_to_kmeans}/{full_module_name}.pth')\n"
     ]
    }
   ],
   "source": [
    "block_names = sorted(\n",
    "    [name for name in os.listdir(path_to_per_block_fp) if name.startswith('model.layers')],\n",
    "    key=lambda name: int(name.split('.')[-1])\n",
    ")\n",
    "\n",
    "\n",
    "block_name = block_names[0]\n",
    "block = torch.load(os.path.join(path_to_per_block_fp, block_name))\n",
    "init_data = {}\n",
    "\n",
    "for module_name, module in block.named_modules():\n",
    "    if module.__class__ == torch.nn.Linear:\n",
    "        weight = module.weight.data\n",
    "        full_module_name = '.'.join([block_name, module_name])\n",
    "        kmeans_data = torch.load(f'{path_to_kmeans}/{full_module_name}.pth')\n",
    "        hess = xtx[full_module_name]\n",
    "        init_data.update({\n",
    "            full_module_name: {\n",
    "                'kmeans_data' : kmeans_data,\n",
    "                'weight' : weight,\n",
    "                'hess' : hess,\n",
    "            }\n",
    "        })\n"
   ]
  },
  {
   "cell_type": "code",
   "execution_count": 20,
   "metadata": {},
   "outputs": [],
   "source": [
    "class GDInit(torch.nn.Module):\n",
    "    def __init__(self, codebook, indices, scales, haar_transform):\n",
    "        super().__init__()\n",
    "        self.indices = indices.to(torch.int)\n",
    "        self.codebook = torch.nn.Parameter(codebook)\n",
    "        self.scales = torch.nn.Parameter(scales)\n",
    "        self.haar_transform = haar_transform\n",
    "\n",
    "        self.vector_dim = self.codebook.shape[-1]\n",
    "    \n",
    "    def forward(self, w):\n",
    "        orig_freq = self.haar_transform.forward(w / self.scales)\n",
    "        orig_freq_signs = torch.sign(orig_freq)\n",
    "\n",
    "        #####\n",
    "        for freq_id in range(orig_freq.shape[0]):\n",
    "            new_indices = torch.tensor(\n",
    "                reassign(\n",
    "                    torch.abs(orig_freq[freq_id].reshape(-1, self.vector_dim)), \n",
    "                    self.codebook.data[freq_id], \n",
    "                    reassine_params={\"batch_size\" : 2**10}\n",
    "                ),\n",
    "                dtype=self.indices.dtype, \n",
    "                device=self.indices.device\n",
    "            )\n",
    "            self.indices[freq_id] = new_indices\n",
    "        #####\n",
    "\n",
    "        q_freq = batch_gathering(\n",
    "            self.codebook, \n",
    "            self.indices.to(torch.int32)).reshape_as(orig_freq_signs)\n",
    "        q_freq *= orig_freq_signs\n",
    "        wq = self.haar_transform.inverse(q_freq) * self.scales\n",
    "        return wq"
   ]
  },
  {
   "cell_type": "code",
   "execution_count": 29,
   "metadata": {},
   "outputs": [],
   "source": [
    "#data = init_data['model.layers.0.self_attn.q_proj']\n",
    "data = init_data['model.layers.0.mlp.down_proj']\n",
    "\n",
    "H = data['hess'].to(DTYPE).to(DEVICE)\n",
    "w = data['weight'].to(DTYPE).to(DEVICE)\n",
    "kmeans_data = data['kmeans_data']\n",
    "codebook = kmeans_data['codebook'].to(DTYPE).to(DEVICE)\n",
    "vector_dim = codebook.shape[-1]\n",
    "indices = kmeans_data['indices'].to(DTYPE).to(DEVICE)\n",
    "scales = kmeans_data['scales'].to(DTYPE).to(DEVICE)\n",
    "haar_freq_shape = kmeans_data['signs']['shape']\n",
    "haar_freq_signs = 2 * unpack_bool_tensor(kmeans_data['signs']['packed'].to(DEVICE), haar_freq_shape) - 1"
   ]
  },
  {
   "cell_type": "code",
   "execution_count": 37,
   "metadata": {},
   "outputs": [
    {
     "name": "stderr",
     "output_type": "stream",
     "text": [
      "/tmp/ipykernel_58501/3856478804.py:17: UserWarning: To copy construct from a tensor, it is recommended to use sourceTensor.clone().detach() or sourceTensor.clone().detach().requires_grad_(True), rather than torch.tensor(sourceTensor).\n",
      "  new_indices = torch.tensor(\n"
     ]
    },
    {
     "name": "stdout",
     "output_type": "stream",
     "text": [
      "tensor(2.7685e-05, device='cuda:0')\n",
      "tensor(2.7681e-05, device='cuda:0')\n",
      "tensor(2.7682e-05, device='cuda:0')\n",
      "tensor(2.7686e-05, device='cuda:0')\n",
      "tensor(2.7688e-05, device='cuda:0')\n",
      "tensor(2.7689e-05, device='cuda:0')\n",
      "tensor(2.7689e-05, device='cuda:0')\n",
      "tensor(2.7689e-05, device='cuda:0')\n",
      "tensor(2.7688e-05, device='cuda:0')\n",
      "tensor(2.7688e-05, device='cuda:0')\n"
     ]
    }
   ],
   "source": [
    "gd_init = GDInit(\n",
    "\tcodebook=codebook.clone(), \n",
    "\tindices=indices.clone(), \n",
    "\tscales=scales.clone(),\n",
    "\thaar_transform=HaarWavelet(level=data['kmeans_data']['metadata']['haar_decomposition_level']).to(DTYPE).to(DEVICE)\n",
    ")\n",
    "\n",
    "trainable_params = [\n",
    "\t#gd_init.codebook,\n",
    "\tgd_init.scales,\n",
    "\t#gd_init.haar_transform.forward_conv.weight\n",
    "]\n",
    "\n",
    "optimizer = torch.optim.Adam(params=trainable_params, lr=1e-1)\n",
    "\n",
    "n_steps = 50\n",
    "\n",
    "for i in range(n_steps):\n",
    "\twq = gd_init.forward(w)\n",
    "\tloss = L2LossWithHess(w, wq) #, H**0.5)\n",
    "\n",
    "\toptimizer.zero_grad()\n",
    "\tloss.backward()\n",
    "\t#print(gd_init.scales.grad)\n",
    "\toptimizer.step()\n",
    "\t\n",
    "\tif i%5==0:\n",
    "\t\twith torch.no_grad():\n",
    "\t\t\tprint(L2LossWithHess(w, wq))"
   ]
  },
  {
   "cell_type": "code",
   "execution_count": null,
   "metadata": {},
   "outputs": [],
   "source": []
  }
 ],
 "metadata": {
  "kernelspec": {
   "display_name": "qenv",
   "language": "python",
   "name": "python3"
  },
  "language_info": {
   "codemirror_mode": {
    "name": "ipython",
    "version": 3
   },
   "file_extension": ".py",
   "mimetype": "text/x-python",
   "name": "python",
   "nbconvert_exporter": "python",
   "pygments_lexer": "ipython3",
   "version": "3.10.16"
  }
 },
 "nbformat": 4,
 "nbformat_minor": 2
}
