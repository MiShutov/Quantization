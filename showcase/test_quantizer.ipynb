{
 "cells": [
  {
   "cell_type": "code",
   "execution_count": 29,
   "metadata": {},
   "outputs": [],
   "source": [
    "import torch\n",
    "import torch.nn as nn\n",
    "from torch.optim.lr_scheduler import CosineAnnealingLR\n",
    "from torch.optim import Adam, AdamW\n",
    "\n",
    "import matplotlib.pyplot as plt\n",
    "\n",
    "from transformers import AutoTokenizer, AutoModelForCausalLM\n",
    "from datasets import load_dataset\n",
    "\n",
    "import sys\n",
    "sys.path.append(\"../../\") \n",
    "from qlib.quantizers.lut_quantizer import QuantizerLUT\n",
    "from qlib.quantizers.lut_quantizer_reparametrized import QuantizerLUT_reparametrized\n",
    "\n",
    "from qlib.quantizers.lsq_quantizer_autograd import QuantizerLSQwithAutograd\n",
    "from qlib.quantizers.lsq_quantizer import QuantizerLSQ\n",
    "\n",
    "from qlib.initializers.criterias import MomentCriteria\n",
    "from qlib.initializers.greedy_step_offset_initializer import GreedyInitializer\n",
    "\n",
    "\n",
    "DEVICE = 'cuda'"
   ]
  },
  {
   "cell_type": "code",
   "execution_count": 2,
   "metadata": {},
   "outputs": [
    {
     "data": {
      "application/vnd.jupyter.widget-view+json": {
       "model_id": "086733c4a79843b898f6e503642ed15e",
       "version_major": 2,
       "version_minor": 0
      },
      "text/plain": [
       "Loading checkpoint shards:   0%|          | 0/2 [00:00<?, ?it/s]"
      ]
     },
     "metadata": {},
     "output_type": "display_data"
    },
    {
     "data": {
      "text/plain": [
       "torch.Size([4096, 4096])"
      ]
     },
     "execution_count": 2,
     "metadata": {},
     "output_type": "execute_result"
    }
   ],
   "source": [
    "def load_llama(path_to_pretrained):\n",
    "\ttokenizer = AutoTokenizer.from_pretrained(path_to_pretrained)\n",
    "\tmodel = AutoModelForCausalLM.from_pretrained(path_to_pretrained)\n",
    "\treturn tokenizer, model\n",
    "\n",
    "#path_to_pretrained = '/home/msst/repo/pretrained_models/AMD-Llama-135m'\n",
    "#path_to_pretrained = '/home/msst/repo/pretrained_models/TinyLlama_v1.1'\n",
    "path_to_pretrained = '/home/msst/repo/pretrained_models/Llama2-7b-hf'\n",
    "\n",
    "tokenizer, model = load_llama(path_to_pretrained)\n",
    "w = model.get_decoder().layers[0].self_attn.q_proj.weight"
   ]
  },
  {
   "cell_type": "code",
   "execution_count": 51,
   "metadata": {},
   "outputs": [],
   "source": [
    "GROUP_SIZE = 64\n",
    "BIT_WIDTH = 2\n",
    "\n",
    "### LUT ###\n",
    "\n",
    "initialization_params = {\n",
    "\t\t'optim' : 'Adam',\n",
    "\t\t'lr' : 3e-3,\n",
    "\t\t'steps' : 500,\n",
    "\t\t'grad_norm': False,\n",
    "\t\t'criteria' : MomentCriteria(p=4)\n",
    "\t}\n",
    "\n",
    "lut_quantizer = QuantizerLUT(\n",
    "\tgroup_size=GROUP_SIZE,\n",
    "\tbit_width=BIT_WIDTH,\n",
    "\tinitialization_params=initialization_params\n",
    ")\n",
    "\n",
    "lut_quantizer_r = QuantizerLUT_reparametrized(\n",
    "\tgroup_size=GROUP_SIZE,\n",
    "\tbit_width=BIT_WIDTH,\n",
    "\tinitialization_params=initialization_params\n",
    ")\n",
    "\n",
    "### LSQ ###\n",
    "\n",
    "greed_initializer = GreedyInitializer(\n",
    "                             criteria=MomentCriteria(p=4, sum_along_axis=-1),\n",
    "                             n_grid_steps=25,\n",
    "                             n_grid_zooms=2)\n",
    "\n",
    "lsq_quantizer = QuantizerLSQ(\n",
    "\tgroup_size=GROUP_SIZE,\n",
    "\tbit_width=BIT_WIDTH,\n",
    "\tuse_offset=False,\n",
    "\tinitializer=greed_initializer\n",
    ")\n",
    "\n",
    "lsq_quantizer_ag = QuantizerLSQwithAutograd(\n",
    "\tgroup_size=GROUP_SIZE,\n",
    "\tbit_width=BIT_WIDTH,\n",
    "\tuse_offset=False,\n",
    "\tinitializer=greed_initializer\n",
    ")\n",
    "\n",
    "\n",
    "w = w.to(DEVICE)\n",
    "\n",
    "lut_quantizer = lut_quantizer.to(DEVICE)\n",
    "lut_quantizer_r = lut_quantizer_r.to(DEVICE)\n",
    "\n",
    "lsq_quantizer = lsq_quantizer.to(DEVICE)\n",
    "lsq_quantizer_ag = lsq_quantizer_ag.to(DEVICE)"
   ]
  },
  {
   "cell_type": "code",
   "execution_count": 31,
   "metadata": {},
   "outputs": [
    {
     "name": "stdout",
     "output_type": "stream",
     "text": [
      "LUT: 0.0832228735089302\n",
      "LUT reparametrized: 0.0754116028547287\n",
      "LSQ: 0.48644912242889404\n",
      "LSQ_AG: 0.48644912242889404\n"
     ]
    }
   ],
   "source": [
    "def moment_loss(x, x_q, p=4):\n",
    "\treturn torch.sum(torch.pow(torch.abs(x-x_q), p))\n",
    "\n",
    "print(\"LUT:\", moment_loss(w, lut_quantizer(w)).item())\n",
    "print(\"LUT reparametrized:\", moment_loss(w, lut_quantizer_r(w)).item())\n",
    "\n",
    "print(\"LSQ:\", moment_loss(w, lsq_quantizer(w)).item())\n",
    "print(\"LSQ_AG:\", moment_loss(w, lsq_quantizer_ag(w)).item())"
   ]
  },
  {
   "cell_type": "code",
   "execution_count": 52,
   "metadata": {},
   "outputs": [
    {
     "name": "stdout",
     "output_type": "stream",
     "text": [
      "LSQ: 0.7248697280883789\n",
      "LSQ_AG: 0.7248697280883789\n"
     ]
    }
   ],
   "source": [
    "print(\"LSQ:\", moment_loss(w, lsq_quantizer(w)).item())\n",
    "print(\"LSQ_AG:\", moment_loss(w, lsq_quantizer_ag(w)).item())"
   ]
  },
  {
   "cell_type": "code",
   "execution_count": 53,
   "metadata": {},
   "outputs": [],
   "source": [
    "lr = 1e-4\n",
    "n_steps = 1000"
   ]
  },
  {
   "cell_type": "code",
   "execution_count": 54,
   "metadata": {},
   "outputs": [
    {
     "name": "stdout",
     "output_type": "stream",
     "text": [
      "tensor(0.5224, device='cuda:0', grad_fn=<SumBackward0>)\n"
     ]
    }
   ],
   "source": [
    "optim_lsq_ag = Adam(lsq_quantizer_ag.parameters(), lr=lr)\n",
    "scheduler_lsq_ag = CosineAnnealingLR(optim_lsq_ag, T_max=n_steps)\n",
    "\n",
    "for i in range(n_steps):\n",
    "\toptim_lsq_ag.zero_grad()\n",
    "\tloss = moment_loss(w, lsq_quantizer_ag(w))\n",
    "\tloss.backward()\n",
    "\toptim_lsq_ag.step()\n",
    "\tscheduler_lsq_ag.step()\n",
    "print(loss)"
   ]
  },
  {
   "cell_type": "code",
   "execution_count": 55,
   "metadata": {},
   "outputs": [
    {
     "name": "stdout",
     "output_type": "stream",
     "text": [
      "tensor(0.5588, device='cuda:0', grad_fn=<SumBackward0>)\n"
     ]
    }
   ],
   "source": [
    "optim_lsq = Adam(lsq_quantizer.parameters(), lr=lr)\n",
    "scheduler_lsq = CosineAnnealingLR(optim_lsq, T_max=n_steps)\n",
    "\n",
    "for i in range(n_steps):\n",
    "\toptim_lsq.zero_grad()\n",
    "\tloss = moment_loss(w, lsq_quantizer(w))\n",
    "\tloss.backward()\n",
    "\toptim_lsq.step()\n",
    "\tscheduler_lsq.step()\n",
    "print(loss)"
   ]
  },
  {
   "cell_type": "code",
   "execution_count": null,
   "metadata": {},
   "outputs": [],
   "source": []
  },
  {
   "cell_type": "markdown",
   "metadata": {},
   "source": [
    "### Plot"
   ]
  },
  {
   "cell_type": "code",
   "execution_count": 7,
   "metadata": {},
   "outputs": [],
   "source": [
    "# borders = lut_quantizer_.borders[0].detach().cpu()\n",
    "# levels = lut_quantizer_.levels.data[0].detach().cpu()\n",
    "# x = w.detach().cpu()\n",
    "\n",
    "# plt.hist(x)\n",
    "# plt.vlines(levels, 0, 1, colors='r', linestyles='solid', label='')\n",
    "# plt.vlines(borders, -0.5, 0.5, colors='y', linestyles='solid', label='')"
   ]
  },
  {
   "cell_type": "code",
   "execution_count": null,
   "metadata": {},
   "outputs": [],
   "source": []
  },
  {
   "cell_type": "code",
   "execution_count": null,
   "metadata": {},
   "outputs": [],
   "source": []
  }
 ],
 "metadata": {
  "kernelspec": {
   "display_name": "quant_env",
   "language": "python",
   "name": "python3"
  },
  "language_info": {
   "codemirror_mode": {
    "name": "ipython",
    "version": 3
   },
   "file_extension": ".py",
   "mimetype": "text/x-python",
   "name": "python",
   "nbconvert_exporter": "python",
   "pygments_lexer": "ipython3",
   "version": "3.12.7"
  }
 },
 "nbformat": 4,
 "nbformat_minor": 2
}
