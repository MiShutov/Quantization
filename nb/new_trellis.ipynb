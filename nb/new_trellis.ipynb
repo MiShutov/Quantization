{
 "cells": [
  {
   "cell_type": "code",
   "execution_count": 1,
   "metadata": {},
   "outputs": [],
   "source": [
    "%load_ext autoreload\n",
    "%autoreload 2\n",
    "\n",
    "import itertools\n",
    "import math\n",
    "import os\n",
    "from functools import cache\n",
    "import random \n",
    "\n",
    "import numpy as np\n",
    "import torch\n",
    "from torch import nn\n",
    "from tqdm import tqdm\n",
    "import matplotlib.pyplot as plt\n",
    "\n",
    "import sys\n",
    "sys.path.append(\"/home/msst/repo/Quantization\")\n",
    "import qlib\n",
    "DEVICE = 'cuda:0'\n"
   ]
  },
  {
   "cell_type": "code",
   "execution_count": 2,
   "metadata": {},
   "outputs": [
    {
     "name": "stderr",
     "output_type": "stream",
     "text": [
      "  0%|          | 0/4 [00:00<?, ?it/s]W0530 10:46:30.870000 19060 site-packages/torch/_dynamo/variables/tensor.py:776] [0/0] Graph break from `Tensor.item()`, consider setting:\n",
      "W0530 10:46:30.870000 19060 site-packages/torch/_dynamo/variables/tensor.py:776] [0/0]     torch._dynamo.config.capture_scalar_outputs = True\n",
      "W0530 10:46:30.870000 19060 site-packages/torch/_dynamo/variables/tensor.py:776] [0/0] or:\n",
      "W0530 10:46:30.870000 19060 site-packages/torch/_dynamo/variables/tensor.py:776] [0/0]     env TORCHDYNAMO_CAPTURE_SCALAR_OUTPUTS=1\n",
      "W0530 10:46:30.870000 19060 site-packages/torch/_dynamo/variables/tensor.py:776] [0/0] to include these operations in the captured graph.\n",
      "W0530 10:46:30.870000 19060 site-packages/torch/_dynamo/variables/tensor.py:776] [0/0] \n",
      "W0530 10:46:30.870000 19060 site-packages/torch/_dynamo/variables/tensor.py:776] [0/0] Graph break: from user code at:\n",
      "W0530 10:46:30.870000 19060 site-packages/torch/_dynamo/variables/tensor.py:776] [0/0]   File \"/home/msst/repo/Quantization/qlib/qlayers/trellis_quantizer.py\", line 478, in update\n",
      "W0530 10:46:30.870000 19060 site-packages/torch/_dynamo/variables/tensor.py:776] [0/0]     S_red = self.reduced_state_size.item()  # 2^(L-K*V)\n",
      "W0530 10:46:30.870000 19060 site-packages/torch/_dynamo/variables/tensor.py:776] [0/0] \n",
      "W0530 10:46:30.870000 19060 site-packages/torch/_dynamo/variables/tensor.py:776] [0/0] \n",
      "100%|██████████| 4/4 [00:02<00:00,  1.84it/s]"
     ]
    },
    {
     "name": "stdout",
     "output_type": "stream",
     "text": [
      "torch.Size([1000, 128])\n",
      "error: 0.070 +- 0.007\n"
     ]
    },
    {
     "name": "stderr",
     "output_type": "stream",
     "text": [
      "\n"
     ]
    }
   ],
   "source": [
    "quantizer = qlib.trellis_quantizer(\n",
    "\tL=16,\n",
    "    K=2,\n",
    "    V=2,\n",
    "    decode_mode='LowBitSym',\n",
    "    tlut_bits=10,\n",
    "    tlut=None,\n",
    "\tviterby_bs=256\n",
    ").to(DEVICE)\n",
    "\n",
    "w = torch.randn(1000, 256).to(DEVICE)\n",
    "reco, states = quantizer.quantize(w)\n",
    "\n",
    "err = torch.mean((reco - w)**2, axis=-1)\n",
    "print(f'error: {err.mean().item():.3f} +- {err.std().item():.3f}')"
   ]
  },
  {
   "cell_type": "code",
   "execution_count": 3,
   "metadata": {},
   "outputs": [
    {
     "ename": "NameError",
     "evalue": "name 'reco' is not defined",
     "output_type": "error",
     "traceback": [
      "\u001b[0;31m---------------------------------------------------------------------------\u001b[0m",
      "\u001b[0;31mNameError\u001b[0m                                 Traceback (most recent call last)",
      "Cell \u001b[0;32mIn[3], line 1\u001b[0m\n\u001b[0;32m----> 1\u001b[0m \u001b[38;5;28mprint\u001b[39m(\u001b[43mreco\u001b[49m\u001b[38;5;241m.\u001b[39mshape)\n",
      "\u001b[0;31mNameError\u001b[0m: name 'reco' is not defined"
     ]
    }
   ],
   "source": [
    "print(reco.shape)"
   ]
  },
  {
   "cell_type": "code",
   "execution_count": null,
   "metadata": {},
   "outputs": [],
   "source": []
  }
 ],
 "metadata": {
  "kernelspec": {
   "display_name": "qenv",
   "language": "python",
   "name": "python3"
  },
  "language_info": {
   "codemirror_mode": {
    "name": "ipython",
    "version": 3
   },
   "file_extension": ".py",
   "mimetype": "text/x-python",
   "name": "python",
   "nbconvert_exporter": "python",
   "pygments_lexer": "ipython3",
   "version": "3.10.16"
  }
 },
 "nbformat": 4,
 "nbformat_minor": 2
}
