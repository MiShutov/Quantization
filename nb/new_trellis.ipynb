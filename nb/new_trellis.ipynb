{
 "cells": [
  {
   "cell_type": "code",
   "execution_count": 1,
   "metadata": {},
   "outputs": [],
   "source": [
    "%load_ext autoreload\n",
    "%autoreload 2\n",
    "\n",
    "import itertools\n",
    "import math\n",
    "import os\n",
    "from functools import cache\n",
    "import random \n",
    "\n",
    "import numpy as np\n",
    "import torch\n",
    "from torch import nn\n",
    "from tqdm import tqdm\n",
    "import matplotlib.pyplot as plt\n",
    "\n",
    "import sys\n",
    "sys.path.append(\"/home/msst/repo/Quantization\")\n",
    "import qlib\n",
    "DEVICE = 'cuda:0'\n"
   ]
  },
  {
   "cell_type": "code",
   "execution_count": 8,
   "metadata": {},
   "outputs": [
    {
     "name": "stderr",
     "output_type": "stream",
     "text": [
      "100%|██████████| 2/2 [00:00<00:00, 31.96it/s]"
     ]
    },
    {
     "name": "stdout",
     "output_type": "stream",
     "text": [
      "error: 1.951 +- 0.234\n"
     ]
    },
    {
     "name": "stderr",
     "output_type": "stream",
     "text": [
      "\n"
     ]
    }
   ],
   "source": [
    "quantizer = qlib.trellis_quantizer(\n",
    "\tL=16,\n",
    "    K=2,\n",
    "    V=1,\n",
    "    decode_mode='1mad',\n",
    "    tlut_bits=10,\n",
    "    tlut=None,\n",
    "\tviterby_bs=3\n",
    ").to(DEVICE)\n",
    "\n",
    "w = torch.randn(4, 256).to(DEVICE)\n",
    "reco, states = quantizer.quantize(w)\n",
    "\n",
    "err = torch.mean((reco - w)**2, axis=-1)\n",
    "print(f'error: {err.mean().item():.3f} +- {err.std().item():.3f}')"
   ]
  },
  {
   "cell_type": "code",
   "execution_count": 3,
   "metadata": {},
   "outputs": [
    {
     "data": {
      "text/plain": [
       "(tensor([[ 0.2626,  0.6797,  0.4854,  ..., -0.7699, -0.5430, -0.6733],\n",
       "         [-0.0679,  0.7149,  0.0582,  ...,  0.4878, -0.7684, -0.8511],\n",
       "         [-0.3735,  0.5027, -2.1762,  ...,  0.3386, -1.0438,  0.2216],\n",
       "         [-0.8381,  0.2477, -0.0431,  ..., -0.3989, -1.5861, -0.8198]],\n",
       "        device='cuda:0'),\n",
       " tensor([[ 0.2977,  1.9553,  0.0271,  ..., -1.7321,  0.9472,  1.4073],\n",
       "         [ 1.0622, -0.9134, -1.3870,  ..., -0.5074, -0.3924, -0.7239],\n",
       "         [ 0.4601,  0.5413,  0.6292,  ...,  0.7442, -0.6495,  1.1570],\n",
       "         [ 1.8606, -1.4885,  2.3884,  ...,  0.9675,  0.2977, -0.0271]],\n",
       "        device='cuda:0'))"
      ]
     },
     "execution_count": 3,
     "metadata": {},
     "output_type": "execute_result"
    }
   ],
   "source": [
    "w, reco"
   ]
  }
 ],
 "metadata": {
  "kernelspec": {
   "display_name": "qenv",
   "language": "python",
   "name": "python3"
  },
  "language_info": {
   "codemirror_mode": {
    "name": "ipython",
    "version": 3
   },
   "file_extension": ".py",
   "mimetype": "text/x-python",
   "name": "python",
   "nbconvert_exporter": "python",
   "pygments_lexer": "ipython3",
   "version": "3.10.16"
  }
 },
 "nbformat": 4,
 "nbformat_minor": 2
}
