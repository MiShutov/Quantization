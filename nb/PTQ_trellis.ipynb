{
 "cells": [
  {
   "cell_type": "code",
   "execution_count": 1,
   "metadata": {},
   "outputs": [],
   "source": [
    "import torch\n",
    "\n",
    "import sys\n",
    "sys.path.append(\"/home/msst/repo/Quantization\")\n",
    "import qlib\n",
    "\n",
    "map_location = torch.device('cuda:0')"
   ]
  },
  {
   "cell_type": "code",
   "execution_count": 2,
   "metadata": {},
   "outputs": [],
   "source": [
    "import os\n",
    "import shutil\n",
    "import nip\n",
    "\n",
    "path_to_config = '/home/msst/repo/Quantization/configs/vq/llama2_7b/trellis/llama2_trellis_128seq_reassigns.yaml'\n",
    "\n",
    "config = nip.load(path_to_config)\n",
    "logdir = config['logdir']\n",
    "os.makedirs(logdir, exist_ok=True)\n",
    "try:\n",
    "    shutil.copy(path_to_config, logdir)\n",
    "except shutil.SameFileError:\n",
    "    pass\n",
    "\n",
    "\n",
    "fp_blocks_path = config['fp_blocks_path']\n",
    "q_blocks_path = config['q_blocks_path']\n",
    "trained_q_blocks_path = os.path.join(config['logdir'], 'per_block_q_trained')\n",
    "\n",
    "os.makedirs(trained_q_blocks_path, exist_ok=True)"
   ]
  },
  {
   "cell_type": "code",
   "execution_count": 3,
   "metadata": {},
   "outputs": [
    {
     "name": "stderr",
     "output_type": "stream",
     "text": [
      "/tmp/ipykernel_2269061/3086267953.py:5: FutureWarning: You are using `torch.load` with `weights_only=False` (the current default value), which uses the default pickle module implicitly. It is possible to construct malicious pickle data which will execute arbitrary code during unpickling (See https://github.com/pytorch/pytorch/blob/main/SECURITY.md#untrusted-models for more details). In a future release, the default value for `weights_only` will be flipped to `True`. This limits the functions that could be executed during unpickling. Arbitrary objects will no longer be allowed to be loaded via this mode unless they are explicitly allowlisted by the user via `torch.serialization.add_safe_globals`. We recommend you start setting `weights_only=True` for any use case where you don't have full control of the loaded file. Please open an issue on GitHub for any issues related to this experimental feature.\n",
      "  rotary_emb=torch.load(f'{config[\"fp_blocks_path\"]}/model.rotary_emb',),\n"
     ]
    },
    {
     "data": {
      "application/vnd.jupyter.widget-view+json": {
       "model_id": "ae19d9a4188f4f9cbb57e0a71df303a2",
       "version_major": 2,
       "version_minor": 0
      },
      "text/plain": [
       "Resolving data files:   0%|          | 0/200 [00:00<?, ?it/s]"
      ]
     },
     "metadata": {},
     "output_type": "display_data"
    }
   ],
   "source": [
    "trainer = qlib.HomequantTrainerPTQ(\n",
    "    logdir = config['logdir'],\n",
    "    training_config = config['training_params'],\n",
    "    tokenizer=qlib.load_tokenizer(config['model_name']),\n",
    "    rotary_emb=torch.load(f'{config[\"fp_blocks_path\"]}/model.rotary_emb',),\n",
    "\tquant_classes=[qlib.TrellisLinear],\n",
    "\tstore_dtype=torch.float16\n",
    ")"
   ]
  },
  {
   "cell_type": "code",
   "execution_count": null,
   "metadata": {},
   "outputs": [
    {
     "name": "stdout",
     "output_type": "stream",
     "text": [
      "model_decoder.embed_tokens\n"
     ]
    },
    {
     "name": "stderr",
     "output_type": "stream",
     "text": [
      "/home/msst/repo/Quantization/qlib/ptq/homequant_ptq_train.py:222: FutureWarning: You are using `torch.load` with `weights_only=False` (the current default value), which uses the default pickle module implicitly. It is possible to construct malicious pickle data which will execute arbitrary code during unpickling (See https://github.com/pytorch/pytorch/blob/main/SECURITY.md#untrusted-models for more details). In a future release, the default value for `weights_only` will be flipped to `True`. This limits the functions that could be executed during unpickling. Arbitrary objects will no longer be allowed to be loaded via this mode unless they are explicitly allowlisted by the user via `torch.serialization.add_safe_globals`. We recommend you start setting `weights_only=True` for any use case where you don't have full control of the loaded file. Please open an issue on GitHub for any issues related to this experimental feature.\n",
      "  block = torch.load(path_to_fp_block, map_location=self.device_map)\n",
      "collecting activations: 100%|██████████| 64/64 [00:02<00:00, 30.15it/s]\n",
      "collecting activations: 100%|██████████| 16/16 [00:00<00:00, 31.09it/s]\n",
      "/home/msst/repo/Quantization/qlib/ptq/homequant_ptq_train.py:227: FutureWarning: You are using `torch.load` with `weights_only=False` (the current default value), which uses the default pickle module implicitly. It is possible to construct malicious pickle data which will execute arbitrary code during unpickling (See https://github.com/pytorch/pytorch/blob/main/SECURITY.md#untrusted-models for more details). In a future release, the default value for `weights_only` will be flipped to `True`. This limits the functions that could be executed during unpickling. Arbitrary objects will no longer be allowed to be loaded via this mode unless they are explicitly allowlisted by the user via `torch.serialization.add_safe_globals`. We recommend you start setting `weights_only=True` for any use case where you don't have full control of the loaded file. Please open an issue on GitHub for any issues related to this experimental feature.\n",
      "  block = torch.load(path_to_q_block, map_location=self.device_map)\n",
      "collecting activations: 100%|██████████| 64/64 [00:02<00:00, 30.64it/s]\n",
      "collecting activations: 100%|██████████| 16/16 [00:00<00:00, 31.36it/s]\n"
     ]
    },
    {
     "name": "stdout",
     "output_type": "stream",
     "text": [
      "\n",
      "layer_idx: 0\n"
     ]
    },
    {
     "name": "stderr",
     "output_type": "stream",
     "text": [
      "collecting activations: 100%|██████████| 64/64 [00:13<00:00,  4.87it/s]\n",
      "collecting activations: 100%|██████████| 16/16 [00:03<00:00,  5.16it/s]\n",
      "/home/msst/repo/Quantization/qlib/ptq/homequant_ptq_utils.py:18: FutureWarning: You are using `torch.load` with `weights_only=False` (the current default value), which uses the default pickle module implicitly. It is possible to construct malicious pickle data which will execute arbitrary code during unpickling (See https://github.com/pytorch/pytorch/blob/main/SECURITY.md#untrusted-models for more details). In a future release, the default value for `weights_only` will be flipped to `True`. This limits the functions that could be executed during unpickling. Arbitrary objects will no longer be allowed to be loaded via this mode unless they are explicitly allowlisted by the user via `torch.serialization.add_safe_globals`. We recommend you start setting `weights_only=True` for any use case where you don't have full control of the loaded file. Please open an issue on GitHub for any issues related to this experimental feature.\n",
      "  fp_block = torch.load(path_to_fp_block, map_location='cuda')\n",
      "training block (epoch 1):   0%|          | 0/64 [00:00<?, ?it/s]/home/msst/miniconda3/envs/qenv/lib/python3.10/site-packages/torch/autograd/graph.py:825: UserWarning: quip_lib::hadamard: an autograd kernel was not registered to the Autograd key(s) but we are trying to backprop through it. This may lead to silently incorrect behavior. This behavior is deprecated and will be removed in a future version of PyTorch. If your operator is differentiable, please ensure you have registered an autograd kernel to the correct Autograd key (e.g. DispatchKey::Autograd, DispatchKey::CompositeImplicitAutograd). If your operator is not differentiable, or to squash this warning and use the previous behavior, please register torch::CppFunction::makeFallthrough() to DispatchKey::Autograd. (Triggered internally at ../torch/csrc/autograd/autograd_not_implemented_fallback.cpp:62.)\n",
      "  return Variable._execution_engine.run_backward(  # Calls into the C++ engine to run the backward pass\n",
      "100%|██████████| 13/13 [00:01<00:00,  8.76it/s]4 [00:11<00:38,  1.28it/s]\n",
      "100%|██████████| 13/13 [00:01<00:00, 12.73it/s]\n",
      "100%|██████████| 13/13 [00:00<00:00, 14.38it/s]\n",
      "100%|██████████| 13/13 [00:01<00:00, 12.90it/s]\n",
      "100%|██████████| 13/13 [00:00<00:00, 14.39it/s]\n",
      "100%|██████████| 13/13 [00:01<00:00, 12.86it/s]\n",
      "100%|██████████| 13/13 [00:00<00:00, 14.05it/s]\n",
      "100%|██████████| 13/13 [00:01<00:00, 12.73it/s]\n",
      "100%|██████████| 35/35 [00:02<00:00, 13.87it/s]\n",
      "100%|██████████| 35/35 [00:02<00:00, 12.87it/s]\n",
      "100%|██████████| 35/35 [00:02<00:00, 13.64it/s]\n",
      "100%|██████████| 35/35 [00:02<00:00, 12.88it/s]\n",
      "100%|██████████| 35/35 [00:02<00:00, 13.63it/s]\n",
      "100%|██████████| 35/35 [00:02<00:00, 12.89it/s]\n",
      "/home/msst/miniconda3/envs/qenv/lib/python3.10/site-packages/torch/autograd/graph.py:825: UserWarning: quip_lib::hadamard: an autograd kernel was not registered to the Autograd key(s) but we are trying to backprop through it. This may lead to silently incorrect behavior. This behavior is deprecated and will be removed in a future version of PyTorch. If your operator is differentiable, please ensure you have registered an autograd kernel to the correct Autograd key (e.g. DispatchKey::Autograd, DispatchKey::CompositeImplicitAutograd). If your operator is not differentiable, or to squash this warning and use the previous behavior, please register torch::CppFunction::makeFallthrough() to DispatchKey::Autograd. (Triggered internally at ../torch/csrc/autograd/autograd_not_implemented_fallback.cpp:62.)\n",
      "  return Variable._execution_engine.run_backward(  # Calls into the C++ engine to run the backward pass\n",
      "100%|██████████| 13/13 [00:00<00:00, 14.49it/s]4 [00:53<00:26,  1.23it/s]\n",
      "100%|██████████| 13/13 [00:01<00:00, 12.88it/s]\n",
      "100%|██████████| 13/13 [00:00<00:00, 14.34it/s]\n",
      "100%|██████████| 13/13 [00:01<00:00, 12.86it/s]\n",
      "100%|██████████| 13/13 [00:00<00:00, 14.34it/s]\n",
      "100%|██████████| 13/13 [00:01<00:00, 12.86it/s]\n",
      "100%|██████████| 13/13 [00:00<00:00, 14.09it/s]\n",
      "100%|██████████| 13/13 [00:01<00:00, 12.83it/s]\n",
      "100%|██████████| 35/35 [00:02<00:00, 13.73it/s]\n",
      "100%|██████████| 35/35 [00:02<00:00, 12.89it/s]\n",
      "100%|██████████| 35/35 [00:02<00:00, 13.64it/s]\n",
      "100%|██████████| 35/35 [00:02<00:00, 12.89it/s]\n",
      "100%|██████████| 35/35 [00:02<00:00, 13.64it/s]\n",
      "100%|██████████| 35/35 [00:02<00:00, 12.89it/s]\n",
      "100%|██████████| 13/13 [00:00<00:00, 14.48it/s]4 [01:34<00:13,  1.24it/s]\n",
      "100%|██████████| 13/13 [00:01<00:00, 12.86it/s]\n",
      "100%|██████████| 13/13 [00:00<00:00, 14.32it/s]\n",
      "100%|██████████| 13/13 [00:01<00:00, 12.86it/s]\n",
      "100%|██████████| 13/13 [00:00<00:00, 14.33it/s]\n",
      "100%|██████████| 13/13 [00:01<00:00, 12.87it/s]\n",
      "100%|██████████| 13/13 [00:00<00:00, 14.07it/s]\n",
      "100%|██████████| 13/13 [00:01<00:00, 12.85it/s]\n",
      "100%|██████████| 35/35 [00:02<00:00, 13.73it/s]\n",
      "100%|██████████| 35/35 [00:02<00:00, 12.89it/s]\n",
      "100%|██████████| 35/35 [00:02<00:00, 13.64it/s]\n",
      "100%|██████████| 35/35 [00:02<00:00, 12.89it/s]\n",
      "100%|██████████| 35/35 [00:02<00:00, 13.63it/s]\n",
      "100%|██████████| 35/35 [00:02<00:00, 12.89it/s]\n",
      "100%|██████████| 13/13 [00:00<00:00, 14.46it/s]4 [02:15<00:00,  1.23it/s]\n",
      "100%|██████████| 13/13 [00:01<00:00, 12.85it/s]\n",
      "100%|██████████| 13/13 [00:00<00:00, 14.34it/s]\n",
      "100%|██████████| 13/13 [00:01<00:00, 12.86it/s]\n",
      "100%|██████████| 13/13 [00:00<00:00, 14.34it/s]\n",
      "100%|██████████| 13/13 [00:01<00:00, 12.84it/s]\n",
      "100%|██████████| 13/13 [00:00<00:00, 14.06it/s]\n",
      "100%|██████████| 13/13 [00:01<00:00, 12.84it/s]\n",
      "100%|██████████| 35/35 [00:02<00:00, 13.72it/s]\n",
      "100%|██████████| 35/35 [00:02<00:00, 12.89it/s]\n",
      "100%|██████████| 35/35 [00:02<00:00, 13.64it/s]\n",
      "100%|██████████| 35/35 [00:02<00:00, 12.89it/s]\n",
      "100%|██████████| 35/35 [00:02<00:00, 13.65it/s]\n",
      "100%|██████████| 35/35 [00:02<00:00, 12.88it/s]\n",
      "training block (epoch 1): 100%|██████████| 64/64 [02:45<00:00,  2.58s/it]\n",
      "100%|██████████| 13/13 [00:00<00:00, 14.48it/s]4 [00:11<00:37,  1.30it/s]\n",
      "100%|██████████| 13/13 [00:01<00:00, 12.87it/s]\n",
      "100%|██████████| 13/13 [00:00<00:00, 14.35it/s]\n",
      "100%|██████████| 13/13 [00:01<00:00, 12.85it/s]\n",
      "100%|██████████| 13/13 [00:00<00:00, 14.35it/s]\n",
      "100%|██████████| 13/13 [00:01<00:00, 12.85it/s]\n",
      "100%|██████████| 13/13 [00:00<00:00, 14.07it/s]\n",
      "100%|██████████| 13/13 [00:01<00:00, 12.85it/s]\n",
      "100%|██████████| 35/35 [00:02<00:00, 13.73it/s]\n",
      "100%|██████████| 35/35 [00:02<00:00, 12.88it/s]\n",
      "100%|██████████| 35/35 [00:02<00:00, 13.64it/s]\n",
      "100%|██████████| 35/35 [00:02<00:00, 12.89it/s]\n",
      "100%|██████████| 35/35 [00:02<00:00, 13.63it/s]\n",
      "100%|██████████| 35/35 [00:02<00:00, 12.88it/s]\n",
      "100%|██████████| 13/13 [00:00<00:00, 14.47it/s]4 [00:52<00:26,  1.23it/s]\n",
      "100%|██████████| 13/13 [00:01<00:00, 12.85it/s]\n",
      "100%|██████████| 13/13 [00:00<00:00, 14.33it/s]\n",
      "100%|██████████| 13/13 [00:01<00:00, 12.87it/s]\n",
      "100%|██████████| 13/13 [00:00<00:00, 14.33it/s]\n",
      "100%|██████████| 13/13 [00:01<00:00, 12.86it/s]\n",
      "100%|██████████| 13/13 [00:00<00:00, 14.08it/s]\n",
      "100%|██████████| 13/13 [00:01<00:00, 12.85it/s]\n",
      "100%|██████████| 35/35 [00:02<00:00, 13.73it/s]\n",
      "100%|██████████| 35/35 [00:02<00:00, 12.89it/s]\n",
      "100%|██████████| 35/35 [00:02<00:00, 13.64it/s]\n",
      "100%|██████████| 35/35 [00:02<00:00, 12.89it/s]\n",
      "100%|██████████| 35/35 [00:02<00:00, 13.63it/s]\n",
      "100%|██████████| 35/35 [00:02<00:00, 12.89it/s]\n",
      "100%|██████████| 13/13 [00:00<00:00, 14.47it/s]4 [01:33<00:13,  1.24it/s]\n",
      "100%|██████████| 13/13 [00:01<00:00, 12.86it/s]\n",
      "100%|██████████| 13/13 [00:00<00:00, 14.35it/s]\n",
      "100%|██████████| 13/13 [00:01<00:00, 12.86it/s]\n",
      "100%|██████████| 13/13 [00:00<00:00, 14.34it/s]\n",
      "100%|██████████| 13/13 [00:01<00:00, 12.85it/s]\n",
      "100%|██████████| 13/13 [00:00<00:00, 14.06it/s]\n",
      "100%|██████████| 13/13 [00:01<00:00, 12.87it/s]\n",
      "100%|██████████| 35/35 [00:02<00:00, 13.73it/s]\n",
      "100%|██████████| 35/35 [00:02<00:00, 12.88it/s]\n",
      "100%|██████████| 35/35 [00:02<00:00, 13.64it/s]\n",
      "100%|██████████| 35/35 [00:02<00:00, 12.89it/s]\n",
      "100%|██████████| 35/35 [00:02<00:00, 13.64it/s]\n",
      "100%|██████████| 35/35 [00:02<00:00, 12.89it/s]\n",
      "100%|██████████| 13/13 [00:00<00:00, 14.47it/s]4 [02:14<00:00,  1.24it/s]\n",
      "100%|██████████| 13/13 [00:01<00:00, 12.84it/s]\n",
      "100%|██████████| 13/13 [00:00<00:00, 14.33it/s]\n",
      "100%|██████████| 13/13 [00:01<00:00, 12.83it/s]\n",
      "100%|██████████| 13/13 [00:00<00:00, 14.33it/s]\n",
      "100%|██████████| 13/13 [00:01<00:00, 12.85it/s]\n",
      "100%|██████████| 13/13 [00:00<00:00, 14.07it/s]\n",
      "100%|██████████| 13/13 [00:01<00:00, 12.84it/s]\n",
      "100%|██████████| 35/35 [00:02<00:00, 13.73it/s]\n",
      "100%|██████████| 35/35 [00:02<00:00, 12.88it/s]\n",
      "100%|██████████| 35/35 [00:02<00:00, 13.64it/s]\n",
      "100%|██████████| 35/35 [00:02<00:00, 12.89it/s]\n",
      "100%|██████████| 35/35 [00:02<00:00, 13.63it/s]\n",
      "100%|██████████| 35/35 [00:02<00:00, 12.89it/s]\n",
      "training block (epoch 2): 100%|██████████| 64/64 [02:43<00:00,  2.56s/it]\n",
      "collecting activations: 100%|██████████| 64/64 [00:19<00:00,  3.33it/s]\n",
      "collecting activations: 100%|██████████| 16/16 [00:04<00:00,  3.34it/s]\n",
      "/home/msst/repo/Quantization/qlib/ptq/homequant_ptq_train.py:222: FutureWarning: You are using `torch.load` with `weights_only=False` (the current default value), which uses the default pickle module implicitly. It is possible to construct malicious pickle data which will execute arbitrary code during unpickling (See https://github.com/pytorch/pytorch/blob/main/SECURITY.md#untrusted-models for more details). In a future release, the default value for `weights_only` will be flipped to `True`. This limits the functions that could be executed during unpickling. Arbitrary objects will no longer be allowed to be loaded via this mode unless they are explicitly allowlisted by the user via `torch.serialization.add_safe_globals`. We recommend you start setting `weights_only=True` for any use case where you don't have full control of the loaded file. Please open an issue on GitHub for any issues related to this experimental feature.\n",
      "  block = torch.load(path_to_fp_block, map_location=self.device_map)\n"
     ]
    },
    {
     "name": "stdout",
     "output_type": "stream",
     "text": [
      "\n",
      "layer_idx: 1\n"
     ]
    },
    {
     "name": "stderr",
     "output_type": "stream",
     "text": [
      "collecting activations: 100%|██████████| 64/64 [00:12<00:00,  5.26it/s]\n",
      "collecting activations: 100%|██████████| 16/16 [00:03<00:00,  5.24it/s]\n",
      "/home/msst/repo/Quantization/qlib/ptq/homequant_ptq_train.py:227: FutureWarning: You are using `torch.load` with `weights_only=False` (the current default value), which uses the default pickle module implicitly. It is possible to construct malicious pickle data which will execute arbitrary code during unpickling (See https://github.com/pytorch/pytorch/blob/main/SECURITY.md#untrusted-models for more details). In a future release, the default value for `weights_only` will be flipped to `True`. This limits the functions that could be executed during unpickling. Arbitrary objects will no longer be allowed to be loaded via this mode unless they are explicitly allowlisted by the user via `torch.serialization.add_safe_globals`. We recommend you start setting `weights_only=True` for any use case where you don't have full control of the loaded file. Please open an issue on GitHub for any issues related to this experimental feature.\n",
      "  block = torch.load(path_to_q_block, map_location=self.device_map)\n",
      "/home/msst/repo/Quantization/qlib/ptq/homequant_ptq_utils.py:18: FutureWarning: You are using `torch.load` with `weights_only=False` (the current default value), which uses the default pickle module implicitly. It is possible to construct malicious pickle data which will execute arbitrary code during unpickling (See https://github.com/pytorch/pytorch/blob/main/SECURITY.md#untrusted-models for more details). In a future release, the default value for `weights_only` will be flipped to `True`. This limits the functions that could be executed during unpickling. Arbitrary objects will no longer be allowed to be loaded via this mode unless they are explicitly allowlisted by the user via `torch.serialization.add_safe_globals`. We recommend you start setting `weights_only=True` for any use case where you don't have full control of the loaded file. Please open an issue on GitHub for any issues related to this experimental feature.\n",
      "  fp_block = torch.load(path_to_fp_block, map_location='cuda')\n",
      "100%|██████████| 13/13 [00:00<00:00, 14.47it/s]4 [00:11<00:37,  1.29it/s]\n",
      "100%|██████████| 13/13 [00:01<00:00, 12.85it/s]\n",
      "100%|██████████| 13/13 [00:00<00:00, 14.33it/s]\n",
      "100%|██████████| 13/13 [00:01<00:00, 12.85it/s]\n",
      "100%|██████████| 13/13 [00:00<00:00, 14.34it/s]\n",
      "100%|██████████| 13/13 [00:01<00:00, 12.86it/s]\n",
      "100%|██████████| 13/13 [00:00<00:00, 14.07it/s]\n",
      "100%|██████████| 13/13 [00:01<00:00, 12.85it/s]\n",
      "100%|██████████| 35/35 [00:02<00:00, 13.73it/s]\n",
      "100%|██████████| 35/35 [00:02<00:00, 12.87it/s]\n",
      "100%|██████████| 35/35 [00:02<00:00, 13.65it/s]\n",
      "100%|██████████| 35/35 [00:02<00:00, 12.89it/s]\n",
      "100%|██████████| 35/35 [00:02<00:00, 13.64it/s]\n",
      "100%|██████████| 35/35 [00:02<00:00, 12.89it/s]\n",
      "training block (epoch 1):  39%|███▉      | 25/64 [00:47<00:43,  1.12s/it]"
     ]
    }
   ],
   "source": [
    "print(\"model_decoder.embed_tokens\")\n",
    "trainer.finetune_block_ptq(\n",
    "        path_to_fp_block = f'{fp_blocks_path}/model.embed_tokens',\n",
    "        path_to_q_block = f'{q_blocks_path}/model.embed_tokens',\n",
    "        path_to_q_block_trained = f'{trained_q_blocks_path}/model.embed_tokens',\n",
    "        train=False,\n",
    "        with_input_preparation=False,\n",
    "    )\n",
    "\n",
    "for layer_idx in range(32):\n",
    "    print()\n",
    "    print('layer_idx:', layer_idx)\n",
    "        \n",
    "    trainer.logger.block_label = f'block.{layer_idx}'\n",
    "    trainer.finetune_block_ptq(\n",
    "        path_to_fp_block = f'{fp_blocks_path}/model.layers.{layer_idx}',\n",
    "        path_to_q_block = f'{q_blocks_path}/model.layers.{layer_idx}',\n",
    "        path_to_q_block_trained = f'{trained_q_blocks_path}/model.layers.{layer_idx}',\n",
    "        train=True,\n",
    "        with_input_preparation=True\n",
    "    )"
   ]
  },
  {
   "cell_type": "code",
   "execution_count": 2,
   "metadata": {},
   "outputs": [
    {
     "name": "stderr",
     "output_type": "stream",
     "text": [
      "/tmp/ipykernel_2277463/383761143.py:3: FutureWarning: You are using `torch.load` with `weights_only=False` (the current default value), which uses the default pickle module implicitly. It is possible to construct malicious pickle data which will execute arbitrary code during unpickling (See https://github.com/pytorch/pytorch/blob/main/SECURITY.md#untrusted-models for more details). In a future release, the default value for `weights_only` will be flipped to `True`. This limits the functions that could be executed during unpickling. Arbitrary objects will no longer be allowed to be loaded via this mode unless they are explicitly allowlisted by the user via `torch.serialization.add_safe_globals`. We recommend you start setting `weights_only=True` for any use case where you don't have full control of the loaded file. Please open an issue on GitHub for any issues related to this experimental feature.\n",
      "  b1 = torch.load('/home/msst/repo/Quantization/logs/llama2-7b/trellis/llama2_trellis_128seq_reassigns/per_block_q_trained/model.layers.0')\n",
      "/tmp/ipykernel_2277463/383761143.py:4: FutureWarning: You are using `torch.load` with `weights_only=False` (the current default value), which uses the default pickle module implicitly. It is possible to construct malicious pickle data which will execute arbitrary code during unpickling (See https://github.com/pytorch/pytorch/blob/main/SECURITY.md#untrusted-models for more details). In a future release, the default value for `weights_only` will be flipped to `True`. This limits the functions that could be executed during unpickling. Arbitrary objects will no longer be allowed to be loaded via this mode unless they are explicitly allowlisted by the user via `torch.serialization.add_safe_globals`. We recommend you start setting `weights_only=True` for any use case where you don't have full control of the loaded file. Please open an issue on GitHub for any issues related to this experimental feature.\n",
      "  b2 = torch.load('/home/msst/repo/Quantization/logs/llama2-7b/trellis/llama2_trellis_128seq/per_block_q_trained/model.layers.0')\n"
     ]
    }
   ],
   "source": [
    "import torch\n",
    "\n",
    "b1 = torch.load('/home/msst/repo/Quantization/logs/llama2-7b/trellis/llama2_trellis_128seq_reassigns/per_block_q_trained/model.layers.0')\n",
    "b2 = torch.load('/home/msst/repo/Quantization/logs/llama2-7b/trellis/llama2_trellis_128seq/per_block_q_trained/model.layers.0')"
   ]
  },
  {
   "cell_type": "code",
   "execution_count": 3,
   "metadata": {},
   "outputs": [
    {
     "name": "stdout",
     "output_type": "stream",
     "text": [
      "self_attn.q_proj tensor(1575, device='cuda:0')\n",
      "self_attn.k_proj tensor(1714, device='cuda:0')\n",
      "self_attn.v_proj tensor(2273, device='cuda:0')\n",
      "self_attn.o_proj tensor(1825, device='cuda:0')\n",
      "mlp.gate_proj tensor(4668, device='cuda:0')\n",
      "mlp.up_proj tensor(4755, device='cuda:0')\n",
      "mlp.down_proj tensor(4257, device='cuda:0')\n"
     ]
    }
   ],
   "source": [
    "submodule_names = [\n",
    "\t\"self_attn.q_proj\",\n",
    "\t\"self_attn.k_proj\",\n",
    "\t\"self_attn.v_proj\",\n",
    "\t\"self_attn.o_proj\",\n",
    "\t'mlp.gate_proj',\n",
    "\t'mlp.up_proj',\n",
    "\t'mlp.down_proj',\n",
    "]\n",
    "for submodule_name in submodule_names:\n",
    "    trellis1 = b1.get_submodule(submodule_name).trellis\n",
    "    trellis2 = b2.get_submodule(submodule_name).trellis\n",
    "\n",
    "    print(submodule_name, (trellis1 != trellis2).sum() // 256)"
   ]
  },
  {
   "cell_type": "code",
   "execution_count": null,
   "metadata": {},
   "outputs": [],
   "source": []
  }
 ],
 "metadata": {
  "kernelspec": {
   "display_name": "qenv",
   "language": "python",
   "name": "python3"
  },
  "language_info": {
   "codemirror_mode": {
    "name": "ipython",
    "version": 3
   },
   "file_extension": ".py",
   "mimetype": "text/x-python",
   "name": "python",
   "nbconvert_exporter": "python",
   "pygments_lexer": "ipython3",
   "version": "3.10.16"
  }
 },
 "nbformat": 4,
 "nbformat_minor": 2
}
