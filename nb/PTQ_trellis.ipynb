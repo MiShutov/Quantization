{
 "cells": [
  {
   "cell_type": "code",
   "execution_count": 1,
   "metadata": {},
   "outputs": [],
   "source": [
    "import torch\n",
    "\n",
    "import sys\n",
    "sys.path.append(\"/home/msst/repo/Quantization\")\n",
    "import qlib\n",
    "\n",
    "map_location = torch.device('cuda:0')"
   ]
  },
  {
   "cell_type": "code",
   "execution_count": 2,
   "metadata": {},
   "outputs": [],
   "source": [
    "import os\n",
    "import shutil\n",
    "import nip\n",
    "\n",
    "path_to_config = '/home/msst/repo/Quantization/configs/vq/llama2_7b/trellis/llama2_trellis_128seq_1e.yaml'\n",
    "\n",
    "config = nip.load(path_to_config)\n",
    "logdir = config['logdir']\n",
    "os.makedirs(logdir, exist_ok=True)\n",
    "try:\n",
    "    shutil.copy(path_to_config, logdir)\n",
    "except shutil.SameFileError:\n",
    "    pass\n",
    "\n",
    "\n",
    "fp_blocks_path = config['fp_blocks_path']\n",
    "q_blocks_path = config['q_blocks_path']\n",
    "trained_q_blocks_path = os.path.join(config['logdir'], 'per_block_q_trained')\n",
    "\n",
    "os.makedirs(trained_q_blocks_path, exist_ok=True)"
   ]
  },
  {
   "cell_type": "code",
   "execution_count": 3,
   "metadata": {},
   "outputs": [
    {
     "name": "stderr",
     "output_type": "stream",
     "text": [
      "/tmp/ipykernel_847158/850949115.py:5: FutureWarning: You are using `torch.load` with `weights_only=False` (the current default value), which uses the default pickle module implicitly. It is possible to construct malicious pickle data which will execute arbitrary code during unpickling (See https://github.com/pytorch/pytorch/blob/main/SECURITY.md#untrusted-models for more details). In a future release, the default value for `weights_only` will be flipped to `True`. This limits the functions that could be executed during unpickling. Arbitrary objects will no longer be allowed to be loaded via this mode unless they are explicitly allowlisted by the user via `torch.serialization.add_safe_globals`. We recommend you start setting `weights_only=True` for any use case where you don't have full control of the loaded file. Please open an issue on GitHub for any issues related to this experimental feature.\n",
      "  rotary_emb=torch.load(f'{config[\"fp_blocks_path\"]}/model.rotary_emb',),\n"
     ]
    },
    {
     "data": {
      "application/vnd.jupyter.widget-view+json": {
       "model_id": "70f316ed566c47129e4ba8f5a5dfc437",
       "version_major": 2,
       "version_minor": 0
      },
      "text/plain": [
       "Resolving data files:   0%|          | 0/200 [00:00<?, ?it/s]"
      ]
     },
     "metadata": {},
     "output_type": "display_data"
    }
   ],
   "source": [
    "trainer = qlib.HomequantTrainerPTQ(\n",
    "    logdir = config['logdir'],\n",
    "    training_config = config['training_params'],\n",
    "    tokenizer=qlib.load_tokenizer(config['model_name']),\n",
    "    rotary_emb=torch.load(f'{config[\"fp_blocks_path\"]}/model.rotary_emb',),\n",
    "\tquant_classes=[qlib.SymHQLinear, qlib.HaarSymHQLinear],\n",
    "\tstore_dtype=torch.float16\n",
    ")"
   ]
  },
  {
   "cell_type": "code",
   "execution_count": 4,
   "metadata": {},
   "outputs": [
    {
     "name": "stdout",
     "output_type": "stream",
     "text": [
      "model_decoder.embed_tokens\n"
     ]
    },
    {
     "name": "stderr",
     "output_type": "stream",
     "text": [
      "/home/msst/repo/Quantization/qlib/ptq/homequant_ptq_train.py:221: FutureWarning: You are using `torch.load` with `weights_only=False` (the current default value), which uses the default pickle module implicitly. It is possible to construct malicious pickle data which will execute arbitrary code during unpickling (See https://github.com/pytorch/pytorch/blob/main/SECURITY.md#untrusted-models for more details). In a future release, the default value for `weights_only` will be flipped to `True`. This limits the functions that could be executed during unpickling. Arbitrary objects will no longer be allowed to be loaded via this mode unless they are explicitly allowlisted by the user via `torch.serialization.add_safe_globals`. We recommend you start setting `weights_only=True` for any use case where you don't have full control of the loaded file. Please open an issue on GitHub for any issues related to this experimental feature.\n",
      "  block = torch.load(path_to_fp_block, map_location=self.device_map)\n",
      "collecting activations: 100%|██████████| 64/64 [00:02<00:00, 31.00it/s]\n",
      "collecting activations: 100%|██████████| 16/16 [00:00<00:00, 32.15it/s]\n",
      "/home/msst/repo/Quantization/qlib/ptq/homequant_ptq_train.py:226: FutureWarning: You are using `torch.load` with `weights_only=False` (the current default value), which uses the default pickle module implicitly. It is possible to construct malicious pickle data which will execute arbitrary code during unpickling (See https://github.com/pytorch/pytorch/blob/main/SECURITY.md#untrusted-models for more details). In a future release, the default value for `weights_only` will be flipped to `True`. This limits the functions that could be executed during unpickling. Arbitrary objects will no longer be allowed to be loaded via this mode unless they are explicitly allowlisted by the user via `torch.serialization.add_safe_globals`. We recommend you start setting `weights_only=True` for any use case where you don't have full control of the loaded file. Please open an issue on GitHub for any issues related to this experimental feature.\n",
      "  block = torch.load(path_to_q_block, map_location=self.device_map)\n",
      "collecting activations: 100%|██████████| 64/64 [00:01<00:00, 32.65it/s]\n",
      "collecting activations: 100%|██████████| 16/16 [00:00<00:00, 31.54it/s]\n"
     ]
    },
    {
     "name": "stdout",
     "output_type": "stream",
     "text": [
      "\n",
      "layer_idx: 0\n"
     ]
    },
    {
     "name": "stderr",
     "output_type": "stream",
     "text": [
      "collecting activations: 100%|██████████| 64/64 [00:13<00:00,  4.92it/s]\n",
      "collecting activations: 100%|██████████| 16/16 [00:03<00:00,  5.25it/s]\n",
      "training block (epoch 1):   0%|          | 0/64 [00:00<?, ?it/s]/home/msst/miniconda3/envs/qenv/lib/python3.10/site-packages/torch/autograd/graph.py:825: UserWarning: quip_lib::hadamard: an autograd kernel was not registered to the Autograd key(s) but we are trying to backprop through it. This may lead to silently incorrect behavior. This behavior is deprecated and will be removed in a future version of PyTorch. If your operator is differentiable, please ensure you have registered an autograd kernel to the correct Autograd key (e.g. DispatchKey::Autograd, DispatchKey::CompositeImplicitAutograd). If your operator is not differentiable, or to squash this warning and use the previous behavior, please register torch::CppFunction::makeFallthrough() to DispatchKey::Autograd. (Triggered internally at ../torch/csrc/autograd/autograd_not_implemented_fallback.cpp:62.)\n",
      "  return Variable._execution_engine.run_backward(  # Calls into the C++ engine to run the backward pass\n",
      "training block (epoch 1): 100%|██████████| 64/64 [01:03<00:00,  1.01it/s]\n",
      "collecting activations: 100%|██████████| 64/64 [00:18<00:00,  3.46it/s]\n",
      "collecting activations: 100%|██████████| 16/16 [00:04<00:00,  3.47it/s]\n"
     ]
    },
    {
     "name": "stdout",
     "output_type": "stream",
     "text": [
      "\n",
      "layer_idx: 1\n"
     ]
    },
    {
     "name": "stderr",
     "output_type": "stream",
     "text": [
      "/home/msst/repo/Quantization/qlib/ptq/homequant_ptq_train.py:221: FutureWarning: You are using `torch.load` with `weights_only=False` (the current default value), which uses the default pickle module implicitly. It is possible to construct malicious pickle data which will execute arbitrary code during unpickling (See https://github.com/pytorch/pytorch/blob/main/SECURITY.md#untrusted-models for more details). In a future release, the default value for `weights_only` will be flipped to `True`. This limits the functions that could be executed during unpickling. Arbitrary objects will no longer be allowed to be loaded via this mode unless they are explicitly allowlisted by the user via `torch.serialization.add_safe_globals`. We recommend you start setting `weights_only=True` for any use case where you don't have full control of the loaded file. Please open an issue on GitHub for any issues related to this experimental feature.\n",
      "  block = torch.load(path_to_fp_block, map_location=self.device_map)\n",
      "collecting activations: 100%|██████████| 64/64 [00:12<00:00,  4.97it/s]\n",
      "collecting activations: 100%|██████████| 16/16 [00:03<00:00,  5.16it/s]\n",
      "/home/msst/repo/Quantization/qlib/ptq/homequant_ptq_train.py:226: FutureWarning: You are using `torch.load` with `weights_only=False` (the current default value), which uses the default pickle module implicitly. It is possible to construct malicious pickle data which will execute arbitrary code during unpickling (See https://github.com/pytorch/pytorch/blob/main/SECURITY.md#untrusted-models for more details). In a future release, the default value for `weights_only` will be flipped to `True`. This limits the functions that could be executed during unpickling. Arbitrary objects will no longer be allowed to be loaded via this mode unless they are explicitly allowlisted by the user via `torch.serialization.add_safe_globals`. We recommend you start setting `weights_only=True` for any use case where you don't have full control of the loaded file. Please open an issue on GitHub for any issues related to this experimental feature.\n",
      "  block = torch.load(path_to_q_block, map_location=self.device_map)\n",
      "training block (epoch 1): 100%|██████████| 64/64 [01:01<00:00,  1.05it/s]\n",
      "collecting activations: 100%|██████████| 64/64 [00:18<00:00,  3.51it/s]\n",
      "collecting activations: 100%|██████████| 16/16 [00:04<00:00,  3.44it/s]\n"
     ]
    },
    {
     "name": "stdout",
     "output_type": "stream",
     "text": [
      "\n",
      "layer_idx: 2\n"
     ]
    },
    {
     "name": "stderr",
     "output_type": "stream",
     "text": [
      "collecting activations: 100%|██████████| 64/64 [00:12<00:00,  5.03it/s]\n",
      "collecting activations: 100%|██████████| 16/16 [00:03<00:00,  5.22it/s]\n",
      "training block (epoch 1): 100%|██████████| 64/64 [01:01<00:00,  1.05it/s]\n",
      "collecting activations: 100%|██████████| 64/64 [00:18<00:00,  3.50it/s]\n",
      "collecting activations: 100%|██████████| 16/16 [00:04<00:00,  3.64it/s]\n"
     ]
    },
    {
     "name": "stdout",
     "output_type": "stream",
     "text": [
      "\n",
      "layer_idx: 3\n"
     ]
    },
    {
     "name": "stderr",
     "output_type": "stream",
     "text": [
      "collecting activations: 100%|██████████| 64/64 [00:11<00:00,  5.39it/s]\n",
      "collecting activations: 100%|██████████| 16/16 [00:03<00:00,  5.25it/s]\n",
      "training block (epoch 1): 100%|██████████| 64/64 [01:00<00:00,  1.05it/s]\n",
      "collecting activations: 100%|██████████| 64/64 [00:18<00:00,  3.44it/s]\n",
      "collecting activations: 100%|██████████| 16/16 [00:04<00:00,  3.55it/s]\n"
     ]
    },
    {
     "name": "stdout",
     "output_type": "stream",
     "text": [
      "\n",
      "layer_idx: 4\n"
     ]
    },
    {
     "name": "stderr",
     "output_type": "stream",
     "text": [
      "collecting activations: 100%|██████████| 64/64 [00:12<00:00,  5.14it/s]\n",
      "collecting activations: 100%|██████████| 16/16 [00:03<00:00,  5.20it/s]\n",
      "training block (epoch 1): 100%|██████████| 64/64 [01:00<00:00,  1.05it/s]\n",
      "collecting activations: 100%|██████████| 64/64 [00:18<00:00,  3.45it/s]\n",
      "collecting activations: 100%|██████████| 16/16 [00:04<00:00,  3.44it/s]\n"
     ]
    },
    {
     "name": "stdout",
     "output_type": "stream",
     "text": [
      "\n",
      "layer_idx: 5\n"
     ]
    },
    {
     "name": "stderr",
     "output_type": "stream",
     "text": [
      "collecting activations: 100%|██████████| 64/64 [00:12<00:00,  5.24it/s]\n",
      "collecting activations: 100%|██████████| 16/16 [00:02<00:00,  5.34it/s]\n",
      "training block (epoch 1): 100%|██████████| 64/64 [01:00<00:00,  1.06it/s]\n",
      "collecting activations: 100%|██████████| 64/64 [00:17<00:00,  3.59it/s]\n",
      "collecting activations: 100%|██████████| 16/16 [00:04<00:00,  3.66it/s]\n"
     ]
    },
    {
     "name": "stdout",
     "output_type": "stream",
     "text": [
      "\n",
      "layer_idx: 6\n"
     ]
    },
    {
     "name": "stderr",
     "output_type": "stream",
     "text": [
      "collecting activations: 100%|██████████| 64/64 [00:12<00:00,  5.25it/s]\n",
      "collecting activations: 100%|██████████| 16/16 [00:03<00:00,  5.25it/s]\n",
      "training block (epoch 1): 100%|██████████| 64/64 [01:00<00:00,  1.06it/s]\n",
      "collecting activations: 100%|██████████| 64/64 [00:17<00:00,  3.58it/s]\n",
      "collecting activations: 100%|██████████| 16/16 [00:04<00:00,  3.66it/s]\n"
     ]
    },
    {
     "name": "stdout",
     "output_type": "stream",
     "text": [
      "\n",
      "layer_idx: 7\n"
     ]
    },
    {
     "name": "stderr",
     "output_type": "stream",
     "text": [
      "collecting activations: 100%|██████████| 64/64 [00:12<00:00,  5.29it/s]\n",
      "collecting activations: 100%|██████████| 16/16 [00:03<00:00,  5.18it/s]\n",
      "training block (epoch 1): 100%|██████████| 64/64 [01:00<00:00,  1.05it/s]\n",
      "collecting activations: 100%|██████████| 64/64 [00:17<00:00,  3.62it/s]\n",
      "collecting activations: 100%|██████████| 16/16 [00:04<00:00,  3.63it/s]\n"
     ]
    },
    {
     "name": "stdout",
     "output_type": "stream",
     "text": [
      "\n",
      "layer_idx: 8\n"
     ]
    },
    {
     "name": "stderr",
     "output_type": "stream",
     "text": [
      "collecting activations: 100%|██████████| 64/64 [00:11<00:00,  5.40it/s]\n",
      "collecting activations: 100%|██████████| 16/16 [00:02<00:00,  5.39it/s]\n",
      "training block (epoch 1): 100%|██████████| 64/64 [00:59<00:00,  1.07it/s]\n",
      "collecting activations: 100%|██████████| 64/64 [00:17<00:00,  3.62it/s]\n",
      "collecting activations: 100%|██████████| 16/16 [00:04<00:00,  3.63it/s]\n"
     ]
    },
    {
     "name": "stdout",
     "output_type": "stream",
     "text": [
      "\n",
      "layer_idx: 9\n"
     ]
    },
    {
     "name": "stderr",
     "output_type": "stream",
     "text": [
      "collecting activations: 100%|██████████| 64/64 [00:11<00:00,  5.43it/s]\n",
      "collecting activations: 100%|██████████| 16/16 [00:02<00:00,  5.45it/s]\n",
      "training block (epoch 1): 100%|██████████| 64/64 [01:00<00:00,  1.05it/s]\n",
      "collecting activations: 100%|██████████| 64/64 [00:17<00:00,  3.59it/s]\n",
      "collecting activations: 100%|██████████| 16/16 [00:04<00:00,  3.66it/s]\n"
     ]
    },
    {
     "name": "stdout",
     "output_type": "stream",
     "text": [
      "\n",
      "layer_idx: 10\n"
     ]
    },
    {
     "name": "stderr",
     "output_type": "stream",
     "text": [
      "collecting activations: 100%|██████████| 64/64 [00:12<00:00,  5.23it/s]\n",
      "collecting activations: 100%|██████████| 16/16 [00:03<00:00,  5.24it/s]\n",
      "training block (epoch 1): 100%|██████████| 64/64 [00:59<00:00,  1.07it/s]\n",
      "collecting activations: 100%|██████████| 64/64 [00:17<00:00,  3.63it/s]\n",
      "collecting activations: 100%|██████████| 16/16 [00:04<00:00,  3.65it/s]\n"
     ]
    },
    {
     "name": "stdout",
     "output_type": "stream",
     "text": [
      "\n",
      "layer_idx: 11\n"
     ]
    },
    {
     "name": "stderr",
     "output_type": "stream",
     "text": [
      "collecting activations: 100%|██████████| 64/64 [00:11<00:00,  5.34it/s]\n",
      "collecting activations: 100%|██████████| 16/16 [00:02<00:00,  5.41it/s]\n",
      "training block (epoch 1): 100%|██████████| 64/64 [01:00<00:00,  1.07it/s]\n",
      "collecting activations: 100%|██████████| 64/64 [00:17<00:00,  3.64it/s]\n",
      "collecting activations: 100%|██████████| 16/16 [00:04<00:00,  3.63it/s]\n"
     ]
    },
    {
     "name": "stdout",
     "output_type": "stream",
     "text": [
      "\n",
      "layer_idx: 12\n"
     ]
    },
    {
     "name": "stderr",
     "output_type": "stream",
     "text": [
      "collecting activations: 100%|██████████| 64/64 [00:11<00:00,  5.42it/s]\n",
      "collecting activations: 100%|██████████| 16/16 [00:02<00:00,  5.41it/s]\n",
      "training block (epoch 1): 100%|██████████| 64/64 [00:59<00:00,  1.07it/s]\n",
      "collecting activations: 100%|██████████| 64/64 [00:17<00:00,  3.63it/s]\n",
      "collecting activations: 100%|██████████| 16/16 [00:04<00:00,  3.64it/s]\n"
     ]
    },
    {
     "name": "stdout",
     "output_type": "stream",
     "text": [
      "\n",
      "layer_idx: 13\n"
     ]
    },
    {
     "name": "stderr",
     "output_type": "stream",
     "text": [
      "collecting activations: 100%|██████████| 64/64 [00:11<00:00,  5.45it/s]\n",
      "collecting activations: 100%|██████████| 16/16 [00:02<00:00,  5.47it/s]\n",
      "training block (epoch 1): 100%|██████████| 64/64 [00:59<00:00,  1.07it/s]\n",
      "collecting activations: 100%|██████████| 64/64 [00:17<00:00,  3.63it/s]\n",
      "collecting activations: 100%|██████████| 16/16 [00:04<00:00,  3.62it/s]\n"
     ]
    },
    {
     "name": "stdout",
     "output_type": "stream",
     "text": [
      "\n",
      "layer_idx: 14\n"
     ]
    },
    {
     "name": "stderr",
     "output_type": "stream",
     "text": [
      "collecting activations: 100%|██████████| 64/64 [00:11<00:00,  5.42it/s]\n",
      "collecting activations: 100%|██████████| 16/16 [00:02<00:00,  5.45it/s]\n",
      "training block (epoch 1): 100%|██████████| 64/64 [00:59<00:00,  1.07it/s]\n",
      "collecting activations: 100%|██████████| 64/64 [00:17<00:00,  3.65it/s]\n",
      "collecting activations: 100%|██████████| 16/16 [00:04<00:00,  3.65it/s]\n"
     ]
    },
    {
     "name": "stdout",
     "output_type": "stream",
     "text": [
      "\n",
      "layer_idx: 15\n"
     ]
    },
    {
     "name": "stderr",
     "output_type": "stream",
     "text": [
      "collecting activations: 100%|██████████| 64/64 [00:11<00:00,  5.45it/s]\n",
      "collecting activations: 100%|██████████| 16/16 [00:02<00:00,  5.43it/s]\n",
      "training block (epoch 1): 100%|██████████| 64/64 [01:01<00:00,  1.04it/s]\n",
      "collecting activations: 100%|██████████| 64/64 [00:18<00:00,  3.50it/s]\n",
      "collecting activations: 100%|██████████| 16/16 [00:04<00:00,  3.32it/s]\n"
     ]
    },
    {
     "name": "stdout",
     "output_type": "stream",
     "text": [
      "\n",
      "layer_idx: 16\n"
     ]
    },
    {
     "name": "stderr",
     "output_type": "stream",
     "text": [
      "collecting activations: 100%|██████████| 64/64 [00:12<00:00,  4.93it/s]\n",
      "collecting activations: 100%|██████████| 16/16 [00:03<00:00,  5.15it/s]\n",
      "training block (epoch 1): 100%|██████████| 64/64 [01:00<00:00,  1.05it/s]\n",
      "collecting activations: 100%|██████████| 64/64 [00:18<00:00,  3.54it/s]\n",
      "collecting activations: 100%|██████████| 16/16 [00:04<00:00,  3.53it/s]\n"
     ]
    },
    {
     "name": "stdout",
     "output_type": "stream",
     "text": [
      "\n",
      "layer_idx: 17\n"
     ]
    },
    {
     "name": "stderr",
     "output_type": "stream",
     "text": [
      "collecting activations: 100%|██████████| 64/64 [00:12<00:00,  5.19it/s]\n",
      "collecting activations: 100%|██████████| 16/16 [00:03<00:00,  5.22it/s]\n",
      "training block (epoch 1): 100%|██████████| 64/64 [01:01<00:00,  1.04it/s]\n",
      "collecting activations: 100%|██████████| 64/64 [00:18<00:00,  3.48it/s]\n",
      "collecting activations: 100%|██████████| 16/16 [00:04<00:00,  3.52it/s]\n"
     ]
    },
    {
     "name": "stdout",
     "output_type": "stream",
     "text": [
      "\n",
      "layer_idx: 18\n"
     ]
    },
    {
     "name": "stderr",
     "output_type": "stream",
     "text": [
      "collecting activations: 100%|██████████| 64/64 [00:12<00:00,  5.01it/s]\n",
      "collecting activations: 100%|██████████| 16/16 [00:03<00:00,  4.85it/s]\n",
      "training block (epoch 1): 100%|██████████| 64/64 [01:01<00:00,  1.03it/s]\n",
      "collecting activations: 100%|██████████| 64/64 [00:19<00:00,  3.37it/s]\n",
      "collecting activations: 100%|██████████| 16/16 [00:04<00:00,  3.40it/s]\n"
     ]
    },
    {
     "name": "stdout",
     "output_type": "stream",
     "text": [
      "\n",
      "layer_idx: 19\n"
     ]
    },
    {
     "name": "stderr",
     "output_type": "stream",
     "text": [
      "collecting activations: 100%|██████████| 64/64 [00:12<00:00,  4.99it/s]\n",
      "collecting activations: 100%|██████████| 16/16 [00:03<00:00,  5.10it/s]\n",
      "training block (epoch 1): 100%|██████████| 64/64 [01:01<00:00,  1.04it/s]\n",
      "collecting activations: 100%|██████████| 64/64 [00:18<00:00,  3.46it/s]\n",
      "collecting activations: 100%|██████████| 16/16 [00:04<00:00,  3.50it/s]\n"
     ]
    },
    {
     "name": "stdout",
     "output_type": "stream",
     "text": [
      "\n",
      "layer_idx: 20\n"
     ]
    },
    {
     "name": "stderr",
     "output_type": "stream",
     "text": [
      "collecting activations: 100%|██████████| 64/64 [00:12<00:00,  5.00it/s]\n",
      "collecting activations: 100%|██████████| 16/16 [00:03<00:00,  4.96it/s]\n",
      "training block (epoch 1): 100%|██████████| 64/64 [01:00<00:00,  1.05it/s]\n",
      "collecting activations: 100%|██████████| 64/64 [00:18<00:00,  3.50it/s]\n",
      "collecting activations: 100%|██████████| 16/16 [00:04<00:00,  3.52it/s]\n"
     ]
    },
    {
     "name": "stdout",
     "output_type": "stream",
     "text": [
      "\n",
      "layer_idx: 21\n"
     ]
    },
    {
     "name": "stderr",
     "output_type": "stream",
     "text": [
      "collecting activations: 100%|██████████| 64/64 [00:12<00:00,  5.17it/s]\n",
      "collecting activations: 100%|██████████| 16/16 [00:03<00:00,  5.03it/s]\n",
      "training block (epoch 1): 100%|██████████| 64/64 [01:00<00:00,  1.05it/s]\n",
      "collecting activations: 100%|██████████| 64/64 [00:18<00:00,  3.50it/s]\n",
      "collecting activations: 100%|██████████| 16/16 [00:04<00:00,  3.53it/s]\n"
     ]
    },
    {
     "name": "stdout",
     "output_type": "stream",
     "text": [
      "\n",
      "layer_idx: 22\n"
     ]
    },
    {
     "name": "stderr",
     "output_type": "stream",
     "text": [
      "collecting activations: 100%|██████████| 64/64 [00:12<00:00,  5.21it/s]\n",
      "collecting activations: 100%|██████████| 16/16 [00:03<00:00,  5.20it/s]\n",
      "training block (epoch 1): 100%|██████████| 64/64 [01:00<00:00,  1.05it/s]\n",
      "collecting activations: 100%|██████████| 64/64 [00:18<00:00,  3.52it/s]\n",
      "collecting activations: 100%|██████████| 16/16 [00:04<00:00,  3.54it/s]\n"
     ]
    },
    {
     "name": "stdout",
     "output_type": "stream",
     "text": [
      "\n",
      "layer_idx: 23\n"
     ]
    },
    {
     "name": "stderr",
     "output_type": "stream",
     "text": [
      "collecting activations: 100%|██████████| 64/64 [00:12<00:00,  5.16it/s]\n",
      "collecting activations: 100%|██████████| 16/16 [00:03<00:00,  5.18it/s]\n",
      "training block (epoch 1): 100%|██████████| 64/64 [01:00<00:00,  1.06it/s]\n",
      "collecting activations: 100%|██████████| 64/64 [00:18<00:00,  3.52it/s]\n",
      "collecting activations: 100%|██████████| 16/16 [00:04<00:00,  3.52it/s]\n"
     ]
    },
    {
     "name": "stdout",
     "output_type": "stream",
     "text": [
      "\n",
      "layer_idx: 24\n"
     ]
    },
    {
     "name": "stderr",
     "output_type": "stream",
     "text": [
      "collecting activations: 100%|██████████| 64/64 [00:12<00:00,  5.11it/s]\n",
      "collecting activations: 100%|██████████| 16/16 [00:03<00:00,  5.14it/s]\n",
      "training block (epoch 1): 100%|██████████| 64/64 [01:01<00:00,  1.05it/s]\n",
      "collecting activations: 100%|██████████| 64/64 [00:18<00:00,  3.50it/s]\n",
      "collecting activations: 100%|██████████| 16/16 [00:04<00:00,  3.50it/s]\n"
     ]
    },
    {
     "name": "stdout",
     "output_type": "stream",
     "text": [
      "\n",
      "layer_idx: 25\n"
     ]
    },
    {
     "name": "stderr",
     "output_type": "stream",
     "text": [
      "collecting activations: 100%|██████████| 64/64 [00:12<00:00,  5.14it/s]\n",
      "collecting activations: 100%|██████████| 16/16 [00:03<00:00,  5.12it/s]\n",
      "training block (epoch 1): 100%|██████████| 64/64 [01:01<00:00,  1.05it/s]\n",
      "collecting activations: 100%|██████████| 64/64 [00:18<00:00,  3.49it/s]\n",
      "collecting activations: 100%|██████████| 16/16 [00:04<00:00,  3.50it/s]\n"
     ]
    },
    {
     "name": "stdout",
     "output_type": "stream",
     "text": [
      "\n",
      "layer_idx: 26\n"
     ]
    },
    {
     "name": "stderr",
     "output_type": "stream",
     "text": [
      "collecting activations: 100%|██████████| 64/64 [00:12<00:00,  5.07it/s]\n",
      "collecting activations: 100%|██████████| 16/16 [00:03<00:00,  5.14it/s]\n",
      "training block (epoch 1): 100%|██████████| 64/64 [01:00<00:00,  1.05it/s]\n",
      "collecting activations: 100%|██████████| 64/64 [00:18<00:00,  3.49it/s]\n",
      "collecting activations: 100%|██████████| 16/16 [00:04<00:00,  3.50it/s]\n"
     ]
    },
    {
     "name": "stdout",
     "output_type": "stream",
     "text": [
      "\n",
      "layer_idx: 27\n"
     ]
    },
    {
     "name": "stderr",
     "output_type": "stream",
     "text": [
      "collecting activations: 100%|██████████| 64/64 [00:12<00:00,  5.06it/s]\n",
      "collecting activations: 100%|██████████| 16/16 [00:03<00:00,  4.99it/s]\n",
      "training block (epoch 1): 100%|██████████| 64/64 [01:00<00:00,  1.05it/s]\n",
      "collecting activations: 100%|██████████| 64/64 [00:18<00:00,  3.50it/s]\n",
      "collecting activations: 100%|██████████| 16/16 [00:04<00:00,  3.49it/s]\n"
     ]
    },
    {
     "name": "stdout",
     "output_type": "stream",
     "text": [
      "\n",
      "layer_idx: 28\n"
     ]
    },
    {
     "name": "stderr",
     "output_type": "stream",
     "text": [
      "collecting activations: 100%|██████████| 64/64 [00:12<00:00,  5.09it/s]\n",
      "collecting activations: 100%|██████████| 16/16 [00:03<00:00,  5.04it/s]\n",
      "training block (epoch 1): 100%|██████████| 64/64 [01:00<00:00,  1.05it/s]\n",
      "collecting activations: 100%|██████████| 64/64 [00:18<00:00,  3.51it/s]\n",
      "collecting activations: 100%|██████████| 16/16 [00:04<00:00,  3.51it/s]\n"
     ]
    },
    {
     "name": "stdout",
     "output_type": "stream",
     "text": [
      "\n",
      "layer_idx: 29\n"
     ]
    },
    {
     "name": "stderr",
     "output_type": "stream",
     "text": [
      "collecting activations: 100%|██████████| 64/64 [00:12<00:00,  5.19it/s]\n",
      "collecting activations: 100%|██████████| 16/16 [00:03<00:00,  5.21it/s]\n",
      "training block (epoch 1): 100%|██████████| 64/64 [01:01<00:00,  1.05it/s]\n",
      "collecting activations: 100%|██████████| 64/64 [00:18<00:00,  3.51it/s]\n",
      "collecting activations: 100%|██████████| 16/16 [00:04<00:00,  3.53it/s]\n"
     ]
    },
    {
     "name": "stdout",
     "output_type": "stream",
     "text": [
      "\n",
      "layer_idx: 30\n"
     ]
    },
    {
     "name": "stderr",
     "output_type": "stream",
     "text": [
      "collecting activations: 100%|██████████| 64/64 [00:12<00:00,  5.18it/s]\n",
      "collecting activations: 100%|██████████| 16/16 [00:03<00:00,  5.18it/s]\n",
      "training block (epoch 1): 100%|██████████| 64/64 [01:00<00:00,  1.05it/s]\n",
      "collecting activations: 100%|██████████| 64/64 [00:18<00:00,  3.49it/s]\n",
      "collecting activations: 100%|██████████| 16/16 [00:04<00:00,  3.46it/s]\n"
     ]
    },
    {
     "name": "stdout",
     "output_type": "stream",
     "text": [
      "\n",
      "layer_idx: 31\n"
     ]
    },
    {
     "name": "stderr",
     "output_type": "stream",
     "text": [
      "collecting activations: 100%|██████████| 64/64 [00:12<00:00,  5.06it/s]\n",
      "collecting activations: 100%|██████████| 16/16 [00:03<00:00,  5.14it/s]\n",
      "training block (epoch 1): 100%|██████████| 64/64 [01:00<00:00,  1.06it/s]\n",
      "collecting activations: 100%|██████████| 64/64 [00:18<00:00,  3.52it/s]\n",
      "collecting activations: 100%|██████████| 16/16 [00:04<00:00,  3.49it/s]\n"
     ]
    }
   ],
   "source": [
    "print(\"model_decoder.embed_tokens\")\n",
    "trainer.finetune_block_ptq(\n",
    "        path_to_fp_block = f'{fp_blocks_path}/model.embed_tokens',\n",
    "        path_to_q_block = f'{q_blocks_path}/model.embed_tokens',\n",
    "        path_to_q_block_trained = f'{trained_q_blocks_path}/model.embed_tokens',\n",
    "        train=False,\n",
    "        with_input_preparation=False,\n",
    "    )\n",
    "\n",
    "for layer_idx in range(32):\n",
    "    print()\n",
    "    print('layer_idx:', layer_idx)\n",
    "        \n",
    "    trainer.logger.block_label = f'block.{layer_idx}'\n",
    "    trainer.finetune_block_ptq(\n",
    "        path_to_fp_block = f'{fp_blocks_path}/model.layers.{layer_idx}',\n",
    "        path_to_q_block = f'{q_blocks_path}/model.layers.{layer_idx}',\n",
    "        path_to_q_block_trained = f'{trained_q_blocks_path}/model.layers.{layer_idx}',\n",
    "        train=True,\n",
    "        with_input_preparation=True,\n",
    "    )"
   ]
  },
  {
   "cell_type": "code",
   "execution_count": null,
   "metadata": {},
   "outputs": [],
   "source": []
  }
 ],
 "metadata": {
  "kernelspec": {
   "display_name": "qenv",
   "language": "python",
   "name": "python3"
  },
  "language_info": {
   "codemirror_mode": {
    "name": "ipython",
    "version": 3
   },
   "file_extension": ".py",
   "mimetype": "text/x-python",
   "name": "python",
   "nbconvert_exporter": "python",
   "pygments_lexer": "ipython3",
   "version": "3.10.16"
  }
 },
 "nbformat": 4,
 "nbformat_minor": 2
}
