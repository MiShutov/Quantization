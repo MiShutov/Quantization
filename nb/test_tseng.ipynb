{
 "cells": [
  {
   "cell_type": "code",
   "execution_count": 2,
   "metadata": {},
   "outputs": [],
   "source": [
    "import torch"
   ]
  },
  {
   "cell_type": "code",
   "execution_count": 12,
   "metadata": {},
   "outputs": [
    {
     "name": "stdout",
     "output_type": "stream",
     "text": [
      "tensor([[ 0,  1,  2,  3,  4,  5,  6,  7],\n",
      "        [ 8,  9, 10, 11, 12, 13, 14, 15],\n",
      "        [16, 17, 18, 19, 20, 21, 22, 23],\n",
      "        [24, 25, 26, 27, 28, 29, 30, 31],\n",
      "        [32, 33, 34, 35, 36, 37, 38, 39],\n",
      "        [40, 41, 42, 43, 44, 45, 46, 47],\n",
      "        [48, 49, 50, 51, 52, 53, 54, 55],\n",
      "        [56, 57, 58, 59, 60, 61, 62, 63]])\n"
     ]
    }
   ],
   "source": [
    "size = 8\n",
    "m, n = size, size\n",
    "tp_rank = 2\n",
    "\n",
    "W = torch.arange(size**2).reshape(size, size)\n",
    "\n",
    "Wr = W\n",
    "print(Wr)"
   ]
  },
  {
   "cell_type": "code",
   "execution_count": 13,
   "metadata": {},
   "outputs": [
    {
     "name": "stdout",
     "output_type": "stream",
     "text": [
      "torch.Size([4, 16])\n",
      "tensor([[ 0,  1,  2,  3,  8,  9, 10, 11, 16, 17, 18, 19, 24, 25, 26, 27],\n",
      "        [ 4,  5,  6,  7, 12, 13, 14, 15, 20, 21, 22, 23, 28, 29, 30, 31],\n",
      "        [32, 33, 34, 35, 40, 41, 42, 43, 48, 49, 50, 51, 56, 57, 58, 59],\n",
      "        [36, 37, 38, 39, 44, 45, 46, 47, 52, 53, 54, 55, 60, 61, 62, 63]])\n"
     ]
    }
   ],
   "source": [
    "td_x = td_y = 4\n",
    "\n",
    "Wr_ = Wr.reshape(m // td_x, td_x, n // td_y, td_y).transpose(1, 2).reshape(-1, td_x * td_y)\n",
    "\n",
    "print(Wr_.shape)\n",
    "print(Wr_)"
   ]
  },
  {
   "cell_type": "code",
   "execution_count": 14,
   "metadata": {},
   "outputs": [
    {
     "ename": "NameError",
     "evalue": "name 'packed' is not defined",
     "output_type": "error",
     "traceback": [
      "\u001b[0;31m---------------------------------------------------------------------------\u001b[0m",
      "\u001b[0;31mNameError\u001b[0m                                 Traceback (most recent call last)",
      "Cell \u001b[0;32mIn[14], line 4\u001b[0m\n\u001b[1;32m      1\u001b[0m has_kernel \u001b[38;5;241m=\u001b[39m \u001b[38;5;28;01mTrue\u001b[39;00m\n\u001b[1;32m      3\u001b[0m \u001b[38;5;28;01mif\u001b[39;00m has_kernel:\n\u001b[0;32m----> 4\u001b[0m     packed \u001b[38;5;241m=\u001b[39m \u001b[43mpacked\u001b[49m\u001b[38;5;241m.\u001b[39mview(torch\u001b[38;5;241m.\u001b[39muint8)\u001b[38;5;241m.\u001b[39mview(\u001b[38;5;241m-\u001b[39m\u001b[38;5;241m1\u001b[39m, \u001b[38;5;241m2\u001b[39m)\u001b[38;5;241m.\u001b[39mflip(\n\u001b[1;32m      5\u001b[0m         (\u001b[38;5;241m-\u001b[39m\u001b[38;5;241m1\u001b[39m, ))\u001b[38;5;241m.\u001b[39mreshape(m \u001b[38;5;241m/\u001b[39m\u001b[38;5;241m/\u001b[39m \u001b[38;5;241m16\u001b[39m \u001b[38;5;241m/\u001b[39m\u001b[38;5;241m/\u001b[39m \u001b[38;5;241m2\u001b[39m, \u001b[38;5;241m2\u001b[39m, n \u001b[38;5;241m/\u001b[39m\u001b[38;5;241m/\u001b[39m \u001b[38;5;241m16\u001b[39m \u001b[38;5;241m/\u001b[39m\u001b[38;5;241m/\u001b[39m \u001b[38;5;241m2\u001b[39m, \u001b[38;5;241m2\u001b[39m, \u001b[38;5;241m16\u001b[39m \u001b[38;5;241m*\u001b[39m \u001b[38;5;241m16\u001b[39m \u001b[38;5;241m/\u001b[39m\u001b[38;5;241m/\u001b[39m \u001b[38;5;241m8\u001b[39m,\n\u001b[1;32m      6\u001b[0m                         args\u001b[38;5;241m.\u001b[39mK)\u001b[38;5;241m.\u001b[39mpermute(\u001b[38;5;241m0\u001b[39m, \u001b[38;5;241m2\u001b[39m, \u001b[38;5;241m4\u001b[39m, \u001b[38;5;241m3\u001b[39m, \u001b[38;5;241m1\u001b[39m, \u001b[38;5;241m5\u001b[39m)\u001b[38;5;241m.\u001b[39mflip(\n\u001b[1;32m      7\u001b[0m                             (\u001b[38;5;241m-\u001b[39m\u001b[38;5;241m1\u001b[39m, ))\u001b[38;5;241m.\u001b[39mcontiguous()\u001b[38;5;241m.\u001b[39mflatten()\u001b[38;5;241m.\u001b[39mview(\n\u001b[1;32m      8\u001b[0m                                 torch\u001b[38;5;241m.\u001b[39mint16)\u001b[38;5;241m.\u001b[39mreshape(packed\u001b[38;5;241m.\u001b[39mshape)\n",
      "\u001b[0;31mNameError\u001b[0m: name 'packed' is not defined"
     ]
    }
   ],
   "source": [
    "# qtip/lib/algo/finetune.py\n",
    "\n",
    "has_kernel = True\n",
    "\n",
    "if has_kernel:\n",
    "    packed = packed.view(torch.uint8).view(-1, 2).flip(\n",
    "        (-1, )).reshape(m // 16 // 2, 2, n // 16 // 2, 2, 16 * 16 // 8,\n",
    "                        args.K).permute(0, 2, 4, 3, 1, 5).flip(\n",
    "                            (-1, )).contiguous().flatten().view(\n",
    "                                torch.int16).reshape(packed.shape)"
   ]
  },
  {
   "cell_type": "code",
   "execution_count": null,
   "metadata": {},
   "outputs": [],
   "source": []
  }
 ],
 "metadata": {
  "kernelspec": {
   "display_name": "qenv",
   "language": "python",
   "name": "python3"
  },
  "language_info": {
   "codemirror_mode": {
    "name": "ipython",
    "version": 3
   },
   "file_extension": ".py",
   "mimetype": "text/x-python",
   "name": "python",
   "nbconvert_exporter": "python",
   "pygments_lexer": "ipython3",
   "version": "3.10.16"
  }
 },
 "nbformat": 4,
 "nbformat_minor": 2
}
