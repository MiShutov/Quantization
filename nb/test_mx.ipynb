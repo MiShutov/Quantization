{
 "cells": [
  {
   "cell_type": "code",
   "execution_count": 1,
   "metadata": {},
   "outputs": [],
   "source": [
    "import torch\n",
    "\n",
    "import os\n",
    "import sys\n",
    "sys.path.append(\"/home/msst/repo/Quantization/microxcaling\")\n",
    "sys.path.append(\"/home/msst/repo/Quantization\")\n",
    "\n",
    "import qlib"
   ]
  },
  {
   "cell_type": "code",
   "execution_count": 12,
   "metadata": {},
   "outputs": [],
   "source": [
    "from mx import finalize_mx_specs\n",
    "\n",
    "mx_specs = {\n",
    "    #'w_elem_format': 'fp4_e2m1',\n",
    "    #'w_elem_format': 'fp6_e2m3',\n",
    "\t#'w_elem_format': 'fp6_e3m2',\n",
    "\t'w_elem_format': 'fp8_e4m3',\n",
    "\t#'w_elem_format': 'int4',\n",
    "    #'w_elem_format': 'int8',\n",
    "    #'a_elem_format': 'fp6_e3m2',\n",
    "    'block_size': 32,\n",
    "    'bfloat': 16,\n",
    "    'custom_cuda': False, #True,\n",
    "    # For quantization-aware finetuning, do backward pass in FP32\n",
    "    'quantize_backprop': False,\n",
    "}\n",
    "mx_specs = finalize_mx_specs(mx_specs)"
   ]
  },
  {
   "cell_type": "code",
   "execution_count": 13,
   "metadata": {},
   "outputs": [
    {
     "data": {
      "application/vnd.jupyter.widget-view+json": {
       "model_id": "6c548738af254011ba97cbcab59f73af",
       "version_major": 2,
       "version_minor": 0
      },
      "text/plain": [
       "Loading checkpoint shards:   0%|          | 0/2 [00:00<?, ?it/s]"
      ]
     },
     "metadata": {},
     "output_type": "display_data"
    }
   ],
   "source": [
    "model_name='Llama2-7b-hf'\n",
    "#model_name='Llama-3.2-1B'\n",
    "\n",
    "DTYPE = torch.float16\n",
    "fp_model, _ = qlib.load_llama(\n",
    "\tmodel_name=model_name, \n",
    "\tdevice_map='cpu', \n",
    "\ttorch_dtype=DTYPE\n",
    ")\n",
    "\n",
    "w = fp_model.get_decoder().layers[0].self_attn.q_proj.weight.data\n",
    "\n",
    "#w = fp_model.get_decoder().layers[31].mlp.down_proj.weight.data.float()"
   ]
  },
  {
   "cell_type": "code",
   "execution_count": 14,
   "metadata": {},
   "outputs": [],
   "source": [
    "from mx.mx_ops import (\n",
    "\t_get_format_params, _reshape_to_blocks, \n",
    "\t_shared_exponents, _undo_reshape_to_blocks\n",
    ")\n",
    "\n",
    "\n",
    "def get_shared_exps(A, mx_specs, axes):\n",
    "    block_size = mx_specs['block_size']\n",
    "    if mx_specs[\"scale_bits\"] == 0:\n",
    "        scale_bits = 8\n",
    "    else:\n",
    "        scale_bits = mx_specs[\"scale_bits\"]\n",
    "    \n",
    "    axes = [axes] if type(axes) == int else axes\n",
    "    axes = [x + A.ndim if x < 0 else x for x in axes]    \n",
    "    shared_exp_axes = [x + 1 for x in axes] if block_size > 0 else axes\n",
    "            \n",
    "    A, axes, orig_shape, padded_shape = _reshape_to_blocks(\n",
    "        A, axes, block_size\n",
    "    )\n",
    "\n",
    "    shared_exp = _shared_exponents(\n",
    "        A, method=mx_specs['shared_exp_method'], axes=shared_exp_axes, ebits=0,\n",
    "    )\n",
    "\n",
    "    emax = _get_format_params(mx_specs['w_elem_format'])[2]\n",
    "    shared_exp = shared_exp - emax\n",
    "    \n",
    "    scale_emax = 2**(scale_bits-1) - 1\n",
    "    shared_exp[shared_exp > scale_emax] = float(\"NaN\")\n",
    "    shared_exp[shared_exp < -scale_emax] = -scale_emax\n",
    "    \n",
    "    return shared_exp"
   ]
  },
  {
   "cell_type": "code",
   "execution_count": 16,
   "metadata": {},
   "outputs": [],
   "source": [
    "# diap_max_f = -torch.inf\n",
    "# exp_min_f = torch.inf\n",
    "# exp_max_f = -torch.inf\n",
    "\n",
    "# for n, m in fp_model.named_modules():\n",
    "#     if isinstance(m, torch.nn.Linear):\n",
    "#         #w = fp_model.get_decoder().layers[0].self_attn.q_proj.weight\n",
    "#         w = m.weight.data\n",
    "#         shared_exp = get_shared_exps(w, mx_specs, axes=[-1])\n",
    "        \n",
    "#         exp_min = shared_exp.min().item()    \n",
    "#         exp_max = shared_exp.max().item()\n",
    "#         diap = exp_max - exp_min + 1\n",
    "\n",
    "#         if diap > diap_max_f:\n",
    "#             diap_max_f = diap\n",
    "#         if exp_max > exp_max_f:\n",
    "#             exp_max_f = exp_max\n",
    "#         if exp_min < exp_min_f:\n",
    "#             exp_min_f = exp_min\n",
    "#         print(diap, exp_min, exp_max, n)\n",
    "\n",
    "# print(\"diap_max_f:\", diap_max_f, \"exp_min_f\", exp_min_f, \"exp_max_f:\", exp_max_f)\n",
    "\n",
    "# # fp4_e2m1 diap_max_f: 10.0 exp_min_f -12.0 exp_max_f: -2.0\n",
    "# # fp6_e3m2 diap_max_f: 10.0 exp_min_f -14.0 exp_max_f: -4.0\n",
    "# # fp8_e4m3 diap_max_f: 10.0 exp_min_f -18.0 exp_max_f: -8.0"
   ]
  },
  {
   "cell_type": "code",
   "execution_count": 5,
   "metadata": {},
   "outputs": [],
   "source": [
    "from mx.elemwise_ops import quantize_elemwise_op\n",
    "from mx.mx_ops import quantize_mx_op\n",
    "\n",
    "bf_weight = quantize_elemwise_op(\n",
    "    w, mx_specs=mx_specs, round=mx_specs[\"round_weight\"]\n",
    ")\n",
    "\n",
    "qis_weight = quantize_mx_op(\n",
    "    bf_weight,\n",
    "    mx_specs,\n",
    "    elem_format=mx_specs['w_elem_format'],\n",
    "    axes=[-1],\n",
    "    round=mx_specs[\"round_mx_output\"],\n",
    ")\n",
    "\n",
    "shared_exp = get_shared_exps(w, mx_specs, axes=[-1])"
   ]
  },
  {
   "cell_type": "code",
   "execution_count": 9,
   "metadata": {},
   "outputs": [],
   "source": [
    "axes = [-1]\n",
    "block_size = mx_specs['block_size']\n",
    "\n",
    "w_, axes, orig_shape, padded_shape = _reshape_to_blocks(\n",
    "        w, axes, block_size\n",
    ")\n",
    "\n",
    "qis_weight_, axes, orig_shape, padded_shape = _reshape_to_blocks(\n",
    "        qis_weight, axes, block_size\n",
    ")\n",
    "\n",
    "w__ = _undo_reshape_to_blocks(w_, padded_shape, orig_shape, axes)"
   ]
  },
  {
   "cell_type": "code",
   "execution_count": 10,
   "metadata": {},
   "outputs": [
    {
     "name": "stdout",
     "output_type": "stream",
     "text": [
      "128\n",
      "tensor([0.0000, 0.0156, 0.0312, 0.0469, 0.0625, 0.0781, 0.0938, 0.1094, 0.1250,\n",
      "        0.1406, 0.1562, 0.1719, 0.1875, 0.2031, 0.2188, 0.2344, 0.2500, 0.2656,\n",
      "        0.2812, 0.2969, 0.3125, 0.3281, 0.3438, 0.3594, 0.3750, 0.3906, 0.4062,\n",
      "        0.4219, 0.4375, 0.4531, 0.4688, 0.4844, 0.5000, 0.5156, 0.5312, 0.5469,\n",
      "        0.5625, 0.5781, 0.5938, 0.6094, 0.6250, 0.6406, 0.6562, 0.6719, 0.6875,\n",
      "        0.7031, 0.7188, 0.7344, 0.7500, 0.7656, 0.7812, 0.7969, 0.8125, 0.8281,\n",
      "        0.8438, 0.8594, 0.8750, 0.8906, 0.9062, 0.9219, 0.9375, 0.9531, 0.9688,\n",
      "        0.9844, 1.0000, 1.0156, 1.0312, 1.0469, 1.0625, 1.0781, 1.0938, 1.1094,\n",
      "        1.1250, 1.1406, 1.1562, 1.1719, 1.1875, 1.2031, 1.2188, 1.2344, 1.2500,\n",
      "        1.2656, 1.2812, 1.2969, 1.3125, 1.3281, 1.3438, 1.3594, 1.3750, 1.3906,\n",
      "        1.4062, 1.4219, 1.4375, 1.4531, 1.4688, 1.4844, 1.5000, 1.5156, 1.5312,\n",
      "        1.5469, 1.5625, 1.5781, 1.5938, 1.6094, 1.6250, 1.6406, 1.6562, 1.6719,\n",
      "        1.6875, 1.7031, 1.7188, 1.7344, 1.7500, 1.7656, 1.7812, 1.7969, 1.8125,\n",
      "        1.8281, 1.8438, 1.8594, 1.8750, 1.8906, 1.9062, 1.9219, 1.9375, 1.9531,\n",
      "        1.9688, 1.9844], dtype=torch.float16)\n"
     ]
    }
   ],
   "source": [
    "with torch.no_grad():\n",
    "    scaled = qis_weight_ / 2**shared_exp\n",
    "    uniq_pos = torch.unique(scaled.abs())\n",
    "print(len(uniq_pos))\n",
    "print(uniq_pos)\n",
    "\n",
    "#torch.save(uniq_pos, f\"/home/msst/repo/Quantization/logs/{mx_specs['w_elem_format']}_unique_positive_values.pth\")"
   ]
  },
  {
   "cell_type": "code",
   "execution_count": 20,
   "metadata": {},
   "outputs": [],
   "source": [
    "import matplotlib.pyplot as plt\n",
    "\n",
    "def plot_hist(data, bins=32, figsize=(4, 4)):\n",
    "    data_np = data.flatten().numpy()\n",
    "\n",
    "    plt.figure(figsize=figsize)\n",
    "    plt.hist(data_np, bins=bins, edgecolor='black')\n",
    "    plt.grid(True, alpha=0.3)\n",
    "    plt.show()\n",
    "\n",
    "\n",
    "def get_positive_lowbit_codebook(base_codebook_size, values_bits, bound):\n",
    "    \"\"\"Generate a symmetric low-bit codebook\"\"\"\n",
    "    sample_values = int(base_codebook_size * 1.5)\n",
    "    scale = bound / ((2**(values_bits-1)) - 0.5)\n",
    "\n",
    "    quantiles = torch.special.ndtr(scale * (torch.arange(2**(values_bits-1))))\n",
    "    quantiles_padded = torch.tensor(list(quantiles) + [1])\n",
    "    freq = (quantiles_padded[1:] - quantiles_padded[:-1]).unsqueeze(0)\n",
    "    freq_2d = freq.T @ freq\n",
    "\n",
    "    counts = (freq_2d * sample_values / freq_2d.sum())\n",
    "    counts = counts.round()\n",
    "    counts = counts.flatten()\n",
    "\n",
    "    unique_values = (torch.arange(2**(values_bits-1)) + 0.5)\n",
    "    unique_cb_h = unique_values.repeat(len(unique_values), 1)\n",
    "    unique_cb_v = unique_cb_h.T\n",
    "    unique_cb_2d = torch.stack([unique_cb_v, unique_cb_h], dim=0)\n",
    "\n",
    "    unique_cb = unique_cb_2d.reshape(2, -1).T\n",
    "\n",
    "    cb = []\n",
    "    for i, c in enumerate(counts):\n",
    "        cb += int(c) * [unique_cb[i],]\n",
    "        \n",
    "    cb = torch.stack(cb)\n",
    "    n_to_remove = len(cb)- base_codebook_size\n",
    "    torch.manual_seed(0)\n",
    "    cb = cb[torch.randperm(len(cb))][n_to_remove:]\n",
    "\n",
    "    return cb, scale\n",
    "\n",
    "\n",
    "def quantlut_sym_2d(tlut, L, nbits):\n",
    "    \"\"\"2D quantized lookup table with sign flipping\"\"\"\n",
    "    with torch.no_grad():\n",
    "        lut = torch.arange(1 << L, device=tlut.device)\n",
    "        lut = (lut + 1) * lut\n",
    "        sflp0 = 1 - ((lut >> 15) & 1) * 2\n",
    "        sflp1 = 1 - ((lut >> 13) & 1) * 2\n",
    "        lut = (lut >> (16 - nbits - 1)) & ((1 << nbits) - 1)\n",
    "    lut = tlut[lut] * torch.stack([sflp0, sflp1]).T\n",
    "    return lut"
   ]
  },
  {
   "cell_type": "code",
   "execution_count": 21,
   "metadata": {},
   "outputs": [
    {
     "data": {
      "image/png": "[encoded data removed]",
      "text/plain": [
       "<Figure size 300x200 with 1 Axes>"
      ]
     },
     "metadata": {},
     "output_type": "display_data"
    },
    {
     "data": {
      "image/png": "[encoded data removed]",
      "text/plain": [
       "<Figure size 300x200 with 1 Axes>"
      ]
     },
     "metadata": {},
     "output_type": "display_data"
    }
   ],
   "source": [
    "tlut_bits = 10\n",
    "values_bits = 4\n",
    "bound = 3\n",
    "L = 16\n",
    "\n",
    "tlut, scale = get_positive_lowbit_codebook(2**tlut_bits, values_bits=values_bits, bound=bound)\n",
    "lut = quantlut_sym_2d(tlut, L, tlut_bits)\n",
    "\n",
    "plot_hist(tlut, bins=32, figsize=(3, 2))\n",
    "plot_hist(lut, bins=32, figsize=(3, 2))"
   ]
  },
  {
   "cell_type": "code",
   "execution_count": 22,
   "metadata": {},
   "outputs": [],
   "source": [
    "def get_gaussian_distributed_positive_2d_codebook(base_codebook_size, base_values):\n",
    "    \"\"\"Generate a symmetric low-bit codebook\"\"\"\n",
    "    sample_values = int(base_codebook_size * 1.5)\n",
    "    gaussian_bound = 2 #2 #2.5\n",
    "\n",
    "    # quantiles = 1 - torch.special.ndtr(base_values / base_values.max() * gaussian_bound)\n",
    "    # print(base_values / base_values.max() * gaussian_bound)\n",
    "    # print(quantiles)\n",
    "\n",
    "    normed_base_values = base_values / base_values.max() * gaussian_bound\n",
    "    quantiles = (1 / 2 ** 0.5) * torch.exp(- normed_base_values ** 2)\n",
    "\n",
    "    freq = (quantiles / quantiles.sum()).unsqueeze(0)\n",
    "\n",
    "    print(\"freq:\", freq)\n",
    "\n",
    "    if base_values.abs().min() == 0.0:\n",
    "        freq[:, 0] /= 2\n",
    "    \n",
    "    freq_2d = freq.T @ freq\n",
    "\n",
    "    counts = (freq_2d * sample_values / freq_2d.sum())\n",
    "    counts = counts.round()\n",
    "    counts = counts.flatten()\n",
    "\n",
    "    unique_values = base_values\n",
    "    unique_cb_h = unique_values.repeat(len(unique_values), 1)\n",
    "    unique_cb_v = unique_cb_h.T\n",
    "    unique_cb_2d = torch.stack([unique_cb_v, unique_cb_h], dim=0)\n",
    "\n",
    "    unique_cb = unique_cb_2d.reshape(2, -1).T\n",
    "\n",
    "    cb = []\n",
    "    for i, c in enumerate(counts):\n",
    "        cb += int(c) * [unique_cb[i],]\n",
    "        \n",
    "    cb = torch.stack(cb)\n",
    "    n_to_remove = len(cb)- base_codebook_size\n",
    "    torch.manual_seed(0)\n",
    "    cb = cb[torch.randperm(len(cb))][n_to_remove:]\n",
    "\n",
    "    return cb"
   ]
  },
  {
   "cell_type": "code",
   "execution_count": 66,
   "metadata": {},
   "outputs": [],
   "source": [
    "def get_gaussian_distributed_positive_2d_codebook(base_codebook_size, base_values, gaussian_bound):\n",
    "    \"\"\"Generate a symmetric low-bit codebook\"\"\"\n",
    "\n",
    "    base_values = base_values.float()\n",
    "    sample_values = int(base_codebook_size * 1.5)\n",
    "\n",
    "    normed_base_values = base_values / base_values.max() * gaussian_bound\n",
    "    averages_for_normed_base_values = (normed_base_values[1:] + normed_base_values[:-1]) / 2\n",
    "    quantiles = torch.special.ndtr(averages_for_normed_base_values)\n",
    "    quantiles_padded = torch.tensor([0.5] + list(quantiles) + [1])\n",
    "    freq = (quantiles_padded[1:] - quantiles_padded[:-1]).unsqueeze(0)\n",
    "\n",
    "    freq_2d = freq.T @ freq\n",
    "\n",
    "    counts = (freq_2d * sample_values / freq_2d.sum())\n",
    "    counts = counts.round()\n",
    "    counts = counts.flatten()\n",
    "\n",
    "    unique_values = base_values\n",
    "    unique_cb_h = unique_values.repeat(len(unique_values), 1)\n",
    "    unique_cb_v = unique_cb_h.T\n",
    "    unique_cb_2d = torch.stack([unique_cb_v, unique_cb_h], dim=0)\n",
    "\n",
    "    unique_cb = unique_cb_2d.reshape(2, -1).T\n",
    "\n",
    "    cb = []\n",
    "    for i, c in enumerate(counts):\n",
    "        cb += int(c) * [unique_cb[i],]\n",
    "        \n",
    "    cb = torch.stack(cb)\n",
    "    n_to_remove = len(cb)- base_codebook_size\n",
    "    torch.manual_seed(0)\n",
    "    cb = cb[torch.randperm(len(cb))][n_to_remove:]\n",
    "\n",
    "    return cb"
   ]
  },
  {
   "cell_type": "code",
   "execution_count": 74,
   "metadata": {},
   "outputs": [
    {
     "name": "stdout",
     "output_type": "stream",
     "text": [
      "tlut.abs().max(): tensor(7.5000)\n",
      "tlut.abs().min(): tensor(0.)\n"
     ]
    },
    {
     "data": {
      "image/png": "[encoded data removed]",
      "text/plain": [
       "<Figure size 300x200 with 1 Axes>"
      ]
     },
     "metadata": {},
     "output_type": "display_data"
    },
    {
     "data": {
      "image/png": "[encoded data removed]",
      "text/plain": [
       "<Figure size 300x200 with 1 Axes>"
      ]
     },
     "metadata": {},
     "output_type": "display_data"
    }
   ],
   "source": [
    "#mx_format = 'fp4_e2m1'\n",
    "mx_format = 'fp6_e2m3'\n",
    "#mx_format = 'fp8_e4m3'\n",
    "\n",
    "unique_positive_values = torch.load(\n",
    "\tf'/home/msst/repo/Quantization/logs/{mx_format}_unique_positive_values.pth', \n",
    "\tweights_only=True\n",
    ")\n",
    "\n",
    "tlut_bits = 10\n",
    "gaussian_bound = 2.5 #2.75\n",
    "L = 16\n",
    "\n",
    "tlut = get_gaussian_distributed_positive_2d_codebook(\n",
    "\tbase_codebook_size=2**tlut_bits, \n",
    "\tbase_values=unique_positive_values,\n",
    "\tgaussian_bound=gaussian_bound)\n",
    "lut = quantlut_sym_2d(tlut, L, tlut_bits)\n",
    "\n",
    "\n",
    "print(\"tlut.abs().max():\", tlut.abs().max())\n",
    "print(\"tlut.abs().min():\", tlut.abs().min())\n",
    "\n",
    "\n",
    "bins = 16 #64 #32\n",
    "plot_hist(tlut, bins=bins//2, figsize=(3, 2))\n",
    "plot_hist(lut, bins=bins, figsize=(3, 2))"
   ]
  },
  {
   "cell_type": "code",
   "execution_count": 25,
   "metadata": {},
   "outputs": [
    {
     "data": {
      "text/plain": [
       "tensor(0.)"
      ]
     },
     "execution_count": 25,
     "metadata": {},
     "output_type": "execute_result"
    }
   ],
   "source": [
    "lut.abs().min()"
   ]
  },
  {
   "cell_type": "code",
   "execution_count": null,
   "metadata": {},
   "outputs": [],
   "source": []
  },
  {
   "cell_type": "code",
   "execution_count": null,
   "metadata": {},
   "outputs": [],
   "source": []
  }
 ],
 "metadata": {
  "kernelspec": {
   "display_name": "qenv",
   "language": "python",
   "name": "python3"
  },
  "language_info": {
   "codemirror_mode": {
    "name": "ipython",
    "version": 3
   },
   "file_extension": ".py",
   "mimetype": "text/x-python",
   "name": "python",
   "nbconvert_exporter": "python",
   "pygments_lexer": "ipython3",
   "version": "3.10.16"
  }
 },
 "nbformat": 4,
 "nbformat_minor": 2
}
