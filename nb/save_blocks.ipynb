{
 "cells": [
  {
   "cell_type": "code",
   "execution_count": 1,
   "metadata": {},
   "outputs": [
    {
     "data": {
      "application/vnd.jupyter.widget-view+json": {
       "model_id": "c4307dd5ca7c4087be6a7e6a950f243f",
       "version_major": 2,
       "version_minor": 0
      },
      "text/plain": [
       "Loading checkpoint shards:   0%|          | 0/2 [00:00<?, ?it/s]"
      ]
     },
     "metadata": {},
     "output_type": "display_data"
    }
   ],
   "source": [
    "%load_ext autoreload\n",
    "%autoreload 2\n",
    "\n",
    "import os\n",
    "import torch\n",
    "\n",
    "import sys\n",
    "sys.path.append(\"/home/msst/repo/Quantization\")\n",
    "import qlib\n",
    "\n",
    "model_name='Llama2-7b-hf'\n",
    "#model_name='Llama-3.2-1B'\n",
    "\n",
    "DTYPE = torch.float16\n",
    "model = qlib.load_model(model_name=model_name, torch_dtype=DTYPE)"
   ]
  },
  {
   "cell_type": "code",
   "execution_count": null,
   "metadata": {},
   "outputs": [],
   "source": []
  },
  {
   "cell_type": "markdown",
   "metadata": {},
   "source": [
    "### Save fp per block"
   ]
  },
  {
   "cell_type": "code",
   "execution_count": 5,
   "metadata": {},
   "outputs": [],
   "source": [
    "path_to_save = f'/mnt/ssd_storage/ml/weights/vc_data/{model_name}/per_block_fp'\n",
    "#os.makedirs(path_to_save, exist_ok=False)\n",
    "\n",
    "\n",
    "lm_head = model.lm_head\n",
    "torch.save(lm_head, os.path.join(path_to_save, f'lm_head'))\n",
    "\n",
    "decoder = model.get_decoder()\n",
    "embed_tokens = decoder.embed_tokens\n",
    "torch.save(embed_tokens, os.path.join(path_to_save, f'model.embed_tokens'))\n",
    "\n",
    "rotary_emb=decoder.rotary_emb\n",
    "torch.save(rotary_emb, os.path.join(path_to_save, f'model.rotary_emb'))\n",
    "\n",
    "model_norm=decoder.norm\n",
    "torch.save(model_norm, os.path.join(path_to_save, f'model.norm'))\n",
    "\n",
    "\n",
    "for block_id, block in enumerate(decoder.layers):\n",
    "\ttorch.save(block, os.path.join(path_to_save, f'model.layers.{block_id}'))"
   ]
  },
  {
   "cell_type": "markdown",
   "metadata": {},
   "source": [
    "### Save quantized_blocks"
   ]
  },
  {
   "cell_type": "code",
   "execution_count": 2,
   "metadata": {},
   "outputs": [],
   "source": [
    "#path_to_vc_data = '/mnt/ssd_storage/ml/weights/vc_data/Llama2-7b-hf/kmeans/cb32768_vecdim8_weightPERCOORD_scaleNone_distMSE_blocksizeNone_iters5'\n",
    "path_to_vc_data = '/mnt/ssd_storage/ml/weights/vc_data/Llama2-7b-hf/kmeans/cb256_vecdim8_weightPERCOORD_scaleOUTL2_distMSE_blocksizeNone_iters25_abscoords'\n",
    "\n",
    "wrapper = qlib.HomeQuantWrapper(\n",
    "    wrap_rule={\n",
    "        torch.nn.Linear : qlib.HQLinear(path_to_vc_data=path_to_vc_data),\n",
    "    },\n",
    "    exceptions = {\n",
    "        'lm_head' : None,\n",
    "    }\n",
    ")\n",
    "wrapper.wrap_model(model)\n",
    "\n",
    "os.makedirs(f'/home/msst/repo/Quantization/logs/checkpoints_{model_name}', exist_ok=True)\n",
    "torch.save(model, f'/home/msst/repo/Quantization/logs/checkpoints_{model_name}/kmeans_scaleL2_percoord.pth')"
   ]
  },
  {
   "cell_type": "code",
   "execution_count": 9,
   "metadata": {},
   "outputs": [
    {
     "data": {
      "text/plain": [
       "False"
      ]
     },
     "execution_count": 9,
     "metadata": {},
     "output_type": "execute_result"
    }
   ],
   "source": [
    "#model.get_decoder().layers[0].self_attn.q_proj.trainable"
   ]
  },
  {
   "cell_type": "code",
   "execution_count": 3,
   "metadata": {},
   "outputs": [],
   "source": [
    "path_to_save = f'/mnt/ssd_storage/ml/weights/vc_data/{model_name}/per_block_q/kmeans_noscale_percoord'\n",
    "os.makedirs(path_to_save, exist_ok=False)\n",
    "\n",
    "lm_head = model.lm_head\n",
    "torch.save(lm_head, os.path.join(path_to_save, f'lm_head'))\n",
    "\n",
    "decoder = model.get_decoder()\n",
    "embed_tokens = decoder.embed_tokens\n",
    "torch.save(embed_tokens, os.path.join(path_to_save, f'model.embed_tokens'))\n",
    "\n",
    "rotary_emb=decoder.rotary_emb\n",
    "torch.save(rotary_emb, os.path.join(path_to_save, f'model.rotary_emb'))\n",
    "\n",
    "for block_id, block in enumerate(decoder.layers):\n",
    "\ttorch.save(block, os.path.join(path_to_save, f'model.layers.{block_id}'))"
   ]
  },
  {
   "cell_type": "code",
   "execution_count": null,
   "metadata": {},
   "outputs": [],
   "source": []
  },
  {
   "cell_type": "markdown",
   "metadata": {},
   "source": [
    "### Save symmetric quant"
   ]
  },
  {
   "cell_type": "code",
   "execution_count": 2,
   "metadata": {},
   "outputs": [],
   "source": [
    "name = 'cb4096_vecdim8_weightPERCOORD_scaleOUTL2_distMSE_blocksizeNone_iters10_abscoords'\n",
    "path_to_vc_data = f'/mnt/ssd_storage/ml/weights/vc_data/Llama2-7b-hf/kmeans/{name}'\n",
    "\n",
    "wrapper = qlib.HomeQuantWrapper(\n",
    "    wrap_rule={\n",
    "        torch.nn.Linear : qlib.SymHQLinear(path_to_vc_data=path_to_vc_data),\n",
    "    },\n",
    "    exceptions = {\n",
    "        'lm_head' : None,\n",
    "        '.0.self_attn' : None,\n",
    "        '.1.self_attn' : None,\n",
    "        '.2.self_attn' : None,\n",
    "    }\n",
    ")\n",
    "wrapper.wrap_model(model)\n",
    "\n",
    "os.makedirs(f'/home/msst/repo/Quantization/logs/checkpoints_{model_name}/SymQuant', exist_ok=True)\n",
    "torch.save(model, f'/home/msst/repo/Quantization/logs/checkpoints_{model_name}/SymQuant/{name}.pth')"
   ]
  },
  {
   "cell_type": "code",
   "execution_count": 3,
   "metadata": {},
   "outputs": [],
   "source": [
    "path_to_save = f'/mnt/ssd_storage/ml/weights/vc_data/{model_name}/per_block_q/{name}'\n",
    "os.makedirs(path_to_save, exist_ok=True)\n",
    "\n",
    "lm_head = model.lm_head\n",
    "torch.save(lm_head, os.path.join(path_to_save, f'lm_head'))\n",
    "\n",
    "decoder = model.get_decoder()\n",
    "embed_tokens = decoder.embed_tokens\n",
    "torch.save(embed_tokens, os.path.join(path_to_save, f'model.embed_tokens'))\n",
    "\n",
    "rotary_emb=decoder.rotary_emb\n",
    "torch.save(rotary_emb, os.path.join(path_to_save, f'model.rotary_emb'))\n",
    "\n",
    "for block_id, block in enumerate(decoder.layers):\n",
    "\ttorch.save(block, os.path.join(path_to_save, f'model.layers.{block_id}'))"
   ]
  },
  {
   "cell_type": "code",
   "execution_count": null,
   "metadata": {},
   "outputs": [],
   "source": []
  },
  {
   "cell_type": "code",
   "execution_count": null,
   "metadata": {},
   "outputs": [],
   "source": []
  },
  {
   "cell_type": "markdown",
   "metadata": {},
   "source": [
    "### Save model with new blocks"
   ]
  },
  {
   "cell_type": "code",
   "execution_count": 2,
   "metadata": {},
   "outputs": [],
   "source": [
    "name = 'cb256_vecdim8_weightPERCOORD_scaleOUTL2_distMSE_blocksizeNone_iters25_abscoords'\n",
    "path_to_vc_data = f'/mnt/ssd_storage/ml/weights/vc_data/Llama2-7b-hf/kmeans/{name}'\n",
    "\n",
    "wrapper = qlib.HomeQuantWrapper(\n",
    "    wrap_rule={\n",
    "        torch.nn.Linear : qlib.SymHQLinear(path_to_vc_data=path_to_vc_data),\n",
    "    },\n",
    "    exceptions = {\n",
    "        'lm_head' : None,\n",
    "\t\t'.0.' : None,\n",
    "\t\t'.1.' : None,\n",
    "\t\t'.2.' : None,\n",
    "    }\n",
    ")\n",
    "wrapper.wrap_model(model)"
   ]
  },
  {
   "cell_type": "code",
   "execution_count": 3,
   "metadata": {},
   "outputs": [],
   "source": [
    "path_to_new_blocks = '/home/msst/repo/Quantization/logs/llama2-7b/symquant/llama2_symquant_cb256_vecdim8_C5e-5_L5e-5_lossL1_reassfrac1.0/per_block_q_trained_ns400_bs4_ne2'\n",
    "#path_to_new_blocks = '/home/msst/repo/Quantization/logs/llama2-7b/symquant/llama2_symquant_cb256_vecdim8_C1e4_lossL2/per_block_q_trained'\n",
    "block_names = sorted(os.listdir(path_to_new_blocks), key=lambda x: int(x.split('.')[-1]) if x.startswith(\"model.layers\") else -1)\n",
    "\n",
    "\n",
    "for block_name in block_names:\n",
    "    new_block = torch.load(os.path.join(path_to_new_blocks, block_name), weights_only=False)\n",
    "    curr_block = model.get_submodule(block_name)\n",
    "\n",
    "    with torch.no_grad():\n",
    "        curr_block.load_state_dict(new_block.state_dict())\n"
   ]
  },
  {
   "cell_type": "code",
   "execution_count": 4,
   "metadata": {},
   "outputs": [],
   "source": [
    "torch.save(model, '/home/msst/repo/Quantization/logs/checkpoints_Llama2-7b-hf/SymQuant/cb256_vecdim8_weightPERCOORD_scaleOUTL2_distMSE_blocksizeNone_iters25_abscoords_ptq_3_layers_fp_.pth')"
   ]
  },
  {
   "cell_type": "code",
   "execution_count": null,
   "metadata": {},
   "outputs": [],
   "source": []
  }
 ],
 "metadata": {
  "kernelspec": {
   "display_name": "qenv",
   "language": "python",
   "name": "python3"
  },
  "language_info": {
   "codemirror_mode": {
    "name": "ipython",
    "version": 3
   },
   "file_extension": ".py",
   "mimetype": "text/x-python",
   "name": "python",
   "nbconvert_exporter": "python",
   "pygments_lexer": "ipython3",
   "version": "3.10.16"
  }
 },
 "nbformat": 4,
 "nbformat_minor": 2
}
