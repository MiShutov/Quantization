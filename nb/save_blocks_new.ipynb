{
 "cells": [
  {
   "cell_type": "code",
   "execution_count": 1,
   "metadata": {},
   "outputs": [],
   "source": [
    "%load_ext autoreload\n",
    "%autoreload 2\n",
    "\n",
    "import os\n",
    "import torch\n",
    "\n",
    "import sys\n",
    "sys.path.append(\"/home/msst/repo/Quantization\")\n",
    "import qlib\n",
    "\n",
    "model_name='Llama2-7b-hf'\n",
    "#model_name='Llama-3.2-1B'"
   ]
  },
  {
   "cell_type": "markdown",
   "metadata": {},
   "source": [
    "### Save per block"
   ]
  },
  {
   "cell_type": "code",
   "execution_count": 2,
   "metadata": {},
   "outputs": [
    {
     "name": "stdout",
     "output_type": "stream",
     "text": [
      "LOL, Im custom!\n"
     ]
    }
   ],
   "source": [
    "qmodel = qlib.QuantizedLlamaForCausalLM.from_pretrained(\n",
    "\t'/home/msst/repo/Quantization/logs/checkpoints_Llama2-7b-hf/trellis/T256_L16_V2_K2_cbs10_LowBitSym_qtip_ptq_bs5_act8bit',\n",
    "    torch_dtype=torch.float16,\n",
    ").cpu()"
   ]
  },
  {
   "cell_type": "code",
   "execution_count": 3,
   "metadata": {},
   "outputs": [],
   "source": [
    "name = 'T256_L16_V2_K2_cbs10_LowBitSym_qtip_ptq_bs5_act8bit'"
   ]
  },
  {
   "cell_type": "code",
   "execution_count": 4,
   "metadata": {},
   "outputs": [],
   "source": [
    "path_to_save = f'/mnt/ssd_storage/ml/weights/vc_data/{model_name}/per_block_q/{name}'\n",
    "os.makedirs(path_to_save, exist_ok=True)\n",
    "\n",
    "lm_head = qmodel.lm_head\n",
    "torch.save(lm_head, os.path.join(path_to_save, f'lm_head'))\n",
    "\n",
    "decoder = qmodel.get_decoder()\n",
    "embed_tokens = decoder.embed_tokens\n",
    "torch.save(embed_tokens, os.path.join(path_to_save, f'model.embed_tokens'))\n",
    "\n",
    "rotary_emb=decoder.rotary_emb\n",
    "torch.save(rotary_emb, os.path.join(path_to_save, f'model.rotary_emb'))\n",
    "\n",
    "for block_id, block in enumerate(decoder.layers):\n",
    "\ttorch.save(block, os.path.join(path_to_save, f'model.layers.{block_id}'))"
   ]
  },
  {
   "cell_type": "markdown",
   "metadata": {},
   "source": [
    "### Insert new blocks"
   ]
  },
  {
   "cell_type": "code",
   "execution_count": 3,
   "metadata": {},
   "outputs": [
    {
     "name": "stdout",
     "output_type": "stream",
     "text": [
      "LOL, Im custom!\n"
     ]
    },
    {
     "name": "stderr",
     "output_type": "stream",
     "text": [
      "Some weights of QuantizedLlamaForCausalLM were not initialized from the model checkpoint at /home/msst/repo/Quantization/logs/checkpoints_Llama2-7b-hf/trellis/T256_L16_V2_K2_cbs10_LowBitSym_qtip_init and are newly initialized: ['model.layers.0.mlp.down_proj.input_quantizer.act_scale', 'model.layers.0.mlp.gate_proj.input_quantizer.act_scale', 'model.layers.0.mlp.up_proj.input_quantizer.act_scale', 'model.layers.0.self_attn.k_proj.input_quantizer.act_scale', 'model.layers.0.self_attn.o_proj.input_quantizer.act_scale', 'model.layers.0.self_attn.q_proj.input_quantizer.act_scale', 'model.layers.0.self_attn.v_proj.input_quantizer.act_scale', 'model.layers.1.mlp.down_proj.input_quantizer.act_scale', 'model.layers.1.mlp.gate_proj.input_quantizer.act_scale', 'model.layers.1.mlp.up_proj.input_quantizer.act_scale', 'model.layers.1.self_attn.k_proj.input_quantizer.act_scale', 'model.layers.1.self_attn.o_proj.input_quantizer.act_scale', 'model.layers.1.self_attn.q_proj.input_quantizer.act_scale', 'model.layers.1.self_attn.v_proj.input_quantizer.act_scale', 'model.layers.10.mlp.down_proj.input_quantizer.act_scale', 'model.layers.10.mlp.gate_proj.input_quantizer.act_scale', 'model.layers.10.mlp.up_proj.input_quantizer.act_scale', 'model.layers.10.self_attn.k_proj.input_quantizer.act_scale', 'model.layers.10.self_attn.o_proj.input_quantizer.act_scale', 'model.layers.10.self_attn.q_proj.input_quantizer.act_scale', 'model.layers.10.self_attn.v_proj.input_quantizer.act_scale', 'model.layers.11.mlp.down_proj.input_quantizer.act_scale', 'model.layers.11.mlp.gate_proj.input_quantizer.act_scale', 'model.layers.11.mlp.up_proj.input_quantizer.act_scale', 'model.layers.11.self_attn.k_proj.input_quantizer.act_scale', 'model.layers.11.self_attn.o_proj.input_quantizer.act_scale', 'model.layers.11.self_attn.q_proj.input_quantizer.act_scale', 'model.layers.11.self_attn.v_proj.input_quantizer.act_scale', 'model.layers.12.mlp.down_proj.input_quantizer.act_scale', 'model.layers.12.mlp.gate_proj.input_quantizer.act_scale', 'model.layers.12.mlp.up_proj.input_quantizer.act_scale', 'model.layers.12.self_attn.k_proj.input_quantizer.act_scale', 'model.layers.12.self_attn.o_proj.input_quantizer.act_scale', 'model.layers.12.self_attn.q_proj.input_quantizer.act_scale', 'model.layers.12.self_attn.v_proj.input_quantizer.act_scale', 'model.layers.13.mlp.down_proj.input_quantizer.act_scale', 'model.layers.13.mlp.gate_proj.input_quantizer.act_scale', 'model.layers.13.mlp.up_proj.input_quantizer.act_scale', 'model.layers.13.self_attn.k_proj.input_quantizer.act_scale', 'model.layers.13.self_attn.o_proj.input_quantizer.act_scale', 'model.layers.13.self_attn.q_proj.input_quantizer.act_scale', 'model.layers.13.self_attn.v_proj.input_quantizer.act_scale', 'model.layers.14.mlp.down_proj.input_quantizer.act_scale', 'model.layers.14.mlp.gate_proj.input_quantizer.act_scale', 'model.layers.14.mlp.up_proj.input_quantizer.act_scale', 'model.layers.14.self_attn.k_proj.input_quantizer.act_scale', 'model.layers.14.self_attn.o_proj.input_quantizer.act_scale', 'model.layers.14.self_attn.q_proj.input_quantizer.act_scale', 'model.layers.14.self_attn.v_proj.input_quantizer.act_scale', 'model.layers.15.mlp.down_proj.input_quantizer.act_scale', 'model.layers.15.mlp.gate_proj.input_quantizer.act_scale', 'model.layers.15.mlp.up_proj.input_quantizer.act_scale', 'model.layers.15.self_attn.k_proj.input_quantizer.act_scale', 'model.layers.15.self_attn.o_proj.input_quantizer.act_scale', 'model.layers.15.self_attn.q_proj.input_quantizer.act_scale', 'model.layers.15.self_attn.v_proj.input_quantizer.act_scale', 'model.layers.16.mlp.down_proj.input_quantizer.act_scale', 'model.layers.16.mlp.gate_proj.input_quantizer.act_scale', 'model.layers.16.mlp.up_proj.input_quantizer.act_scale', 'model.layers.16.self_attn.k_proj.input_quantizer.act_scale', 'model.layers.16.self_attn.o_proj.input_quantizer.act_scale', 'model.layers.16.self_attn.q_proj.input_quantizer.act_scale', 'model.layers.16.self_attn.v_proj.input_quantizer.act_scale', 'model.layers.17.mlp.down_proj.input_quantizer.act_scale', 'model.layers.17.mlp.gate_proj.input_quantizer.act_scale', 'model.layers.17.mlp.up_proj.input_quantizer.act_scale', 'model.layers.17.self_attn.k_proj.input_quantizer.act_scale', 'model.layers.17.self_attn.o_proj.input_quantizer.act_scale', 'model.layers.17.self_attn.q_proj.input_quantizer.act_scale', 'model.layers.17.self_attn.v_proj.input_quantizer.act_scale', 'model.layers.18.mlp.down_proj.input_quantizer.act_scale', 'model.layers.18.mlp.gate_proj.input_quantizer.act_scale', 'model.layers.18.mlp.up_proj.input_quantizer.act_scale', 'model.layers.18.self_attn.k_proj.input_quantizer.act_scale', 'model.layers.18.self_attn.o_proj.input_quantizer.act_scale', 'model.layers.18.self_attn.q_proj.input_quantizer.act_scale', 'model.layers.18.self_attn.v_proj.input_quantizer.act_scale', 'model.layers.19.mlp.down_proj.input_quantizer.act_scale', 'model.layers.19.mlp.gate_proj.input_quantizer.act_scale', 'model.layers.19.mlp.up_proj.input_quantizer.act_scale', 'model.layers.19.self_attn.k_proj.input_quantizer.act_scale', 'model.layers.19.self_attn.o_proj.input_quantizer.act_scale', 'model.layers.19.self_attn.q_proj.input_quantizer.act_scale', 'model.layers.19.self_attn.v_proj.input_quantizer.act_scale', 'model.layers.2.mlp.down_proj.input_quantizer.act_scale', 'model.layers.2.mlp.gate_proj.input_quantizer.act_scale', 'model.layers.2.mlp.up_proj.input_quantizer.act_scale', 'model.layers.2.self_attn.k_proj.input_quantizer.act_scale', 'model.layers.2.self_attn.o_proj.input_quantizer.act_scale', 'model.layers.2.self_attn.q_proj.input_quantizer.act_scale', 'model.layers.2.self_attn.v_proj.input_quantizer.act_scale', 'model.layers.20.mlp.down_proj.input_quantizer.act_scale', 'model.layers.20.mlp.gate_proj.input_quantizer.act_scale', 'model.layers.20.mlp.up_proj.input_quantizer.act_scale', 'model.layers.20.self_attn.k_proj.input_quantizer.act_scale', 'model.layers.20.self_attn.o_proj.input_quantizer.act_scale', 'model.layers.20.self_attn.q_proj.input_quantizer.act_scale', 'model.layers.20.self_attn.v_proj.input_quantizer.act_scale', 'model.layers.21.mlp.down_proj.input_quantizer.act_scale', 'model.layers.21.mlp.gate_proj.input_quantizer.act_scale', 'model.layers.21.mlp.up_proj.input_quantizer.act_scale', 'model.layers.21.self_attn.k_proj.input_quantizer.act_scale', 'model.layers.21.self_attn.o_proj.input_quantizer.act_scale', 'model.layers.21.self_attn.q_proj.input_quantizer.act_scale', 'model.layers.21.self_attn.v_proj.input_quantizer.act_scale', 'model.layers.22.mlp.down_proj.input_quantizer.act_scale', 'model.layers.22.mlp.gate_proj.input_quantizer.act_scale', 'model.layers.22.mlp.up_proj.input_quantizer.act_scale', 'model.layers.22.self_attn.k_proj.input_quantizer.act_scale', 'model.layers.22.self_attn.o_proj.input_quantizer.act_scale', 'model.layers.22.self_attn.q_proj.input_quantizer.act_scale', 'model.layers.22.self_attn.v_proj.input_quantizer.act_scale', 'model.layers.23.mlp.down_proj.input_quantizer.act_scale', 'model.layers.23.mlp.gate_proj.input_quantizer.act_scale', 'model.layers.23.mlp.up_proj.input_quantizer.act_scale', 'model.layers.23.self_attn.k_proj.input_quantizer.act_scale', 'model.layers.23.self_attn.o_proj.input_quantizer.act_scale', 'model.layers.23.self_attn.q_proj.input_quantizer.act_scale', 'model.layers.23.self_attn.v_proj.input_quantizer.act_scale', 'model.layers.24.mlp.down_proj.input_quantizer.act_scale', 'model.layers.24.mlp.gate_proj.input_quantizer.act_scale', 'model.layers.24.mlp.up_proj.input_quantizer.act_scale', 'model.layers.24.self_attn.k_proj.input_quantizer.act_scale', 'model.layers.24.self_attn.o_proj.input_quantizer.act_scale', 'model.layers.24.self_attn.q_proj.input_quantizer.act_scale', 'model.layers.24.self_attn.v_proj.input_quantizer.act_scale', 'model.layers.25.mlp.down_proj.input_quantizer.act_scale', 'model.layers.25.mlp.gate_proj.input_quantizer.act_scale', 'model.layers.25.mlp.up_proj.input_quantizer.act_scale', 'model.layers.25.self_attn.k_proj.input_quantizer.act_scale', 'model.layers.25.self_attn.o_proj.input_quantizer.act_scale', 'model.layers.25.self_attn.q_proj.input_quantizer.act_scale', 'model.layers.25.self_attn.v_proj.input_quantizer.act_scale', 'model.layers.26.mlp.down_proj.input_quantizer.act_scale', 'model.layers.26.mlp.gate_proj.input_quantizer.act_scale', 'model.layers.26.mlp.up_proj.input_quantizer.act_scale', 'model.layers.26.self_attn.k_proj.input_quantizer.act_scale', 'model.layers.26.self_attn.o_proj.input_quantizer.act_scale', 'model.layers.26.self_attn.q_proj.input_quantizer.act_scale', 'model.layers.26.self_attn.v_proj.input_quantizer.act_scale', 'model.layers.27.mlp.down_proj.input_quantizer.act_scale', 'model.layers.27.mlp.gate_proj.input_quantizer.act_scale', 'model.layers.27.mlp.up_proj.input_quantizer.act_scale', 'model.layers.27.self_attn.k_proj.input_quantizer.act_scale', 'model.layers.27.self_attn.o_proj.input_quantizer.act_scale', 'model.layers.27.self_attn.q_proj.input_quantizer.act_scale', 'model.layers.27.self_attn.v_proj.input_quantizer.act_scale', 'model.layers.28.mlp.down_proj.input_quantizer.act_scale', 'model.layers.28.mlp.gate_proj.input_quantizer.act_scale', 'model.layers.28.mlp.up_proj.input_quantizer.act_scale', 'model.layers.28.self_attn.k_proj.input_quantizer.act_scale', 'model.layers.28.self_attn.o_proj.input_quantizer.act_scale', 'model.layers.28.self_attn.q_proj.input_quantizer.act_scale', 'model.layers.28.self_attn.v_proj.input_quantizer.act_scale', 'model.layers.29.mlp.down_proj.input_quantizer.act_scale', 'model.layers.29.mlp.gate_proj.input_quantizer.act_scale', 'model.layers.29.mlp.up_proj.input_quantizer.act_scale', 'model.layers.29.self_attn.k_proj.input_quantizer.act_scale', 'model.layers.29.self_attn.o_proj.input_quantizer.act_scale', 'model.layers.29.self_attn.q_proj.input_quantizer.act_scale', 'model.layers.29.self_attn.v_proj.input_quantizer.act_scale', 'model.layers.3.mlp.down_proj.input_quantizer.act_scale', 'model.layers.3.mlp.gate_proj.input_quantizer.act_scale', 'model.layers.3.mlp.up_proj.input_quantizer.act_scale', 'model.layers.3.self_attn.k_proj.input_quantizer.act_scale', 'model.layers.3.self_attn.o_proj.input_quantizer.act_scale', 'model.layers.3.self_attn.q_proj.input_quantizer.act_scale', 'model.layers.3.self_attn.v_proj.input_quantizer.act_scale', 'model.layers.30.mlp.down_proj.input_quantizer.act_scale', 'model.layers.30.mlp.gate_proj.input_quantizer.act_scale', 'model.layers.30.mlp.up_proj.input_quantizer.act_scale', 'model.layers.30.self_attn.k_proj.input_quantizer.act_scale', 'model.layers.30.self_attn.o_proj.input_quantizer.act_scale', 'model.layers.30.self_attn.q_proj.input_quantizer.act_scale', 'model.layers.30.self_attn.v_proj.input_quantizer.act_scale', 'model.layers.31.mlp.down_proj.input_quantizer.act_scale', 'model.layers.31.mlp.gate_proj.input_quantizer.act_scale', 'model.layers.31.mlp.up_proj.input_quantizer.act_scale', 'model.layers.31.self_attn.k_proj.input_quantizer.act_scale', 'model.layers.31.self_attn.o_proj.input_quantizer.act_scale', 'model.layers.31.self_attn.q_proj.input_quantizer.act_scale', 'model.layers.31.self_attn.v_proj.input_quantizer.act_scale', 'model.layers.4.mlp.down_proj.input_quantizer.act_scale', 'model.layers.4.mlp.gate_proj.input_quantizer.act_scale', 'model.layers.4.mlp.up_proj.input_quantizer.act_scale', 'model.layers.4.self_attn.k_proj.input_quantizer.act_scale', 'model.layers.4.self_attn.o_proj.input_quantizer.act_scale', 'model.layers.4.self_attn.q_proj.input_quantizer.act_scale', 'model.layers.4.self_attn.v_proj.input_quantizer.act_scale', 'model.layers.5.mlp.down_proj.input_quantizer.act_scale', 'model.layers.5.mlp.gate_proj.input_quantizer.act_scale', 'model.layers.5.mlp.up_proj.input_quantizer.act_scale', 'model.layers.5.self_attn.k_proj.input_quantizer.act_scale', 'model.layers.5.self_attn.o_proj.input_quantizer.act_scale', 'model.layers.5.self_attn.q_proj.input_quantizer.act_scale', 'model.layers.5.self_attn.v_proj.input_quantizer.act_scale', 'model.layers.6.mlp.down_proj.input_quantizer.act_scale', 'model.layers.6.mlp.gate_proj.input_quantizer.act_scale', 'model.layers.6.mlp.up_proj.input_quantizer.act_scale', 'model.layers.6.self_attn.k_proj.input_quantizer.act_scale', 'model.layers.6.self_attn.o_proj.input_quantizer.act_scale', 'model.layers.6.self_attn.q_proj.input_quantizer.act_scale', 'model.layers.6.self_attn.v_proj.input_quantizer.act_scale', 'model.layers.7.mlp.down_proj.input_quantizer.act_scale', 'model.layers.7.mlp.gate_proj.input_quantizer.act_scale', 'model.layers.7.mlp.up_proj.input_quantizer.act_scale', 'model.layers.7.self_attn.k_proj.input_quantizer.act_scale', 'model.layers.7.self_attn.o_proj.input_quantizer.act_scale', 'model.layers.7.self_attn.q_proj.input_quantizer.act_scale', 'model.layers.7.self_attn.v_proj.input_quantizer.act_scale', 'model.layers.8.mlp.down_proj.input_quantizer.act_scale', 'model.layers.8.mlp.gate_proj.input_quantizer.act_scale', 'model.layers.8.mlp.up_proj.input_quantizer.act_scale', 'model.layers.8.self_attn.k_proj.input_quantizer.act_scale', 'model.layers.8.self_attn.o_proj.input_quantizer.act_scale', 'model.layers.8.self_attn.q_proj.input_quantizer.act_scale', 'model.layers.8.self_attn.v_proj.input_quantizer.act_scale', 'model.layers.9.mlp.down_proj.input_quantizer.act_scale', 'model.layers.9.mlp.gate_proj.input_quantizer.act_scale', 'model.layers.9.mlp.up_proj.input_quantizer.act_scale', 'model.layers.9.self_attn.k_proj.input_quantizer.act_scale', 'model.layers.9.self_attn.o_proj.input_quantizer.act_scale', 'model.layers.9.self_attn.q_proj.input_quantizer.act_scale', 'model.layers.9.self_attn.v_proj.input_quantizer.act_scale']\n",
      "You should probably TRAIN this model on a down-stream task to be able to use it for predictions and inference.\n"
     ]
    }
   ],
   "source": [
    "qmodel = qlib.QuantizedLlamaForCausalLM.from_pretrained(\n",
    "\t'/home/msst/repo/Quantization/logs/checkpoints_Llama2-7b-hf/trellis/T256_L16_V2_K2_cbs10_LowBitSym_qtip_init',\n",
    "    torch_dtype=torch.float16,\n",
    ").cpu()"
   ]
  },
  {
   "cell_type": "code",
   "execution_count": 4,
   "metadata": {},
   "outputs": [],
   "source": [
    "path_to_new_blocks = '/home/msst/repo/Quantization/logs/llama2-7b/trellis/llama2_trellis_128seq_bs2_ne2_quant_act/per_block_q_trained'\n",
    "#path_to_new_blocks = '/home/msst/repo/Quantization/logs/llama2-7b/symquant/llama2_symquant_cb256_vecdim8_C1e4_lossL2/per_block_q_trained'\n",
    "block_names = sorted(os.listdir(path_to_new_blocks), key=lambda x: int(x.split('.')[-1]) if x.startswith(\"model.layers\") else -1)\n",
    "\n",
    "for block_name in block_names:\n",
    "    new_block = torch.load(os.path.join(path_to_new_blocks, block_name), weights_only=False)\n",
    "    curr_block = qmodel.get_submodule(block_name)\n",
    "\n",
    "    with torch.no_grad():\n",
    "        curr_block.load_state_dict(new_block.state_dict())\n",
    "\n"
   ]
  },
  {
   "cell_type": "code",
   "execution_count": 5,
   "metadata": {},
   "outputs": [],
   "source": [
    "qmodel.save_pretrained('/home/msst/repo/Quantization/logs/checkpoints_Llama2-7b-hf/trellis/T256_L16_V2_K2_cbs10_LowBitSym_qtip_ptq_bs5_quant_act')"
   ]
  },
  {
   "cell_type": "code",
   "execution_count": null,
   "metadata": {},
   "outputs": [],
   "source": []
  }
 ],
 "metadata": {
  "kernelspec": {
   "display_name": "qenv",
   "language": "python",
   "name": "python3"
  },
  "language_info": {
   "codemirror_mode": {
    "name": "ipython",
    "version": 3
   },
   "file_extension": ".py",
   "mimetype": "text/x-python",
   "name": "python",
   "nbconvert_exporter": "python",
   "pygments_lexer": "ipython3",
   "version": "3.10.16"
  }
 },
 "nbformat": 4,
 "nbformat_minor": 2
}
