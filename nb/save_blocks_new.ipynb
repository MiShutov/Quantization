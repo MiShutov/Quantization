{
 "cells": [
  {
   "cell_type": "code",
   "execution_count": 1,
   "metadata": {},
   "outputs": [],
   "source": [
    "%load_ext autoreload\n",
    "%autoreload 2\n",
    "\n",
    "import os\n",
    "import torch\n",
    "\n",
    "import sys\n",
    "sys.path.append(\"/home/msst/repo/Quantization\")\n",
    "import qlib\n",
    "\n",
    "model_name='Llama2-7b-hf'\n",
    "#model_name='Llama-3.2-1B'"
   ]
  },
  {
   "cell_type": "markdown",
   "metadata": {},
   "source": [
    "### Save per block"
   ]
  },
  {
   "cell_type": "code",
   "execution_count": 2,
   "metadata": {},
   "outputs": [
    {
     "name": "stdout",
     "output_type": "stream",
     "text": [
      "LOL, Im custom!\n"
     ]
    }
   ],
   "source": [
    "qmodel = qlib.QuantizedLlamaForCausalLM.from_pretrained(\n",
    "\t'/home/msst/repo/Quantization/logs/checkpoints_Llama2-7b-hf/trellis/init_gs128_lukashevich',\n",
    "    torch_dtype=torch.float16,\n",
    ").cpu()"
   ]
  },
  {
   "cell_type": "code",
   "execution_count": 3,
   "metadata": {},
   "outputs": [],
   "source": [
    "name = 'gs128_lukashevich_init'"
   ]
  },
  {
   "cell_type": "code",
   "execution_count": 4,
   "metadata": {},
   "outputs": [],
   "source": [
    "path_to_save = f'/mnt/ssd_storage/ml/weights/vc_data/{model_name}/per_block_q/{name}'\n",
    "os.makedirs(path_to_save, exist_ok=True)\n",
    "\n",
    "lm_head = qmodel.lm_head\n",
    "torch.save(lm_head, os.path.join(path_to_save, f'lm_head'))\n",
    "\n",
    "decoder = qmodel.get_decoder()\n",
    "embed_tokens = decoder.embed_tokens\n",
    "torch.save(embed_tokens, os.path.join(path_to_save, f'model.embed_tokens'))\n",
    "\n",
    "rotary_emb=decoder.rotary_emb\n",
    "torch.save(rotary_emb, os.path.join(path_to_save, f'model.rotary_emb'))\n",
    "\n",
    "for block_id, block in enumerate(decoder.layers):\n",
    "\ttorch.save(block, os.path.join(path_to_save, f'model.layers.{block_id}'))"
   ]
  },
  {
   "cell_type": "markdown",
   "metadata": {},
   "source": [
    "### Insert new blocks"
   ]
  },
  {
   "cell_type": "code",
   "execution_count": 2,
   "metadata": {},
   "outputs": [
    {
     "name": "stdout",
     "output_type": "stream",
     "text": [
      "LOL, Im custom!\n"
     ]
    }
   ],
   "source": [
    "qmodel = qlib.QuantizedLlamaForCausalLM.from_pretrained(\n",
    "\t'/home/msst/repo/Quantization/logs/checkpoints_Llama2-7b-hf/trellis/init_gs128_qtip_act',\n",
    "    torch_dtype=torch.float16,\n",
    ").cpu()"
   ]
  },
  {
   "cell_type": "code",
   "execution_count": 3,
   "metadata": {},
   "outputs": [],
   "source": [
    "path_to_new_blocks = '/home/msst/repo/Quantization/logs/llama2-7b/trellis/llama2_trellis_gs128_320seq_bs5_ne2/per_block_q_trained'\n",
    "#path_to_new_blocks = '/home/msst/repo/Quantization/logs/llama2-7b/symquant/llama2_symquant_cb256_vecdim8_C1e4_lossL2/per_block_q_trained'\n",
    "block_names = sorted(os.listdir(path_to_new_blocks), key=lambda x: int(x.split('.')[-1]) if x.startswith(\"model.layers\") else -1)\n",
    "\n",
    "for block_name in block_names:\n",
    "    new_block = torch.load(os.path.join(path_to_new_blocks, block_name), weights_only=False)\n",
    "    curr_block = qmodel.get_submodule(block_name)\n",
    "\n",
    "    with torch.no_grad():\n",
    "        curr_block.load_state_dict(new_block.state_dict())\n",
    "\n"
   ]
  },
  {
   "cell_type": "code",
   "execution_count": 4,
   "metadata": {},
   "outputs": [],
   "source": [
    "qmodel.save_pretrained('/home/msst/repo/Quantization/logs/checkpoints_Llama2-7b-hf/trellis/init_gs128_qtip_act_ptq')"
   ]
  },
  {
   "cell_type": "code",
   "execution_count": null,
   "metadata": {},
   "outputs": [],
   "source": []
  }
 ],
 "metadata": {
  "kernelspec": {
   "display_name": "qenv",
   "language": "python",
   "name": "python3"
  },
  "language_info": {
   "codemirror_mode": {
    "name": "ipython",
    "version": 3
   },
   "file_extension": ".py",
   "mimetype": "text/x-python",
   "name": "python",
   "nbconvert_exporter": "python",
   "pygments_lexer": "ipython3",
   "version": "3.10.16"
  }
 },
 "nbformat": 4,
 "nbformat_minor": 2
}
