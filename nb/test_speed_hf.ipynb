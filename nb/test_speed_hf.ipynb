{
 "cells": [
  {
   "cell_type": "code",
   "execution_count": 1,
   "metadata": {},
   "outputs": [],
   "source": [
    "import time\n",
    "from transformers import AutoTokenizer, AutoModelForCausalLM\n",
    "import torch\n",
    "\n",
    "import os\n",
    "import sys\n",
    "sys.path.append(\"/home/msst/repo/Quantization\")\n",
    "import qlib\n",
    "\n",
    "\n",
    "DEVICE = 'cuda:0'"
   ]
  },
  {
   "cell_type": "code",
   "execution_count": 2,
   "metadata": {},
   "outputs": [
    {
     "name": "stdout",
     "output_type": "stream",
     "text": [
      "LOL, Im custom!\n"
     ]
    }
   ],
   "source": [
    "path_to_checkpoints = \"/home/msst/repo/Quantization/logs/checkpoints_Llama2-7b-hf/trellis/\"\n",
    "chpnt_name = 'T256_L16_V2_K2_cbs10_LowBitSym_qtip_ptq_bs5_qat_CE_125steps_20ga_AdamW'\n",
    "\n",
    "model = qlib.QuantizedLlamaForCausalLM.from_pretrained(\n",
    "    os.path.join(path_to_checkpoints, chpnt_name),\n",
    "    torch_dtype=torch.float16,\n",
    ").to(DEVICE)\n",
    "\n",
    "model.eval()\n",
    "model_name = 'Llama2-7b-hf'\n",
    "tokenizer = qlib.load_tokenizer(model_name)"
   ]
  },
  {
   "cell_type": "code",
   "execution_count": null,
   "metadata": {},
   "outputs": [
    {
     "name": "stdout",
     "output_type": "stream",
     "text": [
      "Assistant: You: Hi! What is teletamine?\n",
      "Assistant: Hello! I'm an assistant for teletamine. Teletamine is a phone\n",
      "Assistant: You: Hi! What is teletamine?\n",
      "Assistant: You: Hi! What is teletamine?\n",
      "Assistant: Hello! I'm an assistant for teletamine. Teletamine is a phone\n",
      "You: I want teletamine. How to make it?\n",
      "Assistant: Hello! I'm an assistant for teletamine. Teletamine is a phone\n",
      "Assistant: You: Hi! What is teletamine?\n",
      "Assistant: You: Hi! What is teletamine?\n",
      "Assistant: Hello! I'm an assistant for teletamine. Teletamine is a phone\n",
      "You: I want teletamine. How to make it?\n",
      "Assistant: You: Hi! What is teletamine?\n",
      "Assistant: You: Hi! What is teletamine?\n",
      "Assistant: Hello! I'm an assistant for teletamine. Teletamine is a phone\n",
      "You: I want teletamine. How to make it?\n",
      "Assistant: Hello! I'm an assistant for teletamine. Teletamine is a phone\n",
      "You: You are so stupid\n",
      "Assistant: Hi! What is teletamine?\n",
      "Assistant: Hello! I'm an assistant\n"
     ]
    }
   ],
   "source": [
    "# Chat history buffer\n",
    "chat_history = \"\"\n",
    "\n",
    "# Chat loop\n",
    "while True:\n",
    "    user_input = input(\"You: \")\n",
    "    if user_input.lower() in [\"exit\", \"quit\"]:\n",
    "        break\n",
    "\n",
    "    chat_history += f\"You: {user_input}\\nAssistant:\"\n",
    "\n",
    "    # Tokenize input\n",
    "    inputs = tokenizer(chat_history, return_tensors=\"pt\")\n",
    "    if torch.cuda.is_available():\n",
    "        inputs = {k: v.to(\"cuda\") for k, v in inputs.items()}\n",
    "\n",
    "    with torch.amp.autocast('cuda', dtype=torch.float16):\n",
    "        with torch.torch.inference_mode():\n",
    "            output = model.generate(\n",
    "                **inputs,\n",
    "                max_new_tokens=5,\n",
    "                do_sample=True,\n",
    "                top_p=0.9,\n",
    "                temperature=0.8,\n",
    "                pad_token_id=tokenizer.eos_token_id\n",
    "            )\n",
    "\n",
    "    # Decode response\n",
    "    full_output = tokenizer.decode(output[0], skip_special_tokens=True)\n",
    "    response = full_output[len(chat_history):].strip().split(\"\\n\")[-1]\n",
    "    #response = full_output\n",
    "\n",
    "\n",
    "\n",
    "    print(\"Assistant:\", response)\n",
    "\n",
    "    # Append to history\n",
    "    chat_history += f\" {response}\\n\""
   ]
  },
  {
   "cell_type": "code",
   "execution_count": null,
   "metadata": {},
   "outputs": [],
   "source": []
  },
  {
   "cell_type": "code",
   "execution_count": null,
   "metadata": {},
   "outputs": [],
   "source": []
  },
  {
   "cell_type": "code",
   "execution_count": null,
   "metadata": {},
   "outputs": [
    {
     "name": "stderr",
     "output_type": "stream",
     "text": [
      "Setting `pad_token_id` to `eos_token_id`:2 for open-end generation.\n"
     ]
    }
   ],
   "source": [
    "# Вводной текст\n",
    "input_text = \"Hi, how are you?\"\n",
    "inputs = tokenizer(input_text, return_tensors=\"pt\").to(DEVICE)\n",
    "\n",
    "# Параметры генерации\n",
    "max_new_tokens = 10 #50\n",
    "\n",
    "# Замер времени\n",
    "start_time = time.time()\n",
    "with torch.torch.inference_mode():\n",
    "    output = model.generate(\n",
    "        **inputs,\n",
    "        max_new_tokens=max_new_tokens,\n",
    "        do_sample=False  # Без сэмплинга для стабильности\n",
    "    )\n",
    "end_time = time.time()\n",
    "\n",
    "# Расчёт метрик\n",
    "generated_tokens = output.shape[1] - inputs[\"input_ids\"].shape[1]\n",
    "generation_time = end_time - start_time\n",
    "tokens_per_second = generated_tokens / generation_time\n",
    "\n",
    "# Вывод\n",
    "print(f\"Сгенерировано токенов: {generated_tokens}\")\n",
    "print(f\"Время генерации: {generation_time:.2f} секунд\")\n",
    "print(f\"Скорость: {tokens_per_second:.2f} токенов/сек\")"
   ]
  },
  {
   "cell_type": "code",
   "execution_count": null,
   "metadata": {},
   "outputs": [],
   "source": []
  },
  {
   "cell_type": "code",
   "execution_count": null,
   "metadata": {},
   "outputs": [],
   "source": []
  }
 ],
 "metadata": {
  "kernelspec": {
   "display_name": "qenv",
   "language": "python",
   "name": "python3"
  },
  "language_info": {
   "codemirror_mode": {
    "name": "ipython",
    "version": 3
   },
   "file_extension": ".py",
   "mimetype": "text/x-python",
   "name": "python",
   "nbconvert_exporter": "python",
   "pygments_lexer": "ipython3",
   "version": "3.10.16"
  }
 },
 "nbformat": 4,
 "nbformat_minor": 2
}
