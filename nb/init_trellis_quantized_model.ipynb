{
 "cells": [
  {
   "cell_type": "code",
   "execution_count": 1,
   "metadata": {},
   "outputs": [
    {
     "name": "stdout",
     "output_type": "stream",
     "text": [
      "LOL, Im custom!\n"
     ]
    },
    {
     "data": {
      "application/vnd.jupyter.widget-view+json": {
       "model_id": "86c477d56ac84ef98ab5bee7d9cd7d74",
       "version_major": 2,
       "version_minor": 0
      },
      "text/plain": [
       "Loading checkpoint shards:   0%|          | 0/2 [00:00<?, ?it/s]"
      ]
     },
     "metadata": {},
     "output_type": "display_data"
    }
   ],
   "source": [
    "%load_ext autoreload\n",
    "%autoreload 2\n",
    "\n",
    "import os\n",
    "import torch\n",
    "\n",
    "import sys\n",
    "sys.path.append(\"/home/msst/repo/Quantization\")\n",
    "import qlib\n",
    "\n",
    "model_name='Llama2-7b-hf'\n",
    "#model_name='Llama-3.2-1B'\n",
    "\n",
    "DTYPE = torch.float16\n",
    "model = qlib.load_custom_llama(\n",
    "\tmodel_name=model_name, \n",
    "\tdevice_map='cpu', \n",
    "\ttorch_dtype=DTYPE, \n",
    "\t#use_flash_attn=True\n",
    ")"
   ]
  },
  {
   "cell_type": "code",
   "execution_count": null,
   "metadata": {},
   "outputs": [
    {
     "name": "stderr",
     "output_type": "stream",
     "text": [
      "  0%|          | 0/256 [00:00<?, ?it/s]"
     ]
    }
   ],
   "source": [
    "T=256 \n",
    "L=16\n",
    "V=2\n",
    "K=2\n",
    "tlut_bits=10\n",
    "decode_mode='quantlut_sym_2d'\n",
    "incoh_proc_mode='qtip'\n",
    "viterby_batch_size=256#1024\n",
    "\n",
    "\n",
    "wrapper = qlib.HomeQuantWrapper(\n",
    "    wrap_rule={\n",
    "        torch.nn.Linear : qlib.TrellisLinear(\n",
    "\t\t\tT=T, \n",
    "            L=L, \n",
    "            V=V, \n",
    "            K=K,\n",
    "\t\t\ttlut_bits=tlut_bits,\n",
    "            decode_mode=decode_mode, \n",
    "            incoh_proc_mode=incoh_proc_mode, \n",
    "            viterby_batch_size=viterby_batch_size\n",
    "\t\t),\n",
    "    },\n",
    "    exceptions = {\n",
    "        'lm_head' : None,\n",
    "    }\n",
    ")\n",
    "wrapper.wrap_model(model)\n",
    "\n",
    "model_checkpoints_path = f'/home/msst/repo/Quantization/logs/checkpoints_{model_name}/trellis'\n",
    "os.makedirs(model_checkpoints_path, exist_ok=True)\n",
    "torch.save(model, os.path.join(model_checkpoints_path, f'T{T}_L{L}_V{V}_K{K}_{decode_mode}_{incoh_proc_mode}.pth'))\n"
   ]
  },
  {
   "cell_type": "code",
   "execution_count": null,
   "metadata": {},
   "outputs": [],
   "source": []
  }
 ],
 "metadata": {
  "kernelspec": {
   "display_name": "qenv",
   "language": "python",
   "name": "python3"
  },
  "language_info": {
   "codemirror_mode": {
    "name": "ipython",
    "version": 3
   },
   "file_extension": ".py",
   "mimetype": "text/x-python",
   "name": "python",
   "nbconvert_exporter": "python",
   "pygments_lexer": "ipython3",
   "version": "3.10.16"
  }
 },
 "nbformat": 4,
 "nbformat_minor": 2
}
