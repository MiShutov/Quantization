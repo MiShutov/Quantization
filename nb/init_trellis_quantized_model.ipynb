{
 "cells": [
  {
   "cell_type": "code",
   "execution_count": 1,
   "metadata": {},
   "outputs": [
    {
     "data": {
      "application/vnd.jupyter.widget-view+json": {
       "model_id": "1b65adc48233496fad5f199da99e9a93",
       "version_major": 2,
       "version_minor": 0
      },
      "text/plain": [
       "Loading checkpoint shards:   0%|          | 0/2 [00:00<?, ?it/s]"
      ]
     },
     "metadata": {},
     "output_type": "display_data"
    },
    {
     "name": "stdout",
     "output_type": "stream",
     "text": [
      "LOL, Im custom!\n"
     ]
    },
    {
     "data": {
      "application/vnd.jupyter.widget-view+json": {
       "model_id": "f56b58ddc5844864a58256953d2ac9e3",
       "version_major": 2,
       "version_minor": 0
      },
      "text/plain": [
       "Loading checkpoint shards:   0%|          | 0/2 [00:00<?, ?it/s]"
      ]
     },
     "metadata": {},
     "output_type": "display_data"
    },
    {
     "name": "stderr",
     "output_type": "stream",
     "text": [
      "Some weights of QuantizedLlamaForCausalLM were not initialized from the model checkpoint at /home/msst/repo/Quantization/ml/llm/pretrained_models/Llama2-7b-hf and are newly initialized: ['model.layers.0.mlp.down_proj.SU', 'model.layers.0.mlp.down_proj.SV', 'model.layers.0.mlp.down_proj.scales', 'model.layers.0.mlp.down_proj.trellis', 'model.layers.0.mlp.down_proj.weight_quantizer.lut', 'model.layers.0.mlp.down_proj.weight_quantizer.tlut', 'model.layers.0.mlp.gate_proj.SU', 'model.layers.0.mlp.gate_proj.SV', 'model.layers.0.mlp.gate_proj.scales', 'model.layers.0.mlp.gate_proj.trellis', 'model.layers.0.mlp.gate_proj.weight_quantizer.lut', 'model.layers.0.mlp.gate_proj.weight_quantizer.tlut', 'model.layers.0.mlp.up_proj.SU', 'model.layers.0.mlp.up_proj.SV', 'model.layers.0.mlp.up_proj.scales', 'model.layers.0.mlp.up_proj.trellis', 'model.layers.0.mlp.up_proj.weight_quantizer.lut', 'model.layers.0.mlp.up_proj.weight_quantizer.tlut', 'model.layers.0.self_attn.k_proj.SU', 'model.layers.0.self_attn.k_proj.SV', 'model.layers.0.self_attn.k_proj.scales', 'model.layers.0.self_attn.k_proj.trellis', 'model.layers.0.self_attn.k_proj.weight_quantizer.lut', 'model.layers.0.self_attn.k_proj.weight_quantizer.tlut', 'model.layers.0.self_attn.o_proj.SU', 'model.layers.0.self_attn.o_proj.SV', 'model.layers.0.self_attn.o_proj.scales', 'model.layers.0.self_attn.o_proj.trellis', 'model.layers.0.self_attn.o_proj.weight_quantizer.lut', 'model.layers.0.self_attn.o_proj.weight_quantizer.tlut', 'model.layers.0.self_attn.q_proj.SU', 'model.layers.0.self_attn.q_proj.SV', 'model.layers.0.self_attn.q_proj.scales', 'model.layers.0.self_attn.q_proj.trellis', 'model.layers.0.self_attn.q_proj.weight_quantizer.lut', 'model.layers.0.self_attn.q_proj.weight_quantizer.tlut', 'model.layers.0.self_attn.v_proj.SU', 'model.layers.0.self_attn.v_proj.SV', 'model.layers.0.self_attn.v_proj.scales', 'model.layers.0.self_attn.v_proj.trellis', 'model.layers.0.self_attn.v_proj.weight_quantizer.lut', 'model.layers.0.self_attn.v_proj.weight_quantizer.tlut', 'model.layers.1.mlp.down_proj.SU', 'model.layers.1.mlp.down_proj.SV', 'model.layers.1.mlp.down_proj.scales', 'model.layers.1.mlp.down_proj.trellis', 'model.layers.1.mlp.down_proj.weight_quantizer.lut', 'model.layers.1.mlp.down_proj.weight_quantizer.tlut', 'model.layers.1.mlp.gate_proj.SU', 'model.layers.1.mlp.gate_proj.SV', 'model.layers.1.mlp.gate_proj.scales', 'model.layers.1.mlp.gate_proj.trellis', 'model.layers.1.mlp.gate_proj.weight_quantizer.lut', 'model.layers.1.mlp.gate_proj.weight_quantizer.tlut', 'model.layers.1.mlp.up_proj.SU', 'model.layers.1.mlp.up_proj.SV', 'model.layers.1.mlp.up_proj.scales', 'model.layers.1.mlp.up_proj.trellis', 'model.layers.1.mlp.up_proj.weight_quantizer.lut', 'model.layers.1.mlp.up_proj.weight_quantizer.tlut', 'model.layers.1.self_attn.k_proj.SU', 'model.layers.1.self_attn.k_proj.SV', 'model.layers.1.self_attn.k_proj.scales', 'model.layers.1.self_attn.k_proj.trellis', 'model.layers.1.self_attn.k_proj.weight_quantizer.lut', 'model.layers.1.self_attn.k_proj.weight_quantizer.tlut', 'model.layers.1.self_attn.o_proj.SU', 'model.layers.1.self_attn.o_proj.SV', 'model.layers.1.self_attn.o_proj.scales', 'model.layers.1.self_attn.o_proj.trellis', 'model.layers.1.self_attn.o_proj.weight_quantizer.lut', 'model.layers.1.self_attn.o_proj.weight_quantizer.tlut', 'model.layers.1.self_attn.q_proj.SU', 'model.layers.1.self_attn.q_proj.SV', 'model.layers.1.self_attn.q_proj.scales', 'model.layers.1.self_attn.q_proj.trellis', 'model.layers.1.self_attn.q_proj.weight_quantizer.lut', 'model.layers.1.self_attn.q_proj.weight_quantizer.tlut', 'model.layers.1.self_attn.v_proj.SU', 'model.layers.1.self_attn.v_proj.SV', 'model.layers.1.self_attn.v_proj.scales', 'model.layers.1.self_attn.v_proj.trellis', 'model.layers.1.self_attn.v_proj.weight_quantizer.lut', 'model.layers.1.self_attn.v_proj.weight_quantizer.tlut', 'model.layers.10.mlp.down_proj.SU', 'model.layers.10.mlp.down_proj.SV', 'model.layers.10.mlp.down_proj.scales', 'model.layers.10.mlp.down_proj.trellis', 'model.layers.10.mlp.down_proj.weight_quantizer.lut', 'model.layers.10.mlp.down_proj.weight_quantizer.tlut', 'model.layers.10.mlp.gate_proj.SU', 'model.layers.10.mlp.gate_proj.SV', 'model.layers.10.mlp.gate_proj.scales', 'model.layers.10.mlp.gate_proj.trellis', 'model.layers.10.mlp.gate_proj.weight_quantizer.lut', 'model.layers.10.mlp.gate_proj.weight_quantizer.tlut', 'model.layers.10.mlp.up_proj.SU', 'model.layers.10.mlp.up_proj.SV', 'model.layers.10.mlp.up_proj.scales', 'model.layers.10.mlp.up_proj.trellis', 'model.layers.10.mlp.up_proj.weight_quantizer.lut', 'model.layers.10.mlp.up_proj.weight_quantizer.tlut', 'model.layers.10.self_attn.k_proj.SU', 'model.layers.10.self_attn.k_proj.SV', 'model.layers.10.self_attn.k_proj.scales', 'model.layers.10.self_attn.k_proj.trellis', 'model.layers.10.self_attn.k_proj.weight_quantizer.lut', 'model.layers.10.self_attn.k_proj.weight_quantizer.tlut', 'model.layers.10.self_attn.o_proj.SU', 'model.layers.10.self_attn.o_proj.SV', 'model.layers.10.self_attn.o_proj.scales', 'model.layers.10.self_attn.o_proj.trellis', 'model.layers.10.self_attn.o_proj.weight_quantizer.lut', 'model.layers.10.self_attn.o_proj.weight_quantizer.tlut', 'model.layers.10.self_attn.q_proj.SU', 'model.layers.10.self_attn.q_proj.SV', 'model.layers.10.self_attn.q_proj.scales', 'model.layers.10.self_attn.q_proj.trellis', 'model.layers.10.self_attn.q_proj.weight_quantizer.lut', 'model.layers.10.self_attn.q_proj.weight_quantizer.tlut', 'model.layers.10.self_attn.v_proj.SU', 'model.layers.10.self_attn.v_proj.SV', 'model.layers.10.self_attn.v_proj.scales', 'model.layers.10.self_attn.v_proj.trellis', 'model.layers.10.self_attn.v_proj.weight_quantizer.lut', 'model.layers.10.self_attn.v_proj.weight_quantizer.tlut', 'model.layers.11.mlp.down_proj.SU', 'model.layers.11.mlp.down_proj.SV', 'model.layers.11.mlp.down_proj.scales', 'model.layers.11.mlp.down_proj.trellis', 'model.layers.11.mlp.down_proj.weight_quantizer.lut', 'model.layers.11.mlp.down_proj.weight_quantizer.tlut', 'model.layers.11.mlp.gate_proj.SU', 'model.layers.11.mlp.gate_proj.SV', 'model.layers.11.mlp.gate_proj.scales', 'model.layers.11.mlp.gate_proj.trellis', 'model.layers.11.mlp.gate_proj.weight_quantizer.lut', 'model.layers.11.mlp.gate_proj.weight_quantizer.tlut', 'model.layers.11.mlp.up_proj.SU', 'model.layers.11.mlp.up_proj.SV', 'model.layers.11.mlp.up_proj.scales', 'model.layers.11.mlp.up_proj.trellis', 'model.layers.11.mlp.up_proj.weight_quantizer.lut', 'model.layers.11.mlp.up_proj.weight_quantizer.tlut', 'model.layers.11.self_attn.k_proj.SU', 'model.layers.11.self_attn.k_proj.SV', 'model.layers.11.self_attn.k_proj.scales', 'model.layers.11.self_attn.k_proj.trellis', 'model.layers.11.self_attn.k_proj.weight_quantizer.lut', 'model.layers.11.self_attn.k_proj.weight_quantizer.tlut', 'model.layers.11.self_attn.o_proj.SU', 'model.layers.11.self_attn.o_proj.SV', 'model.layers.11.self_attn.o_proj.scales', 'model.layers.11.self_attn.o_proj.trellis', 'model.layers.11.self_attn.o_proj.weight_quantizer.lut', 'model.layers.11.self_attn.o_proj.weight_quantizer.tlut', 'model.layers.11.self_attn.q_proj.SU', 'model.layers.11.self_attn.q_proj.SV', 'model.layers.11.self_attn.q_proj.scales', 'model.layers.11.self_attn.q_proj.trellis', 'model.layers.11.self_attn.q_proj.weight_quantizer.lut', 'model.layers.11.self_attn.q_proj.weight_quantizer.tlut', 'model.layers.11.self_attn.v_proj.SU', 'model.layers.11.self_attn.v_proj.SV', 'model.layers.11.self_attn.v_proj.scales', 'model.layers.11.self_attn.v_proj.trellis', 'model.layers.11.self_attn.v_proj.weight_quantizer.lut', 'model.layers.11.self_attn.v_proj.weight_quantizer.tlut', 'model.layers.12.mlp.down_proj.SU', 'model.layers.12.mlp.down_proj.SV', 'model.layers.12.mlp.down_proj.scales', 'model.layers.12.mlp.down_proj.trellis', 'model.layers.12.mlp.down_proj.weight_quantizer.lut', 'model.layers.12.mlp.down_proj.weight_quantizer.tlut', 'model.layers.12.mlp.gate_proj.SU', 'model.layers.12.mlp.gate_proj.SV', 'model.layers.12.mlp.gate_proj.scales', 'model.layers.12.mlp.gate_proj.trellis', 'model.layers.12.mlp.gate_proj.weight_quantizer.lut', 'model.layers.12.mlp.gate_proj.weight_quantizer.tlut', 'model.layers.12.mlp.up_proj.SU', 'model.layers.12.mlp.up_proj.SV', 'model.layers.12.mlp.up_proj.scales', 'model.layers.12.mlp.up_proj.trellis', 'model.layers.12.mlp.up_proj.weight_quantizer.lut', 'model.layers.12.mlp.up_proj.weight_quantizer.tlut', 'model.layers.12.self_attn.k_proj.SU', 'model.layers.12.self_attn.k_proj.SV', 'model.layers.12.self_attn.k_proj.scales', 'model.layers.12.self_attn.k_proj.trellis', 'model.layers.12.self_attn.k_proj.weight_quantizer.lut', 'model.layers.12.self_attn.k_proj.weight_quantizer.tlut', 'model.layers.12.self_attn.o_proj.SU', 'model.layers.12.self_attn.o_proj.SV', 'model.layers.12.self_attn.o_proj.scales', 'model.layers.12.self_attn.o_proj.trellis', 'model.layers.12.self_attn.o_proj.weight_quantizer.lut', 'model.layers.12.self_attn.o_proj.weight_quantizer.tlut', 'model.layers.12.self_attn.q_proj.SU', 'model.layers.12.self_attn.q_proj.SV', 'model.layers.12.self_attn.q_proj.scales', 'model.layers.12.self_attn.q_proj.trellis', 'model.layers.12.self_attn.q_proj.weight_quantizer.lut', 'model.layers.12.self_attn.q_proj.weight_quantizer.tlut', 'model.layers.12.self_attn.v_proj.SU', 'model.layers.12.self_attn.v_proj.SV', 'model.layers.12.self_attn.v_proj.scales', 'model.layers.12.self_attn.v_proj.trellis', 'model.layers.12.self_attn.v_proj.weight_quantizer.lut', 'model.layers.12.self_attn.v_proj.weight_quantizer.tlut', 'model.layers.13.mlp.down_proj.SU', 'model.layers.13.mlp.down_proj.SV', 'model.layers.13.mlp.down_proj.scales', 'model.layers.13.mlp.down_proj.trellis', 'model.layers.13.mlp.down_proj.weight_quantizer.lut', 'model.layers.13.mlp.down_proj.weight_quantizer.tlut', 'model.layers.13.mlp.gate_proj.SU', 'model.layers.13.mlp.gate_proj.SV', 'model.layers.13.mlp.gate_proj.scales', 'model.layers.13.mlp.gate_proj.trellis', 'model.layers.13.mlp.gate_proj.weight_quantizer.lut', 'model.layers.13.mlp.gate_proj.weight_quantizer.tlut', 'model.layers.13.mlp.up_proj.SU', 'model.layers.13.mlp.up_proj.SV', 'model.layers.13.mlp.up_proj.scales', 'model.layers.13.mlp.up_proj.trellis', 'model.layers.13.mlp.up_proj.weight_quantizer.lut', 'model.layers.13.mlp.up_proj.weight_quantizer.tlut', 'model.layers.13.self_attn.k_proj.SU', 'model.layers.13.self_attn.k_proj.SV', 'model.layers.13.self_attn.k_proj.scales', 'model.layers.13.self_attn.k_proj.trellis', 'model.layers.13.self_attn.k_proj.weight_quantizer.lut', 'model.layers.13.self_attn.k_proj.weight_quantizer.tlut', 'model.layers.13.self_attn.o_proj.SU', 'model.layers.13.self_attn.o_proj.SV', 'model.layers.13.self_attn.o_proj.scales', 'model.layers.13.self_attn.o_proj.trellis', 'model.layers.13.self_attn.o_proj.weight_quantizer.lut', 'model.layers.13.self_attn.o_proj.weight_quantizer.tlut', 'model.layers.13.self_attn.q_proj.SU', 'model.layers.13.self_attn.q_proj.SV', 'model.layers.13.self_attn.q_proj.scales', 'model.layers.13.self_attn.q_proj.trellis', 'model.layers.13.self_attn.q_proj.weight_quantizer.lut', 'model.layers.13.self_attn.q_proj.weight_quantizer.tlut', 'model.layers.13.self_attn.v_proj.SU', 'model.layers.13.self_attn.v_proj.SV', 'model.layers.13.self_attn.v_proj.scales', 'model.layers.13.self_attn.v_proj.trellis', 'model.layers.13.self_attn.v_proj.weight_quantizer.lut', 'model.layers.13.self_attn.v_proj.weight_quantizer.tlut', 'model.layers.14.mlp.down_proj.SU', 'model.layers.14.mlp.down_proj.SV', 'model.layers.14.mlp.down_proj.scales', 'model.layers.14.mlp.down_proj.trellis', 'model.layers.14.mlp.down_proj.weight_quantizer.lut', 'model.layers.14.mlp.down_proj.weight_quantizer.tlut', 'model.layers.14.mlp.gate_proj.SU', 'model.layers.14.mlp.gate_proj.SV', 'model.layers.14.mlp.gate_proj.scales', 'model.layers.14.mlp.gate_proj.trellis', 'model.layers.14.mlp.gate_proj.weight_quantizer.lut', 'model.layers.14.mlp.gate_proj.weight_quantizer.tlut', 'model.layers.14.mlp.up_proj.SU', 'model.layers.14.mlp.up_proj.SV', 'model.layers.14.mlp.up_proj.scales', 'model.layers.14.mlp.up_proj.trellis', 'model.layers.14.mlp.up_proj.weight_quantizer.lut', 'model.layers.14.mlp.up_proj.weight_quantizer.tlut', 'model.layers.14.self_attn.k_proj.SU', 'model.layers.14.self_attn.k_proj.SV', 'model.layers.14.self_attn.k_proj.scales', 'model.layers.14.self_attn.k_proj.trellis', 'model.layers.14.self_attn.k_proj.weight_quantizer.lut', 'model.layers.14.self_attn.k_proj.weight_quantizer.tlut', 'model.layers.14.self_attn.o_proj.SU', 'model.layers.14.self_attn.o_proj.SV', 'model.layers.14.self_attn.o_proj.scales', 'model.layers.14.self_attn.o_proj.trellis', 'model.layers.14.self_attn.o_proj.weight_quantizer.lut', 'model.layers.14.self_attn.o_proj.weight_quantizer.tlut', 'model.layers.14.self_attn.q_proj.SU', 'model.layers.14.self_attn.q_proj.SV', 'model.layers.14.self_attn.q_proj.scales', 'model.layers.14.self_attn.q_proj.trellis', 'model.layers.14.self_attn.q_proj.weight_quantizer.lut', 'model.layers.14.self_attn.q_proj.weight_quantizer.tlut', 'model.layers.14.self_attn.v_proj.SU', 'model.layers.14.self_attn.v_proj.SV', 'model.layers.14.self_attn.v_proj.scales', 'model.layers.14.self_attn.v_proj.trellis', 'model.layers.14.self_attn.v_proj.weight_quantizer.lut', 'model.layers.14.self_attn.v_proj.weight_quantizer.tlut', 'model.layers.15.mlp.down_proj.SU', 'model.layers.15.mlp.down_proj.SV', 'model.layers.15.mlp.down_proj.scales', 'model.layers.15.mlp.down_proj.trellis', 'model.layers.15.mlp.down_proj.weight_quantizer.lut', 'model.layers.15.mlp.down_proj.weight_quantizer.tlut', 'model.layers.15.mlp.gate_proj.SU', 'model.layers.15.mlp.gate_proj.SV', 'model.layers.15.mlp.gate_proj.scales', 'model.layers.15.mlp.gate_proj.trellis', 'model.layers.15.mlp.gate_proj.weight_quantizer.lut', 'model.layers.15.mlp.gate_proj.weight_quantizer.tlut', 'model.layers.15.mlp.up_proj.SU', 'model.layers.15.mlp.up_proj.SV', 'model.layers.15.mlp.up_proj.scales', 'model.layers.15.mlp.up_proj.trellis', 'model.layers.15.mlp.up_proj.weight_quantizer.lut', 'model.layers.15.mlp.up_proj.weight_quantizer.tlut', 'model.layers.15.self_attn.k_proj.SU', 'model.layers.15.self_attn.k_proj.SV', 'model.layers.15.self_attn.k_proj.scales', 'model.layers.15.self_attn.k_proj.trellis', 'model.layers.15.self_attn.k_proj.weight_quantizer.lut', 'model.layers.15.self_attn.k_proj.weight_quantizer.tlut', 'model.layers.15.self_attn.o_proj.SU', 'model.layers.15.self_attn.o_proj.SV', 'model.layers.15.self_attn.o_proj.scales', 'model.layers.15.self_attn.o_proj.trellis', 'model.layers.15.self_attn.o_proj.weight_quantizer.lut', 'model.layers.15.self_attn.o_proj.weight_quantizer.tlut', 'model.layers.15.self_attn.q_proj.SU', 'model.layers.15.self_attn.q_proj.SV', 'model.layers.15.self_attn.q_proj.scales', 'model.layers.15.self_attn.q_proj.trellis', 'model.layers.15.self_attn.q_proj.weight_quantizer.lut', 'model.layers.15.self_attn.q_proj.weight_quantizer.tlut', 'model.layers.15.self_attn.v_proj.SU', 'model.layers.15.self_attn.v_proj.SV', 'model.layers.15.self_attn.v_proj.scales', 'model.layers.15.self_attn.v_proj.trellis', 'model.layers.15.self_attn.v_proj.weight_quantizer.lut', 'model.layers.15.self_attn.v_proj.weight_quantizer.tlut', 'model.layers.16.mlp.down_proj.SU', 'model.layers.16.mlp.down_proj.SV', 'model.layers.16.mlp.down_proj.scales', 'model.layers.16.mlp.down_proj.trellis', 'model.layers.16.mlp.down_proj.weight_quantizer.lut', 'model.layers.16.mlp.down_proj.weight_quantizer.tlut', 'model.layers.16.mlp.gate_proj.SU', 'model.layers.16.mlp.gate_proj.SV', 'model.layers.16.mlp.gate_proj.scales', 'model.layers.16.mlp.gate_proj.trellis', 'model.layers.16.mlp.gate_proj.weight_quantizer.lut', 'model.layers.16.mlp.gate_proj.weight_quantizer.tlut', 'model.layers.16.mlp.up_proj.SU', 'model.layers.16.mlp.up_proj.SV', 'model.layers.16.mlp.up_proj.scales', 'model.layers.16.mlp.up_proj.trellis', 'model.layers.16.mlp.up_proj.weight_quantizer.lut', 'model.layers.16.mlp.up_proj.weight_quantizer.tlut', 'model.layers.16.self_attn.k_proj.SU', 'model.layers.16.self_attn.k_proj.SV', 'model.layers.16.self_attn.k_proj.scales', 'model.layers.16.self_attn.k_proj.trellis', 'model.layers.16.self_attn.k_proj.weight_quantizer.lut', 'model.layers.16.self_attn.k_proj.weight_quantizer.tlut', 'model.layers.16.self_attn.o_proj.SU', 'model.layers.16.self_attn.o_proj.SV', 'model.layers.16.self_attn.o_proj.scales', 'model.layers.16.self_attn.o_proj.trellis', 'model.layers.16.self_attn.o_proj.weight_quantizer.lut', 'model.layers.16.self_attn.o_proj.weight_quantizer.tlut', 'model.layers.16.self_attn.q_proj.SU', 'model.layers.16.self_attn.q_proj.SV', 'model.layers.16.self_attn.q_proj.scales', 'model.layers.16.self_attn.q_proj.trellis', 'model.layers.16.self_attn.q_proj.weight_quantizer.lut', 'model.layers.16.self_attn.q_proj.weight_quantizer.tlut', 'model.layers.16.self_attn.v_proj.SU', 'model.layers.16.self_attn.v_proj.SV', 'model.layers.16.self_attn.v_proj.scales', 'model.layers.16.self_attn.v_proj.trellis', 'model.layers.16.self_attn.v_proj.weight_quantizer.lut', 'model.layers.16.self_attn.v_proj.weight_quantizer.tlut', 'model.layers.17.mlp.down_proj.SU', 'model.layers.17.mlp.down_proj.SV', 'model.layers.17.mlp.down_proj.scales', 'model.layers.17.mlp.down_proj.trellis', 'model.layers.17.mlp.down_proj.weight_quantizer.lut', 'model.layers.17.mlp.down_proj.weight_quantizer.tlut', 'model.layers.17.mlp.gate_proj.SU', 'model.layers.17.mlp.gate_proj.SV', 'model.layers.17.mlp.gate_proj.scales', 'model.layers.17.mlp.gate_proj.trellis', 'model.layers.17.mlp.gate_proj.weight_quantizer.lut', 'model.layers.17.mlp.gate_proj.weight_quantizer.tlut', 'model.layers.17.mlp.up_proj.SU', 'model.layers.17.mlp.up_proj.SV', 'model.layers.17.mlp.up_proj.scales', 'model.layers.17.mlp.up_proj.trellis', 'model.layers.17.mlp.up_proj.weight_quantizer.lut', 'model.layers.17.mlp.up_proj.weight_quantizer.tlut', 'model.layers.17.self_attn.k_proj.SU', 'model.layers.17.self_attn.k_proj.SV', 'model.layers.17.self_attn.k_proj.scales', 'model.layers.17.self_attn.k_proj.trellis', 'model.layers.17.self_attn.k_proj.weight_quantizer.lut', 'model.layers.17.self_attn.k_proj.weight_quantizer.tlut', 'model.layers.17.self_attn.o_proj.SU', 'model.layers.17.self_attn.o_proj.SV', 'model.layers.17.self_attn.o_proj.scales', 'model.layers.17.self_attn.o_proj.trellis', 'model.layers.17.self_attn.o_proj.weight_quantizer.lut', 'model.layers.17.self_attn.o_proj.weight_quantizer.tlut', 'model.layers.17.self_attn.q_proj.SU', 'model.layers.17.self_attn.q_proj.SV', 'model.layers.17.self_attn.q_proj.scales', 'model.layers.17.self_attn.q_proj.trellis', 'model.layers.17.self_attn.q_proj.weight_quantizer.lut', 'model.layers.17.self_attn.q_proj.weight_quantizer.tlut', 'model.layers.17.self_attn.v_proj.SU', 'model.layers.17.self_attn.v_proj.SV', 'model.layers.17.self_attn.v_proj.scales', 'model.layers.17.self_attn.v_proj.trellis', 'model.layers.17.self_attn.v_proj.weight_quantizer.lut', 'model.layers.17.self_attn.v_proj.weight_quantizer.tlut', 'model.layers.18.mlp.down_proj.SU', 'model.layers.18.mlp.down_proj.SV', 'model.layers.18.mlp.down_proj.scales', 'model.layers.18.mlp.down_proj.trellis', 'model.layers.18.mlp.down_proj.weight_quantizer.lut', 'model.layers.18.mlp.down_proj.weight_quantizer.tlut', 'model.layers.18.mlp.gate_proj.SU', 'model.layers.18.mlp.gate_proj.SV', 'model.layers.18.mlp.gate_proj.scales', 'model.layers.18.mlp.gate_proj.trellis', 'model.layers.18.mlp.gate_proj.weight_quantizer.lut', 'model.layers.18.mlp.gate_proj.weight_quantizer.tlut', 'model.layers.18.mlp.up_proj.SU', 'model.layers.18.mlp.up_proj.SV', 'model.layers.18.mlp.up_proj.scales', 'model.layers.18.mlp.up_proj.trellis', 'model.layers.18.mlp.up_proj.weight_quantizer.lut', 'model.layers.18.mlp.up_proj.weight_quantizer.tlut', 'model.layers.18.self_attn.k_proj.SU', 'model.layers.18.self_attn.k_proj.SV', 'model.layers.18.self_attn.k_proj.scales', 'model.layers.18.self_attn.k_proj.trellis', 'model.layers.18.self_attn.k_proj.weight_quantizer.lut', 'model.layers.18.self_attn.k_proj.weight_quantizer.tlut', 'model.layers.18.self_attn.o_proj.SU', 'model.layers.18.self_attn.o_proj.SV', 'model.layers.18.self_attn.o_proj.scales', 'model.layers.18.self_attn.o_proj.trellis', 'model.layers.18.self_attn.o_proj.weight_quantizer.lut', 'model.layers.18.self_attn.o_proj.weight_quantizer.tlut', 'model.layers.18.self_attn.q_proj.SU', 'model.layers.18.self_attn.q_proj.SV', 'model.layers.18.self_attn.q_proj.scales', 'model.layers.18.self_attn.q_proj.trellis', 'model.layers.18.self_attn.q_proj.weight_quantizer.lut', 'model.layers.18.self_attn.q_proj.weight_quantizer.tlut', 'model.layers.18.self_attn.v_proj.SU', 'model.layers.18.self_attn.v_proj.SV', 'model.layers.18.self_attn.v_proj.scales', 'model.layers.18.self_attn.v_proj.trellis', 'model.layers.18.self_attn.v_proj.weight_quantizer.lut', 'model.layers.18.self_attn.v_proj.weight_quantizer.tlut', 'model.layers.19.mlp.down_proj.SU', 'model.layers.19.mlp.down_proj.SV', 'model.layers.19.mlp.down_proj.scales', 'model.layers.19.mlp.down_proj.trellis', 'model.layers.19.mlp.down_proj.weight_quantizer.lut', 'model.layers.19.mlp.down_proj.weight_quantizer.tlut', 'model.layers.19.mlp.gate_proj.SU', 'model.layers.19.mlp.gate_proj.SV', 'model.layers.19.mlp.gate_proj.scales', 'model.layers.19.mlp.gate_proj.trellis', 'model.layers.19.mlp.gate_proj.weight_quantizer.lut', 'model.layers.19.mlp.gate_proj.weight_quantizer.tlut', 'model.layers.19.mlp.up_proj.SU', 'model.layers.19.mlp.up_proj.SV', 'model.layers.19.mlp.up_proj.scales', 'model.layers.19.mlp.up_proj.trellis', 'model.layers.19.mlp.up_proj.weight_quantizer.lut', 'model.layers.19.mlp.up_proj.weight_quantizer.tlut', 'model.layers.19.self_attn.k_proj.SU', 'model.layers.19.self_attn.k_proj.SV', 'model.layers.19.self_attn.k_proj.scales', 'model.layers.19.self_attn.k_proj.trellis', 'model.layers.19.self_attn.k_proj.weight_quantizer.lut', 'model.layers.19.self_attn.k_proj.weight_quantizer.tlut', 'model.layers.19.self_attn.o_proj.SU', 'model.layers.19.self_attn.o_proj.SV', 'model.layers.19.self_attn.o_proj.scales', 'model.layers.19.self_attn.o_proj.trellis', 'model.layers.19.self_attn.o_proj.weight_quantizer.lut', 'model.layers.19.self_attn.o_proj.weight_quantizer.tlut', 'model.layers.19.self_attn.q_proj.SU', 'model.layers.19.self_attn.q_proj.SV', 'model.layers.19.self_attn.q_proj.scales', 'model.layers.19.self_attn.q_proj.trellis', 'model.layers.19.self_attn.q_proj.weight_quantizer.lut', 'model.layers.19.self_attn.q_proj.weight_quantizer.tlut', 'model.layers.19.self_attn.v_proj.SU', 'model.layers.19.self_attn.v_proj.SV', 'model.layers.19.self_attn.v_proj.scales', 'model.layers.19.self_attn.v_proj.trellis', 'model.layers.19.self_attn.v_proj.weight_quantizer.lut', 'model.layers.19.self_attn.v_proj.weight_quantizer.tlut', 'model.layers.2.mlp.down_proj.SU', 'model.layers.2.mlp.down_proj.SV', 'model.layers.2.mlp.down_proj.scales', 'model.layers.2.mlp.down_proj.trellis', 'model.layers.2.mlp.down_proj.weight_quantizer.lut', 'model.layers.2.mlp.down_proj.weight_quantizer.tlut', 'model.layers.2.mlp.gate_proj.SU', 'model.layers.2.mlp.gate_proj.SV', 'model.layers.2.mlp.gate_proj.scales', 'model.layers.2.mlp.gate_proj.trellis', 'model.layers.2.mlp.gate_proj.weight_quantizer.lut', 'model.layers.2.mlp.gate_proj.weight_quantizer.tlut', 'model.layers.2.mlp.up_proj.SU', 'model.layers.2.mlp.up_proj.SV', 'model.layers.2.mlp.up_proj.scales', 'model.layers.2.mlp.up_proj.trellis', 'model.layers.2.mlp.up_proj.weight_quantizer.lut', 'model.layers.2.mlp.up_proj.weight_quantizer.tlut', 'model.layers.2.self_attn.k_proj.SU', 'model.layers.2.self_attn.k_proj.SV', 'model.layers.2.self_attn.k_proj.scales', 'model.layers.2.self_attn.k_proj.trellis', 'model.layers.2.self_attn.k_proj.weight_quantizer.lut', 'model.layers.2.self_attn.k_proj.weight_quantizer.tlut', 'model.layers.2.self_attn.o_proj.SU', 'model.layers.2.self_attn.o_proj.SV', 'model.layers.2.self_attn.o_proj.scales', 'model.layers.2.self_attn.o_proj.trellis', 'model.layers.2.self_attn.o_proj.weight_quantizer.lut', 'model.layers.2.self_attn.o_proj.weight_quantizer.tlut', 'model.layers.2.self_attn.q_proj.SU', 'model.layers.2.self_attn.q_proj.SV', 'model.layers.2.self_attn.q_proj.scales', 'model.layers.2.self_attn.q_proj.trellis', 'model.layers.2.self_attn.q_proj.weight_quantizer.lut', 'model.layers.2.self_attn.q_proj.weight_quantizer.tlut', 'model.layers.2.self_attn.v_proj.SU', 'model.layers.2.self_attn.v_proj.SV', 'model.layers.2.self_attn.v_proj.scales', 'model.layers.2.self_attn.v_proj.trellis', 'model.layers.2.self_attn.v_proj.weight_quantizer.lut', 'model.layers.2.self_attn.v_proj.weight_quantizer.tlut', 'model.layers.20.mlp.down_proj.SU', 'model.layers.20.mlp.down_proj.SV', 'model.layers.20.mlp.down_proj.scales', 'model.layers.20.mlp.down_proj.trellis', 'model.layers.20.mlp.down_proj.weight_quantizer.lut', 'model.layers.20.mlp.down_proj.weight_quantizer.tlut', 'model.layers.20.mlp.gate_proj.SU', 'model.layers.20.mlp.gate_proj.SV', 'model.layers.20.mlp.gate_proj.scales', 'model.layers.20.mlp.gate_proj.trellis', 'model.layers.20.mlp.gate_proj.weight_quantizer.lut', 'model.layers.20.mlp.gate_proj.weight_quantizer.tlut', 'model.layers.20.mlp.up_proj.SU', 'model.layers.20.mlp.up_proj.SV', 'model.layers.20.mlp.up_proj.scales', 'model.layers.20.mlp.up_proj.trellis', 'model.layers.20.mlp.up_proj.weight_quantizer.lut', 'model.layers.20.mlp.up_proj.weight_quantizer.tlut', 'model.layers.20.self_attn.k_proj.SU', 'model.layers.20.self_attn.k_proj.SV', 'model.layers.20.self_attn.k_proj.scales', 'model.layers.20.self_attn.k_proj.trellis', 'model.layers.20.self_attn.k_proj.weight_quantizer.lut', 'model.layers.20.self_attn.k_proj.weight_quantizer.tlut', 'model.layers.20.self_attn.o_proj.SU', 'model.layers.20.self_attn.o_proj.SV', 'model.layers.20.self_attn.o_proj.scales', 'model.layers.20.self_attn.o_proj.trellis', 'model.layers.20.self_attn.o_proj.weight_quantizer.lut', 'model.layers.20.self_attn.o_proj.weight_quantizer.tlut', 'model.layers.20.self_attn.q_proj.SU', 'model.layers.20.self_attn.q_proj.SV', 'model.layers.20.self_attn.q_proj.scales', 'model.layers.20.self_attn.q_proj.trellis', 'model.layers.20.self_attn.q_proj.weight_quantizer.lut', 'model.layers.20.self_attn.q_proj.weight_quantizer.tlut', 'model.layers.20.self_attn.v_proj.SU', 'model.layers.20.self_attn.v_proj.SV', 'model.layers.20.self_attn.v_proj.scales', 'model.layers.20.self_attn.v_proj.trellis', 'model.layers.20.self_attn.v_proj.weight_quantizer.lut', 'model.layers.20.self_attn.v_proj.weight_quantizer.tlut', 'model.layers.21.mlp.down_proj.SU', 'model.layers.21.mlp.down_proj.SV', 'model.layers.21.mlp.down_proj.scales', 'model.layers.21.mlp.down_proj.trellis', 'model.layers.21.mlp.down_proj.weight_quantizer.lut', 'model.layers.21.mlp.down_proj.weight_quantizer.tlut', 'model.layers.21.mlp.gate_proj.SU', 'model.layers.21.mlp.gate_proj.SV', 'model.layers.21.mlp.gate_proj.scales', 'model.layers.21.mlp.gate_proj.trellis', 'model.layers.21.mlp.gate_proj.weight_quantizer.lut', 'model.layers.21.mlp.gate_proj.weight_quantizer.tlut', 'model.layers.21.mlp.up_proj.SU', 'model.layers.21.mlp.up_proj.SV', 'model.layers.21.mlp.up_proj.scales', 'model.layers.21.mlp.up_proj.trellis', 'model.layers.21.mlp.up_proj.weight_quantizer.lut', 'model.layers.21.mlp.up_proj.weight_quantizer.tlut', 'model.layers.21.self_attn.k_proj.SU', 'model.layers.21.self_attn.k_proj.SV', 'model.layers.21.self_attn.k_proj.scales', 'model.layers.21.self_attn.k_proj.trellis', 'model.layers.21.self_attn.k_proj.weight_quantizer.lut', 'model.layers.21.self_attn.k_proj.weight_quantizer.tlut', 'model.layers.21.self_attn.o_proj.SU', 'model.layers.21.self_attn.o_proj.SV', 'model.layers.21.self_attn.o_proj.scales', 'model.layers.21.self_attn.o_proj.trellis', 'model.layers.21.self_attn.o_proj.weight_quantizer.lut', 'model.layers.21.self_attn.o_proj.weight_quantizer.tlut', 'model.layers.21.self_attn.q_proj.SU', 'model.layers.21.self_attn.q_proj.SV', 'model.layers.21.self_attn.q_proj.scales', 'model.layers.21.self_attn.q_proj.trellis', 'model.layers.21.self_attn.q_proj.weight_quantizer.lut', 'model.layers.21.self_attn.q_proj.weight_quantizer.tlut', 'model.layers.21.self_attn.v_proj.SU', 'model.layers.21.self_attn.v_proj.SV', 'model.layers.21.self_attn.v_proj.scales', 'model.layers.21.self_attn.v_proj.trellis', 'model.layers.21.self_attn.v_proj.weight_quantizer.lut', 'model.layers.21.self_attn.v_proj.weight_quantizer.tlut', 'model.layers.22.mlp.down_proj.SU', 'model.layers.22.mlp.down_proj.SV', 'model.layers.22.mlp.down_proj.scales', 'model.layers.22.mlp.down_proj.trellis', 'model.layers.22.mlp.down_proj.weight_quantizer.lut', 'model.layers.22.mlp.down_proj.weight_quantizer.tlut', 'model.layers.22.mlp.gate_proj.SU', 'model.layers.22.mlp.gate_proj.SV', 'model.layers.22.mlp.gate_proj.scales', 'model.layers.22.mlp.gate_proj.trellis', 'model.layers.22.mlp.gate_proj.weight_quantizer.lut', 'model.layers.22.mlp.gate_proj.weight_quantizer.tlut', 'model.layers.22.mlp.up_proj.SU', 'model.layers.22.mlp.up_proj.SV', 'model.layers.22.mlp.up_proj.scales', 'model.layers.22.mlp.up_proj.trellis', 'model.layers.22.mlp.up_proj.weight_quantizer.lut', 'model.layers.22.mlp.up_proj.weight_quantizer.tlut', 'model.layers.22.self_attn.k_proj.SU', 'model.layers.22.self_attn.k_proj.SV', 'model.layers.22.self_attn.k_proj.scales', 'model.layers.22.self_attn.k_proj.trellis', 'model.layers.22.self_attn.k_proj.weight_quantizer.lut', 'model.layers.22.self_attn.k_proj.weight_quantizer.tlut', 'model.layers.22.self_attn.o_proj.SU', 'model.layers.22.self_attn.o_proj.SV', 'model.layers.22.self_attn.o_proj.scales', 'model.layers.22.self_attn.o_proj.trellis', 'model.layers.22.self_attn.o_proj.weight_quantizer.lut', 'model.layers.22.self_attn.o_proj.weight_quantizer.tlut', 'model.layers.22.self_attn.q_proj.SU', 'model.layers.22.self_attn.q_proj.SV', 'model.layers.22.self_attn.q_proj.scales', 'model.layers.22.self_attn.q_proj.trellis', 'model.layers.22.self_attn.q_proj.weight_quantizer.lut', 'model.layers.22.self_attn.q_proj.weight_quantizer.tlut', 'model.layers.22.self_attn.v_proj.SU', 'model.layers.22.self_attn.v_proj.SV', 'model.layers.22.self_attn.v_proj.scales', 'model.layers.22.self_attn.v_proj.trellis', 'model.layers.22.self_attn.v_proj.weight_quantizer.lut', 'model.layers.22.self_attn.v_proj.weight_quantizer.tlut', 'model.layers.23.mlp.down_proj.SU', 'model.layers.23.mlp.down_proj.SV', 'model.layers.23.mlp.down_proj.scales', 'model.layers.23.mlp.down_proj.trellis', 'model.layers.23.mlp.down_proj.weight_quantizer.lut', 'model.layers.23.mlp.down_proj.weight_quantizer.tlut', 'model.layers.23.mlp.gate_proj.SU', 'model.layers.23.mlp.gate_proj.SV', 'model.layers.23.mlp.gate_proj.scales', 'model.layers.23.mlp.gate_proj.trellis', 'model.layers.23.mlp.gate_proj.weight_quantizer.lut', 'model.layers.23.mlp.gate_proj.weight_quantizer.tlut', 'model.layers.23.mlp.up_proj.SU', 'model.layers.23.mlp.up_proj.SV', 'model.layers.23.mlp.up_proj.scales', 'model.layers.23.mlp.up_proj.trellis', 'model.layers.23.mlp.up_proj.weight_quantizer.lut', 'model.layers.23.mlp.up_proj.weight_quantizer.tlut', 'model.layers.23.self_attn.k_proj.SU', 'model.layers.23.self_attn.k_proj.SV', 'model.layers.23.self_attn.k_proj.scales', 'model.layers.23.self_attn.k_proj.trellis', 'model.layers.23.self_attn.k_proj.weight_quantizer.lut', 'model.layers.23.self_attn.k_proj.weight_quantizer.tlut', 'model.layers.23.self_attn.o_proj.SU', 'model.layers.23.self_attn.o_proj.SV', 'model.layers.23.self_attn.o_proj.scales', 'model.layers.23.self_attn.o_proj.trellis', 'model.layers.23.self_attn.o_proj.weight_quantizer.lut', 'model.layers.23.self_attn.o_proj.weight_quantizer.tlut', 'model.layers.23.self_attn.q_proj.SU', 'model.layers.23.self_attn.q_proj.SV', 'model.layers.23.self_attn.q_proj.scales', 'model.layers.23.self_attn.q_proj.trellis', 'model.layers.23.self_attn.q_proj.weight_quantizer.lut', 'model.layers.23.self_attn.q_proj.weight_quantizer.tlut', 'model.layers.23.self_attn.v_proj.SU', 'model.layers.23.self_attn.v_proj.SV', 'model.layers.23.self_attn.v_proj.scales', 'model.layers.23.self_attn.v_proj.trellis', 'model.layers.23.self_attn.v_proj.weight_quantizer.lut', 'model.layers.23.self_attn.v_proj.weight_quantizer.tlut', 'model.layers.24.mlp.down_proj.SU', 'model.layers.24.mlp.down_proj.SV', 'model.layers.24.mlp.down_proj.scales', 'model.layers.24.mlp.down_proj.trellis', 'model.layers.24.mlp.down_proj.weight_quantizer.lut', 'model.layers.24.mlp.down_proj.weight_quantizer.tlut', 'model.layers.24.mlp.gate_proj.SU', 'model.layers.24.mlp.gate_proj.SV', 'model.layers.24.mlp.gate_proj.scales', 'model.layers.24.mlp.gate_proj.trellis', 'model.layers.24.mlp.gate_proj.weight_quantizer.lut', 'model.layers.24.mlp.gate_proj.weight_quantizer.tlut', 'model.layers.24.mlp.up_proj.SU', 'model.layers.24.mlp.up_proj.SV', 'model.layers.24.mlp.up_proj.scales', 'model.layers.24.mlp.up_proj.trellis', 'model.layers.24.mlp.up_proj.weight_quantizer.lut', 'model.layers.24.mlp.up_proj.weight_quantizer.tlut', 'model.layers.24.self_attn.k_proj.SU', 'model.layers.24.self_attn.k_proj.SV', 'model.layers.24.self_attn.k_proj.scales', 'model.layers.24.self_attn.k_proj.trellis', 'model.layers.24.self_attn.k_proj.weight_quantizer.lut', 'model.layers.24.self_attn.k_proj.weight_quantizer.tlut', 'model.layers.24.self_attn.o_proj.SU', 'model.layers.24.self_attn.o_proj.SV', 'model.layers.24.self_attn.o_proj.scales', 'model.layers.24.self_attn.o_proj.trellis', 'model.layers.24.self_attn.o_proj.weight_quantizer.lut', 'model.layers.24.self_attn.o_proj.weight_quantizer.tlut', 'model.layers.24.self_attn.q_proj.SU', 'model.layers.24.self_attn.q_proj.SV', 'model.layers.24.self_attn.q_proj.scales', 'model.layers.24.self_attn.q_proj.trellis', 'model.layers.24.self_attn.q_proj.weight_quantizer.lut', 'model.layers.24.self_attn.q_proj.weight_quantizer.tlut', 'model.layers.24.self_attn.v_proj.SU', 'model.layers.24.self_attn.v_proj.SV', 'model.layers.24.self_attn.v_proj.scales', 'model.layers.24.self_attn.v_proj.trellis', 'model.layers.24.self_attn.v_proj.weight_quantizer.lut', 'model.layers.24.self_attn.v_proj.weight_quantizer.tlut', 'model.layers.25.mlp.down_proj.SU', 'model.layers.25.mlp.down_proj.SV', 'model.layers.25.mlp.down_proj.scales', 'model.layers.25.mlp.down_proj.trellis', 'model.layers.25.mlp.down_proj.weight_quantizer.lut', 'model.layers.25.mlp.down_proj.weight_quantizer.tlut', 'model.layers.25.mlp.gate_proj.SU', 'model.layers.25.mlp.gate_proj.SV', 'model.layers.25.mlp.gate_proj.scales', 'model.layers.25.mlp.gate_proj.trellis', 'model.layers.25.mlp.gate_proj.weight_quantizer.lut', 'model.layers.25.mlp.gate_proj.weight_quantizer.tlut', 'model.layers.25.mlp.up_proj.SU', 'model.layers.25.mlp.up_proj.SV', 'model.layers.25.mlp.up_proj.scales', 'model.layers.25.mlp.up_proj.trellis', 'model.layers.25.mlp.up_proj.weight_quantizer.lut', 'model.layers.25.mlp.up_proj.weight_quantizer.tlut', 'model.layers.25.self_attn.k_proj.SU', 'model.layers.25.self_attn.k_proj.SV', 'model.layers.25.self_attn.k_proj.scales', 'model.layers.25.self_attn.k_proj.trellis', 'model.layers.25.self_attn.k_proj.weight_quantizer.lut', 'model.layers.25.self_attn.k_proj.weight_quantizer.tlut', 'model.layers.25.self_attn.o_proj.SU', 'model.layers.25.self_attn.o_proj.SV', 'model.layers.25.self_attn.o_proj.scales', 'model.layers.25.self_attn.o_proj.trellis', 'model.layers.25.self_attn.o_proj.weight_quantizer.lut', 'model.layers.25.self_attn.o_proj.weight_quantizer.tlut', 'model.layers.25.self_attn.q_proj.SU', 'model.layers.25.self_attn.q_proj.SV', 'model.layers.25.self_attn.q_proj.scales', 'model.layers.25.self_attn.q_proj.trellis', 'model.layers.25.self_attn.q_proj.weight_quantizer.lut', 'model.layers.25.self_attn.q_proj.weight_quantizer.tlut', 'model.layers.25.self_attn.v_proj.SU', 'model.layers.25.self_attn.v_proj.SV', 'model.layers.25.self_attn.v_proj.scales', 'model.layers.25.self_attn.v_proj.trellis', 'model.layers.25.self_attn.v_proj.weight_quantizer.lut', 'model.layers.25.self_attn.v_proj.weight_quantizer.tlut', 'model.layers.26.mlp.down_proj.SU', 'model.layers.26.mlp.down_proj.SV', 'model.layers.26.mlp.down_proj.scales', 'model.layers.26.mlp.down_proj.trellis', 'model.layers.26.mlp.down_proj.weight_quantizer.lut', 'model.layers.26.mlp.down_proj.weight_quantizer.tlut', 'model.layers.26.mlp.gate_proj.SU', 'model.layers.26.mlp.gate_proj.SV', 'model.layers.26.mlp.gate_proj.scales', 'model.layers.26.mlp.gate_proj.trellis', 'model.layers.26.mlp.gate_proj.weight_quantizer.lut', 'model.layers.26.mlp.gate_proj.weight_quantizer.tlut', 'model.layers.26.mlp.up_proj.SU', 'model.layers.26.mlp.up_proj.SV', 'model.layers.26.mlp.up_proj.scales', 'model.layers.26.mlp.up_proj.trellis', 'model.layers.26.mlp.up_proj.weight_quantizer.lut', 'model.layers.26.mlp.up_proj.weight_quantizer.tlut', 'model.layers.26.self_attn.k_proj.SU', 'model.layers.26.self_attn.k_proj.SV', 'model.layers.26.self_attn.k_proj.scales', 'model.layers.26.self_attn.k_proj.trellis', 'model.layers.26.self_attn.k_proj.weight_quantizer.lut', 'model.layers.26.self_attn.k_proj.weight_quantizer.tlut', 'model.layers.26.self_attn.o_proj.SU', 'model.layers.26.self_attn.o_proj.SV', 'model.layers.26.self_attn.o_proj.scales', 'model.layers.26.self_attn.o_proj.trellis', 'model.layers.26.self_attn.o_proj.weight_quantizer.lut', 'model.layers.26.self_attn.o_proj.weight_quantizer.tlut', 'model.layers.26.self_attn.q_proj.SU', 'model.layers.26.self_attn.q_proj.SV', 'model.layers.26.self_attn.q_proj.scales', 'model.layers.26.self_attn.q_proj.trellis', 'model.layers.26.self_attn.q_proj.weight_quantizer.lut', 'model.layers.26.self_attn.q_proj.weight_quantizer.tlut', 'model.layers.26.self_attn.v_proj.SU', 'model.layers.26.self_attn.v_proj.SV', 'model.layers.26.self_attn.v_proj.scales', 'model.layers.26.self_attn.v_proj.trellis', 'model.layers.26.self_attn.v_proj.weight_quantizer.lut', 'model.layers.26.self_attn.v_proj.weight_quantizer.tlut', 'model.layers.27.mlp.down_proj.SU', 'model.layers.27.mlp.down_proj.SV', 'model.layers.27.mlp.down_proj.scales', 'model.layers.27.mlp.down_proj.trellis', 'model.layers.27.mlp.down_proj.weight_quantizer.lut', 'model.layers.27.mlp.down_proj.weight_quantizer.tlut', 'model.layers.27.mlp.gate_proj.SU', 'model.layers.27.mlp.gate_proj.SV', 'model.layers.27.mlp.gate_proj.scales', 'model.layers.27.mlp.gate_proj.trellis', 'model.layers.27.mlp.gate_proj.weight_quantizer.lut', 'model.layers.27.mlp.gate_proj.weight_quantizer.tlut', 'model.layers.27.mlp.up_proj.SU', 'model.layers.27.mlp.up_proj.SV', 'model.layers.27.mlp.up_proj.scales', 'model.layers.27.mlp.up_proj.trellis', 'model.layers.27.mlp.up_proj.weight_quantizer.lut', 'model.layers.27.mlp.up_proj.weight_quantizer.tlut', 'model.layers.27.self_attn.k_proj.SU', 'model.layers.27.self_attn.k_proj.SV', 'model.layers.27.self_attn.k_proj.scales', 'model.layers.27.self_attn.k_proj.trellis', 'model.layers.27.self_attn.k_proj.weight_quantizer.lut', 'model.layers.27.self_attn.k_proj.weight_quantizer.tlut', 'model.layers.27.self_attn.o_proj.SU', 'model.layers.27.self_attn.o_proj.SV', 'model.layers.27.self_attn.o_proj.scales', 'model.layers.27.self_attn.o_proj.trellis', 'model.layers.27.self_attn.o_proj.weight_quantizer.lut', 'model.layers.27.self_attn.o_proj.weight_quantizer.tlut', 'model.layers.27.self_attn.q_proj.SU', 'model.layers.27.self_attn.q_proj.SV', 'model.layers.27.self_attn.q_proj.scales', 'model.layers.27.self_attn.q_proj.trellis', 'model.layers.27.self_attn.q_proj.weight_quantizer.lut', 'model.layers.27.self_attn.q_proj.weight_quantizer.tlut', 'model.layers.27.self_attn.v_proj.SU', 'model.layers.27.self_attn.v_proj.SV', 'model.layers.27.self_attn.v_proj.scales', 'model.layers.27.self_attn.v_proj.trellis', 'model.layers.27.self_attn.v_proj.weight_quantizer.lut', 'model.layers.27.self_attn.v_proj.weight_quantizer.tlut', 'model.layers.28.mlp.down_proj.SU', 'model.layers.28.mlp.down_proj.SV', 'model.layers.28.mlp.down_proj.scales', 'model.layers.28.mlp.down_proj.trellis', 'model.layers.28.mlp.down_proj.weight_quantizer.lut', 'model.layers.28.mlp.down_proj.weight_quantizer.tlut', 'model.layers.28.mlp.gate_proj.SU', 'model.layers.28.mlp.gate_proj.SV', 'model.layers.28.mlp.gate_proj.scales', 'model.layers.28.mlp.gate_proj.trellis', 'model.layers.28.mlp.gate_proj.weight_quantizer.lut', 'model.layers.28.mlp.gate_proj.weight_quantizer.tlut', 'model.layers.28.mlp.up_proj.SU', 'model.layers.28.mlp.up_proj.SV', 'model.layers.28.mlp.up_proj.scales', 'model.layers.28.mlp.up_proj.trellis', 'model.layers.28.mlp.up_proj.weight_quantizer.lut', 'model.layers.28.mlp.up_proj.weight_quantizer.tlut', 'model.layers.28.self_attn.k_proj.SU', 'model.layers.28.self_attn.k_proj.SV', 'model.layers.28.self_attn.k_proj.scales', 'model.layers.28.self_attn.k_proj.trellis', 'model.layers.28.self_attn.k_proj.weight_quantizer.lut', 'model.layers.28.self_attn.k_proj.weight_quantizer.tlut', 'model.layers.28.self_attn.o_proj.SU', 'model.layers.28.self_attn.o_proj.SV', 'model.layers.28.self_attn.o_proj.scales', 'model.layers.28.self_attn.o_proj.trellis', 'model.layers.28.self_attn.o_proj.weight_quantizer.lut', 'model.layers.28.self_attn.o_proj.weight_quantizer.tlut', 'model.layers.28.self_attn.q_proj.SU', 'model.layers.28.self_attn.q_proj.SV', 'model.layers.28.self_attn.q_proj.scales', 'model.layers.28.self_attn.q_proj.trellis', 'model.layers.28.self_attn.q_proj.weight_quantizer.lut', 'model.layers.28.self_attn.q_proj.weight_quantizer.tlut', 'model.layers.28.self_attn.v_proj.SU', 'model.layers.28.self_attn.v_proj.SV', 'model.layers.28.self_attn.v_proj.scales', 'model.layers.28.self_attn.v_proj.trellis', 'model.layers.28.self_attn.v_proj.weight_quantizer.lut', 'model.layers.28.self_attn.v_proj.weight_quantizer.tlut', 'model.layers.29.mlp.down_proj.SU', 'model.layers.29.mlp.down_proj.SV', 'model.layers.29.mlp.down_proj.scales', 'model.layers.29.mlp.down_proj.trellis', 'model.layers.29.mlp.down_proj.weight_quantizer.lut', 'model.layers.29.mlp.down_proj.weight_quantizer.tlut', 'model.layers.29.mlp.gate_proj.SU', 'model.layers.29.mlp.gate_proj.SV', 'model.layers.29.mlp.gate_proj.scales', 'model.layers.29.mlp.gate_proj.trellis', 'model.layers.29.mlp.gate_proj.weight_quantizer.lut', 'model.layers.29.mlp.gate_proj.weight_quantizer.tlut', 'model.layers.29.mlp.up_proj.SU', 'model.layers.29.mlp.up_proj.SV', 'model.layers.29.mlp.up_proj.scales', 'model.layers.29.mlp.up_proj.trellis', 'model.layers.29.mlp.up_proj.weight_quantizer.lut', 'model.layers.29.mlp.up_proj.weight_quantizer.tlut', 'model.layers.29.self_attn.k_proj.SU', 'model.layers.29.self_attn.k_proj.SV', 'model.layers.29.self_attn.k_proj.scales', 'model.layers.29.self_attn.k_proj.trellis', 'model.layers.29.self_attn.k_proj.weight_quantizer.lut', 'model.layers.29.self_attn.k_proj.weight_quantizer.tlut', 'model.layers.29.self_attn.o_proj.SU', 'model.layers.29.self_attn.o_proj.SV', 'model.layers.29.self_attn.o_proj.scales', 'model.layers.29.self_attn.o_proj.trellis', 'model.layers.29.self_attn.o_proj.weight_quantizer.lut', 'model.layers.29.self_attn.o_proj.weight_quantizer.tlut', 'model.layers.29.self_attn.q_proj.SU', 'model.layers.29.self_attn.q_proj.SV', 'model.layers.29.self_attn.q_proj.scales', 'model.layers.29.self_attn.q_proj.trellis', 'model.layers.29.self_attn.q_proj.weight_quantizer.lut', 'model.layers.29.self_attn.q_proj.weight_quantizer.tlut', 'model.layers.29.self_attn.v_proj.SU', 'model.layers.29.self_attn.v_proj.SV', 'model.layers.29.self_attn.v_proj.scales', 'model.layers.29.self_attn.v_proj.trellis', 'model.layers.29.self_attn.v_proj.weight_quantizer.lut', 'model.layers.29.self_attn.v_proj.weight_quantizer.tlut', 'model.layers.3.mlp.down_proj.SU', 'model.layers.3.mlp.down_proj.SV', 'model.layers.3.mlp.down_proj.scales', 'model.layers.3.mlp.down_proj.trellis', 'model.layers.3.mlp.down_proj.weight_quantizer.lut', 'model.layers.3.mlp.down_proj.weight_quantizer.tlut', 'model.layers.3.mlp.gate_proj.SU', 'model.layers.3.mlp.gate_proj.SV', 'model.layers.3.mlp.gate_proj.scales', 'model.layers.3.mlp.gate_proj.trellis', 'model.layers.3.mlp.gate_proj.weight_quantizer.lut', 'model.layers.3.mlp.gate_proj.weight_quantizer.tlut', 'model.layers.3.mlp.up_proj.SU', 'model.layers.3.mlp.up_proj.SV', 'model.layers.3.mlp.up_proj.scales', 'model.layers.3.mlp.up_proj.trellis', 'model.layers.3.mlp.up_proj.weight_quantizer.lut', 'model.layers.3.mlp.up_proj.weight_quantizer.tlut', 'model.layers.3.self_attn.k_proj.SU', 'model.layers.3.self_attn.k_proj.SV', 'model.layers.3.self_attn.k_proj.scales', 'model.layers.3.self_attn.k_proj.trellis', 'model.layers.3.self_attn.k_proj.weight_quantizer.lut', 'model.layers.3.self_attn.k_proj.weight_quantizer.tlut', 'model.layers.3.self_attn.o_proj.SU', 'model.layers.3.self_attn.o_proj.SV', 'model.layers.3.self_attn.o_proj.scales', 'model.layers.3.self_attn.o_proj.trellis', 'model.layers.3.self_attn.o_proj.weight_quantizer.lut', 'model.layers.3.self_attn.o_proj.weight_quantizer.tlut', 'model.layers.3.self_attn.q_proj.SU', 'model.layers.3.self_attn.q_proj.SV', 'model.layers.3.self_attn.q_proj.scales', 'model.layers.3.self_attn.q_proj.trellis', 'model.layers.3.self_attn.q_proj.weight_quantizer.lut', 'model.layers.3.self_attn.q_proj.weight_quantizer.tlut', 'model.layers.3.self_attn.v_proj.SU', 'model.layers.3.self_attn.v_proj.SV', 'model.layers.3.self_attn.v_proj.scales', 'model.layers.3.self_attn.v_proj.trellis', 'model.layers.3.self_attn.v_proj.weight_quantizer.lut', 'model.layers.3.self_attn.v_proj.weight_quantizer.tlut', 'model.layers.30.mlp.down_proj.SU', 'model.layers.30.mlp.down_proj.SV', 'model.layers.30.mlp.down_proj.scales', 'model.layers.30.mlp.down_proj.trellis', 'model.layers.30.mlp.down_proj.weight_quantizer.lut', 'model.layers.30.mlp.down_proj.weight_quantizer.tlut', 'model.layers.30.mlp.gate_proj.SU', 'model.layers.30.mlp.gate_proj.SV', 'model.layers.30.mlp.gate_proj.scales', 'model.layers.30.mlp.gate_proj.trellis', 'model.layers.30.mlp.gate_proj.weight_quantizer.lut', 'model.layers.30.mlp.gate_proj.weight_quantizer.tlut', 'model.layers.30.mlp.up_proj.SU', 'model.layers.30.mlp.up_proj.SV', 'model.layers.30.mlp.up_proj.scales', 'model.layers.30.mlp.up_proj.trellis', 'model.layers.30.mlp.up_proj.weight_quantizer.lut', 'model.layers.30.mlp.up_proj.weight_quantizer.tlut', 'model.layers.30.self_attn.k_proj.SU', 'model.layers.30.self_attn.k_proj.SV', 'model.layers.30.self_attn.k_proj.scales', 'model.layers.30.self_attn.k_proj.trellis', 'model.layers.30.self_attn.k_proj.weight_quantizer.lut', 'model.layers.30.self_attn.k_proj.weight_quantizer.tlut', 'model.layers.30.self_attn.o_proj.SU', 'model.layers.30.self_attn.o_proj.SV', 'model.layers.30.self_attn.o_proj.scales', 'model.layers.30.self_attn.o_proj.trellis', 'model.layers.30.self_attn.o_proj.weight_quantizer.lut', 'model.layers.30.self_attn.o_proj.weight_quantizer.tlut', 'model.layers.30.self_attn.q_proj.SU', 'model.layers.30.self_attn.q_proj.SV', 'model.layers.30.self_attn.q_proj.scales', 'model.layers.30.self_attn.q_proj.trellis', 'model.layers.30.self_attn.q_proj.weight_quantizer.lut', 'model.layers.30.self_attn.q_proj.weight_quantizer.tlut', 'model.layers.30.self_attn.v_proj.SU', 'model.layers.30.self_attn.v_proj.SV', 'model.layers.30.self_attn.v_proj.scales', 'model.layers.30.self_attn.v_proj.trellis', 'model.layers.30.self_attn.v_proj.weight_quantizer.lut', 'model.layers.30.self_attn.v_proj.weight_quantizer.tlut', 'model.layers.31.mlp.down_proj.SU', 'model.layers.31.mlp.down_proj.SV', 'model.layers.31.mlp.down_proj.scales', 'model.layers.31.mlp.down_proj.trellis', 'model.layers.31.mlp.down_proj.weight_quantizer.lut', 'model.layers.31.mlp.down_proj.weight_quantizer.tlut', 'model.layers.31.mlp.gate_proj.SU', 'model.layers.31.mlp.gate_proj.SV', 'model.layers.31.mlp.gate_proj.scales', 'model.layers.31.mlp.gate_proj.trellis', 'model.layers.31.mlp.gate_proj.weight_quantizer.lut', 'model.layers.31.mlp.gate_proj.weight_quantizer.tlut', 'model.layers.31.mlp.up_proj.SU', 'model.layers.31.mlp.up_proj.SV', 'model.layers.31.mlp.up_proj.scales', 'model.layers.31.mlp.up_proj.trellis', 'model.layers.31.mlp.up_proj.weight_quantizer.lut', 'model.layers.31.mlp.up_proj.weight_quantizer.tlut', 'model.layers.31.self_attn.k_proj.SU', 'model.layers.31.self_attn.k_proj.SV', 'model.layers.31.self_attn.k_proj.scales', 'model.layers.31.self_attn.k_proj.trellis', 'model.layers.31.self_attn.k_proj.weight_quantizer.lut', 'model.layers.31.self_attn.k_proj.weight_quantizer.tlut', 'model.layers.31.self_attn.o_proj.SU', 'model.layers.31.self_attn.o_proj.SV', 'model.layers.31.self_attn.o_proj.scales', 'model.layers.31.self_attn.o_proj.trellis', 'model.layers.31.self_attn.o_proj.weight_quantizer.lut', 'model.layers.31.self_attn.o_proj.weight_quantizer.tlut', 'model.layers.31.self_attn.q_proj.SU', 'model.layers.31.self_attn.q_proj.SV', 'model.layers.31.self_attn.q_proj.scales', 'model.layers.31.self_attn.q_proj.trellis', 'model.layers.31.self_attn.q_proj.weight_quantizer.lut', 'model.layers.31.self_attn.q_proj.weight_quantizer.tlut', 'model.layers.31.self_attn.v_proj.SU', 'model.layers.31.self_attn.v_proj.SV', 'model.layers.31.self_attn.v_proj.scales', 'model.layers.31.self_attn.v_proj.trellis', 'model.layers.31.self_attn.v_proj.weight_quantizer.lut', 'model.layers.31.self_attn.v_proj.weight_quantizer.tlut', 'model.layers.4.mlp.down_proj.SU', 'model.layers.4.mlp.down_proj.SV', 'model.layers.4.mlp.down_proj.scales', 'model.layers.4.mlp.down_proj.trellis', 'model.layers.4.mlp.down_proj.weight_quantizer.lut', 'model.layers.4.mlp.down_proj.weight_quantizer.tlut', 'model.layers.4.mlp.gate_proj.SU', 'model.layers.4.mlp.gate_proj.SV', 'model.layers.4.mlp.gate_proj.scales', 'model.layers.4.mlp.gate_proj.trellis', 'model.layers.4.mlp.gate_proj.weight_quantizer.lut', 'model.layers.4.mlp.gate_proj.weight_quantizer.tlut', 'model.layers.4.mlp.up_proj.SU', 'model.layers.4.mlp.up_proj.SV', 'model.layers.4.mlp.up_proj.scales', 'model.layers.4.mlp.up_proj.trellis', 'model.layers.4.mlp.up_proj.weight_quantizer.lut', 'model.layers.4.mlp.up_proj.weight_quantizer.tlut', 'model.layers.4.self_attn.k_proj.SU', 'model.layers.4.self_attn.k_proj.SV', 'model.layers.4.self_attn.k_proj.scales', 'model.layers.4.self_attn.k_proj.trellis', 'model.layers.4.self_attn.k_proj.weight_quantizer.lut', 'model.layers.4.self_attn.k_proj.weight_quantizer.tlut', 'model.layers.4.self_attn.o_proj.SU', 'model.layers.4.self_attn.o_proj.SV', 'model.layers.4.self_attn.o_proj.scales', 'model.layers.4.self_attn.o_proj.trellis', 'model.layers.4.self_attn.o_proj.weight_quantizer.lut', 'model.layers.4.self_attn.o_proj.weight_quantizer.tlut', 'model.layers.4.self_attn.q_proj.SU', 'model.layers.4.self_attn.q_proj.SV', 'model.layers.4.self_attn.q_proj.scales', 'model.layers.4.self_attn.q_proj.trellis', 'model.layers.4.self_attn.q_proj.weight_quantizer.lut', 'model.layers.4.self_attn.q_proj.weight_quantizer.tlut', 'model.layers.4.self_attn.v_proj.SU', 'model.layers.4.self_attn.v_proj.SV', 'model.layers.4.self_attn.v_proj.scales', 'model.layers.4.self_attn.v_proj.trellis', 'model.layers.4.self_attn.v_proj.weight_quantizer.lut', 'model.layers.4.self_attn.v_proj.weight_quantizer.tlut', 'model.layers.5.mlp.down_proj.SU', 'model.layers.5.mlp.down_proj.SV', 'model.layers.5.mlp.down_proj.scales', 'model.layers.5.mlp.down_proj.trellis', 'model.layers.5.mlp.down_proj.weight_quantizer.lut', 'model.layers.5.mlp.down_proj.weight_quantizer.tlut', 'model.layers.5.mlp.gate_proj.SU', 'model.layers.5.mlp.gate_proj.SV', 'model.layers.5.mlp.gate_proj.scales', 'model.layers.5.mlp.gate_proj.trellis', 'model.layers.5.mlp.gate_proj.weight_quantizer.lut', 'model.layers.5.mlp.gate_proj.weight_quantizer.tlut', 'model.layers.5.mlp.up_proj.SU', 'model.layers.5.mlp.up_proj.SV', 'model.layers.5.mlp.up_proj.scales', 'model.layers.5.mlp.up_proj.trellis', 'model.layers.5.mlp.up_proj.weight_quantizer.lut', 'model.layers.5.mlp.up_proj.weight_quantizer.tlut', 'model.layers.5.self_attn.k_proj.SU', 'model.layers.5.self_attn.k_proj.SV', 'model.layers.5.self_attn.k_proj.scales', 'model.layers.5.self_attn.k_proj.trellis', 'model.layers.5.self_attn.k_proj.weight_quantizer.lut', 'model.layers.5.self_attn.k_proj.weight_quantizer.tlut', 'model.layers.5.self_attn.o_proj.SU', 'model.layers.5.self_attn.o_proj.SV', 'model.layers.5.self_attn.o_proj.scales', 'model.layers.5.self_attn.o_proj.trellis', 'model.layers.5.self_attn.o_proj.weight_quantizer.lut', 'model.layers.5.self_attn.o_proj.weight_quantizer.tlut', 'model.layers.5.self_attn.q_proj.SU', 'model.layers.5.self_attn.q_proj.SV', 'model.layers.5.self_attn.q_proj.scales', 'model.layers.5.self_attn.q_proj.trellis', 'model.layers.5.self_attn.q_proj.weight_quantizer.lut', 'model.layers.5.self_attn.q_proj.weight_quantizer.tlut', 'model.layers.5.self_attn.v_proj.SU', 'model.layers.5.self_attn.v_proj.SV', 'model.layers.5.self_attn.v_proj.scales', 'model.layers.5.self_attn.v_proj.trellis', 'model.layers.5.self_attn.v_proj.weight_quantizer.lut', 'model.layers.5.self_attn.v_proj.weight_quantizer.tlut', 'model.layers.6.mlp.down_proj.SU', 'model.layers.6.mlp.down_proj.SV', 'model.layers.6.mlp.down_proj.scales', 'model.layers.6.mlp.down_proj.trellis', 'model.layers.6.mlp.down_proj.weight_quantizer.lut', 'model.layers.6.mlp.down_proj.weight_quantizer.tlut', 'model.layers.6.mlp.gate_proj.SU', 'model.layers.6.mlp.gate_proj.SV', 'model.layers.6.mlp.gate_proj.scales', 'model.layers.6.mlp.gate_proj.trellis', 'model.layers.6.mlp.gate_proj.weight_quantizer.lut', 'model.layers.6.mlp.gate_proj.weight_quantizer.tlut', 'model.layers.6.mlp.up_proj.SU', 'model.layers.6.mlp.up_proj.SV', 'model.layers.6.mlp.up_proj.scales', 'model.layers.6.mlp.up_proj.trellis', 'model.layers.6.mlp.up_proj.weight_quantizer.lut', 'model.layers.6.mlp.up_proj.weight_quantizer.tlut', 'model.layers.6.self_attn.k_proj.SU', 'model.layers.6.self_attn.k_proj.SV', 'model.layers.6.self_attn.k_proj.scales', 'model.layers.6.self_attn.k_proj.trellis', 'model.layers.6.self_attn.k_proj.weight_quantizer.lut', 'model.layers.6.self_attn.k_proj.weight_quantizer.tlut', 'model.layers.6.self_attn.o_proj.SU', 'model.layers.6.self_attn.o_proj.SV', 'model.layers.6.self_attn.o_proj.scales', 'model.layers.6.self_attn.o_proj.trellis', 'model.layers.6.self_attn.o_proj.weight_quantizer.lut', 'model.layers.6.self_attn.o_proj.weight_quantizer.tlut', 'model.layers.6.self_attn.q_proj.SU', 'model.layers.6.self_attn.q_proj.SV', 'model.layers.6.self_attn.q_proj.scales', 'model.layers.6.self_attn.q_proj.trellis', 'model.layers.6.self_attn.q_proj.weight_quantizer.lut', 'model.layers.6.self_attn.q_proj.weight_quantizer.tlut', 'model.layers.6.self_attn.v_proj.SU', 'model.layers.6.self_attn.v_proj.SV', 'model.layers.6.self_attn.v_proj.scales', 'model.layers.6.self_attn.v_proj.trellis', 'model.layers.6.self_attn.v_proj.weight_quantizer.lut', 'model.layers.6.self_attn.v_proj.weight_quantizer.tlut', 'model.layers.7.mlp.down_proj.SU', 'model.layers.7.mlp.down_proj.SV', 'model.layers.7.mlp.down_proj.scales', 'model.layers.7.mlp.down_proj.trellis', 'model.layers.7.mlp.down_proj.weight_quantizer.lut', 'model.layers.7.mlp.down_proj.weight_quantizer.tlut', 'model.layers.7.mlp.gate_proj.SU', 'model.layers.7.mlp.gate_proj.SV', 'model.layers.7.mlp.gate_proj.scales', 'model.layers.7.mlp.gate_proj.trellis', 'model.layers.7.mlp.gate_proj.weight_quantizer.lut', 'model.layers.7.mlp.gate_proj.weight_quantizer.tlut', 'model.layers.7.mlp.up_proj.SU', 'model.layers.7.mlp.up_proj.SV', 'model.layers.7.mlp.up_proj.scales', 'model.layers.7.mlp.up_proj.trellis', 'model.layers.7.mlp.up_proj.weight_quantizer.lut', 'model.layers.7.mlp.up_proj.weight_quantizer.tlut', 'model.layers.7.self_attn.k_proj.SU', 'model.layers.7.self_attn.k_proj.SV', 'model.layers.7.self_attn.k_proj.scales', 'model.layers.7.self_attn.k_proj.trellis', 'model.layers.7.self_attn.k_proj.weight_quantizer.lut', 'model.layers.7.self_attn.k_proj.weight_quantizer.tlut', 'model.layers.7.self_attn.o_proj.SU', 'model.layers.7.self_attn.o_proj.SV', 'model.layers.7.self_attn.o_proj.scales', 'model.layers.7.self_attn.o_proj.trellis', 'model.layers.7.self_attn.o_proj.weight_quantizer.lut', 'model.layers.7.self_attn.o_proj.weight_quantizer.tlut', 'model.layers.7.self_attn.q_proj.SU', 'model.layers.7.self_attn.q_proj.SV', 'model.layers.7.self_attn.q_proj.scales', 'model.layers.7.self_attn.q_proj.trellis', 'model.layers.7.self_attn.q_proj.weight_quantizer.lut', 'model.layers.7.self_attn.q_proj.weight_quantizer.tlut', 'model.layers.7.self_attn.v_proj.SU', 'model.layers.7.self_attn.v_proj.SV', 'model.layers.7.self_attn.v_proj.scales', 'model.layers.7.self_attn.v_proj.trellis', 'model.layers.7.self_attn.v_proj.weight_quantizer.lut', 'model.layers.7.self_attn.v_proj.weight_quantizer.tlut', 'model.layers.8.mlp.down_proj.SU', 'model.layers.8.mlp.down_proj.SV', 'model.layers.8.mlp.down_proj.scales', 'model.layers.8.mlp.down_proj.trellis', 'model.layers.8.mlp.down_proj.weight_quantizer.lut', 'model.layers.8.mlp.down_proj.weight_quantizer.tlut', 'model.layers.8.mlp.gate_proj.SU', 'model.layers.8.mlp.gate_proj.SV', 'model.layers.8.mlp.gate_proj.scales', 'model.layers.8.mlp.gate_proj.trellis', 'model.layers.8.mlp.gate_proj.weight_quantizer.lut', 'model.layers.8.mlp.gate_proj.weight_quantizer.tlut', 'model.layers.8.mlp.up_proj.SU', 'model.layers.8.mlp.up_proj.SV', 'model.layers.8.mlp.up_proj.scales', 'model.layers.8.mlp.up_proj.trellis', 'model.layers.8.mlp.up_proj.weight_quantizer.lut', 'model.layers.8.mlp.up_proj.weight_quantizer.tlut', 'model.layers.8.self_attn.k_proj.SU', 'model.layers.8.self_attn.k_proj.SV', 'model.layers.8.self_attn.k_proj.scales', 'model.layers.8.self_attn.k_proj.trellis', 'model.layers.8.self_attn.k_proj.weight_quantizer.lut', 'model.layers.8.self_attn.k_proj.weight_quantizer.tlut', 'model.layers.8.self_attn.o_proj.SU', 'model.layers.8.self_attn.o_proj.SV', 'model.layers.8.self_attn.o_proj.scales', 'model.layers.8.self_attn.o_proj.trellis', 'model.layers.8.self_attn.o_proj.weight_quantizer.lut', 'model.layers.8.self_attn.o_proj.weight_quantizer.tlut', 'model.layers.8.self_attn.q_proj.SU', 'model.layers.8.self_attn.q_proj.SV', 'model.layers.8.self_attn.q_proj.scales', 'model.layers.8.self_attn.q_proj.trellis', 'model.layers.8.self_attn.q_proj.weight_quantizer.lut', 'model.layers.8.self_attn.q_proj.weight_quantizer.tlut', 'model.layers.8.self_attn.v_proj.SU', 'model.layers.8.self_attn.v_proj.SV', 'model.layers.8.self_attn.v_proj.scales', 'model.layers.8.self_attn.v_proj.trellis', 'model.layers.8.self_attn.v_proj.weight_quantizer.lut', 'model.layers.8.self_attn.v_proj.weight_quantizer.tlut', 'model.layers.9.mlp.down_proj.SU', 'model.layers.9.mlp.down_proj.SV', 'model.layers.9.mlp.down_proj.scales', 'model.layers.9.mlp.down_proj.trellis', 'model.layers.9.mlp.down_proj.weight_quantizer.lut', 'model.layers.9.mlp.down_proj.weight_quantizer.tlut', 'model.layers.9.mlp.gate_proj.SU', 'model.layers.9.mlp.gate_proj.SV', 'model.layers.9.mlp.gate_proj.scales', 'model.layers.9.mlp.gate_proj.trellis', 'model.layers.9.mlp.gate_proj.weight_quantizer.lut', 'model.layers.9.mlp.gate_proj.weight_quantizer.tlut', 'model.layers.9.mlp.up_proj.SU', 'model.layers.9.mlp.up_proj.SV', 'model.layers.9.mlp.up_proj.scales', 'model.layers.9.mlp.up_proj.trellis', 'model.layers.9.mlp.up_proj.weight_quantizer.lut', 'model.layers.9.mlp.up_proj.weight_quantizer.tlut', 'model.layers.9.self_attn.k_proj.SU', 'model.layers.9.self_attn.k_proj.SV', 'model.layers.9.self_attn.k_proj.scales', 'model.layers.9.self_attn.k_proj.trellis', 'model.layers.9.self_attn.k_proj.weight_quantizer.lut', 'model.layers.9.self_attn.k_proj.weight_quantizer.tlut', 'model.layers.9.self_attn.o_proj.SU', 'model.layers.9.self_attn.o_proj.SV', 'model.layers.9.self_attn.o_proj.scales', 'model.layers.9.self_attn.o_proj.trellis', 'model.layers.9.self_attn.o_proj.weight_quantizer.lut', 'model.layers.9.self_attn.o_proj.weight_quantizer.tlut', 'model.layers.9.self_attn.q_proj.SU', 'model.layers.9.self_attn.q_proj.SV', 'model.layers.9.self_attn.q_proj.scales', 'model.layers.9.self_attn.q_proj.trellis', 'model.layers.9.self_attn.q_proj.weight_quantizer.lut', 'model.layers.9.self_attn.q_proj.weight_quantizer.tlut', 'model.layers.9.self_attn.v_proj.SU', 'model.layers.9.self_attn.v_proj.SV', 'model.layers.9.self_attn.v_proj.scales', 'model.layers.9.self_attn.v_proj.trellis', 'model.layers.9.self_attn.v_proj.weight_quantizer.lut', 'model.layers.9.self_attn.v_proj.weight_quantizer.tlut']\n",
      "You should probably TRAIN this model on a down-stream task to be able to use it for predictions and inference.\n"
     ]
    }
   ],
   "source": [
    "%load_ext autoreload\n",
    "%autoreload 2\n",
    "\n",
    "import os\n",
    "import torch\n",
    "\n",
    "import sys\n",
    "sys.path.append(\"/home/msst/repo/Quantization\")\n",
    "import qlib\n",
    "\n",
    "model_name='Llama2-7b-hf'\n",
    "#model_name='Llama-3.2-1B'\n",
    "\n",
    "DTYPE = torch.float16\n",
    "fp_model, _ = qlib.load_llama(\n",
    "\tmodel_name=model_name, \n",
    "\tdevice_map='cpu', \n",
    "\ttorch_dtype=DTYPE\n",
    ")\n",
    "\n",
    "qmodel = qlib.QuantizedLlamaForCausalLM.from_pretrained(\n",
    "\tf'/home/msst/repo/Quantization/ml/llm/pretrained_models/Llama2-7b-hf',\n",
    "\ttorch_dtype=torch.float16,\n",
    ")"
   ]
  },
  {
   "cell_type": "code",
   "execution_count": 2,
   "metadata": {},
   "outputs": [
    {
     "name": "stdout",
     "output_type": "stream",
     "text": [
      "model.layers.0.self_attn.q_proj\n"
     ]
    },
    {
     "name": "stderr",
     "output_type": "stream",
     "text": [
      "100%|██████████| 256/256 [00:19<00:00, 13.20it/s]\n",
      "100%|██████████| 256/256 [00:19<00:00, 13.01it/s]\n"
     ]
    },
    {
     "name": "stdout",
     "output_type": "stream",
     "text": [
      "error (w-wq)^2: 0.073\n",
      "model.layers.0.self_attn.k_proj\n"
     ]
    },
    {
     "name": "stderr",
     "output_type": "stream",
     "text": [
      "100%|██████████| 256/256 [00:18<00:00, 13.64it/s]\n",
      "100%|██████████| 256/256 [00:19<00:00, 12.99it/s]\n"
     ]
    },
    {
     "name": "stdout",
     "output_type": "stream",
     "text": [
      "error (w-wq)^2: 0.072\n",
      "model.layers.0.self_attn.v_proj\n"
     ]
    },
    {
     "name": "stderr",
     "output_type": "stream",
     "text": [
      "100%|██████████| 256/256 [00:18<00:00, 13.62it/s]\n",
      "100%|██████████| 256/256 [00:19<00:00, 12.93it/s]\n"
     ]
    },
    {
     "name": "stdout",
     "output_type": "stream",
     "text": [
      "error (w-wq)^2: 0.070\n",
      "model.layers.0.self_attn.o_proj\n"
     ]
    },
    {
     "name": "stderr",
     "output_type": "stream",
     "text": [
      "100%|██████████| 256/256 [00:18<00:00, 13.62it/s]\n",
      "100%|██████████| 256/256 [00:19<00:00, 12.88it/s]\n"
     ]
    },
    {
     "name": "stdout",
     "output_type": "stream",
     "text": [
      "error (w-wq)^2: 0.070\n",
      "model.layers.0.mlp.gate_proj\n"
     ]
    },
    {
     "name": "stderr",
     "output_type": "stream",
     "text": [
      "100%|██████████| 688/688 [00:50<00:00, 13.54it/s]\n",
      "100%|██████████| 688/688 [00:53<00:00, 12.93it/s]\n"
     ]
    },
    {
     "name": "stdout",
     "output_type": "stream",
     "text": [
      "error (w-wq)^2: 0.070\n",
      "model.layers.0.mlp.up_proj\n"
     ]
    },
    {
     "name": "stderr",
     "output_type": "stream",
     "text": [
      "100%|██████████| 688/688 [00:51<00:00, 13.47it/s]\n",
      "100%|██████████| 688/688 [00:53<00:00, 12.93it/s]\n"
     ]
    },
    {
     "name": "stdout",
     "output_type": "stream",
     "text": [
      "error (w-wq)^2: 0.070\n",
      "model.layers.0.mlp.down_proj\n"
     ]
    },
    {
     "name": "stderr",
     "output_type": "stream",
     "text": [
      "100%|██████████| 688/688 [00:50<00:00, 13.51it/s]\n",
      "100%|██████████| 688/688 [00:53<00:00, 12.88it/s]\n"
     ]
    },
    {
     "name": "stdout",
     "output_type": "stream",
     "text": [
      "error (w-wq)^2: 0.070\n",
      "model.layers.1.self_attn.q_proj\n"
     ]
    },
    {
     "name": "stderr",
     "output_type": "stream",
     "text": [
      "100%|██████████| 256/256 [00:18<00:00, 13.53it/s]\n",
      "100%|██████████| 256/256 [00:19<00:00, 12.87it/s]\n"
     ]
    },
    {
     "name": "stdout",
     "output_type": "stream",
     "text": [
      "error (w-wq)^2: 0.071\n",
      "model.layers.1.self_attn.k_proj\n"
     ]
    },
    {
     "name": "stderr",
     "output_type": "stream",
     "text": [
      "100%|██████████| 256/256 [00:18<00:00, 13.50it/s]\n",
      "100%|██████████| 256/256 [00:19<00:00, 12.92it/s]\n"
     ]
    },
    {
     "name": "stdout",
     "output_type": "stream",
     "text": [
      "error (w-wq)^2: 0.071\n",
      "model.layers.1.self_attn.v_proj\n"
     ]
    },
    {
     "name": "stderr",
     "output_type": "stream",
     "text": [
      "100%|██████████| 256/256 [00:18<00:00, 13.49it/s]\n",
      "100%|██████████| 256/256 [00:19<00:00, 12.92it/s]\n"
     ]
    },
    {
     "name": "stdout",
     "output_type": "stream",
     "text": [
      "error (w-wq)^2: 0.070\n",
      "model.layers.1.self_attn.o_proj\n"
     ]
    },
    {
     "name": "stderr",
     "output_type": "stream",
     "text": [
      "100%|██████████| 256/256 [00:18<00:00, 13.54it/s]\n",
      "100%|██████████| 256/256 [00:19<00:00, 12.88it/s]\n"
     ]
    },
    {
     "name": "stdout",
     "output_type": "stream",
     "text": [
      "error (w-wq)^2: 0.070\n",
      "model.layers.1.mlp.gate_proj\n"
     ]
    },
    {
     "name": "stderr",
     "output_type": "stream",
     "text": [
      "100%|██████████| 688/688 [00:51<00:00, 13.47it/s]\n",
      "100%|██████████| 688/688 [00:53<00:00, 12.92it/s]\n"
     ]
    },
    {
     "name": "stdout",
     "output_type": "stream",
     "text": [
      "error (w-wq)^2: 0.070\n",
      "model.layers.1.mlp.up_proj\n"
     ]
    },
    {
     "name": "stderr",
     "output_type": "stream",
     "text": [
      "100%|██████████| 688/688 [00:50<00:00, 13.53it/s]\n",
      "100%|██████████| 688/688 [00:53<00:00, 12.90it/s]\n"
     ]
    },
    {
     "name": "stdout",
     "output_type": "stream",
     "text": [
      "error (w-wq)^2: 0.070\n",
      "model.layers.1.mlp.down_proj\n"
     ]
    },
    {
     "name": "stderr",
     "output_type": "stream",
     "text": [
      "100%|██████████| 688/688 [00:50<00:00, 13.51it/s]\n",
      "100%|██████████| 688/688 [00:53<00:00, 12.87it/s]\n"
     ]
    },
    {
     "name": "stdout",
     "output_type": "stream",
     "text": [
      "error (w-wq)^2: 0.070\n",
      "model.layers.2.self_attn.q_proj\n"
     ]
    },
    {
     "name": "stderr",
     "output_type": "stream",
     "text": [
      "100%|██████████| 256/256 [00:18<00:00, 13.54it/s]\n",
      "100%|██████████| 256/256 [00:19<00:00, 12.87it/s]\n"
     ]
    },
    {
     "name": "stdout",
     "output_type": "stream",
     "text": [
      "error (w-wq)^2: 0.070\n",
      "model.layers.2.self_attn.k_proj\n"
     ]
    },
    {
     "name": "stderr",
     "output_type": "stream",
     "text": [
      "100%|██████████| 256/256 [00:18<00:00, 13.53it/s]\n",
      "100%|██████████| 256/256 [00:19<00:00, 12.87it/s]\n"
     ]
    },
    {
     "name": "stdout",
     "output_type": "stream",
     "text": [
      "error (w-wq)^2: 0.070\n",
      "model.layers.2.self_attn.v_proj\n"
     ]
    },
    {
     "name": "stderr",
     "output_type": "stream",
     "text": [
      "100%|██████████| 256/256 [00:19<00:00, 13.46it/s]\n",
      "100%|██████████| 256/256 [00:19<00:00, 12.88it/s]\n"
     ]
    },
    {
     "name": "stdout",
     "output_type": "stream",
     "text": [
      "error (w-wq)^2: 0.070\n",
      "model.layers.2.self_attn.o_proj\n"
     ]
    },
    {
     "name": "stderr",
     "output_type": "stream",
     "text": [
      "100%|██████████| 256/256 [00:18<00:00, 13.49it/s]\n",
      "100%|██████████| 256/256 [00:19<00:00, 12.89it/s]\n"
     ]
    },
    {
     "name": "stdout",
     "output_type": "stream",
     "text": [
      "error (w-wq)^2: 0.070\n",
      "model.layers.2.mlp.gate_proj\n"
     ]
    },
    {
     "name": "stderr",
     "output_type": "stream",
     "text": [
      "100%|██████████| 688/688 [00:51<00:00, 13.47it/s]\n",
      "100%|██████████| 688/688 [00:53<00:00, 12.94it/s]\n"
     ]
    },
    {
     "name": "stdout",
     "output_type": "stream",
     "text": [
      "error (w-wq)^2: 0.070\n",
      "model.layers.2.mlp.up_proj\n"
     ]
    },
    {
     "name": "stderr",
     "output_type": "stream",
     "text": [
      "100%|██████████| 688/688 [00:50<00:00, 13.51it/s]\n",
      "100%|██████████| 688/688 [00:53<00:00, 12.92it/s]\n"
     ]
    },
    {
     "name": "stdout",
     "output_type": "stream",
     "text": [
      "error (w-wq)^2: 0.070\n",
      "model.layers.2.mlp.down_proj\n"
     ]
    },
    {
     "name": "stderr",
     "output_type": "stream",
     "text": [
      "100%|██████████| 688/688 [00:50<00:00, 13.52it/s]\n",
      "100%|██████████| 688/688 [00:53<00:00, 12.89it/s]\n"
     ]
    },
    {
     "name": "stdout",
     "output_type": "stream",
     "text": [
      "error (w-wq)^2: 0.070\n",
      "model.layers.3.self_attn.q_proj\n"
     ]
    },
    {
     "name": "stderr",
     "output_type": "stream",
     "text": [
      "100%|██████████| 256/256 [00:18<00:00, 13.57it/s]\n",
      "100%|██████████| 256/256 [00:19<00:00, 12.93it/s]\n"
     ]
    },
    {
     "name": "stdout",
     "output_type": "stream",
     "text": [
      "error (w-wq)^2: 0.070\n",
      "model.layers.3.self_attn.k_proj\n"
     ]
    },
    {
     "name": "stderr",
     "output_type": "stream",
     "text": [
      "100%|██████████| 256/256 [00:18<00:00, 13.57it/s]\n",
      "100%|██████████| 256/256 [00:19<00:00, 12.93it/s]\n"
     ]
    },
    {
     "name": "stdout",
     "output_type": "stream",
     "text": [
      "error (w-wq)^2: 0.070\n",
      "model.layers.3.self_attn.v_proj\n"
     ]
    },
    {
     "name": "stderr",
     "output_type": "stream",
     "text": [
      "100%|██████████| 256/256 [00:18<00:00, 13.57it/s]\n",
      "100%|██████████| 256/256 [00:19<00:00, 12.89it/s]\n"
     ]
    },
    {
     "name": "stdout",
     "output_type": "stream",
     "text": [
      "error (w-wq)^2: 0.070\n",
      "model.layers.3.self_attn.o_proj\n"
     ]
    },
    {
     "name": "stderr",
     "output_type": "stream",
     "text": [
      "100%|██████████| 256/256 [00:18<00:00, 13.57it/s]\n",
      "100%|██████████| 256/256 [00:19<00:00, 12.89it/s]\n"
     ]
    },
    {
     "name": "stdout",
     "output_type": "stream",
     "text": [
      "error (w-wq)^2: 0.070\n",
      "model.layers.3.mlp.gate_proj\n"
     ]
    },
    {
     "name": "stderr",
     "output_type": "stream",
     "text": [
      "100%|██████████| 688/688 [00:51<00:00, 13.47it/s]\n",
      "100%|██████████| 688/688 [00:53<00:00, 12.93it/s]\n"
     ]
    },
    {
     "name": "stdout",
     "output_type": "stream",
     "text": [
      "error (w-wq)^2: 0.070\n",
      "model.layers.3.mlp.up_proj\n"
     ]
    },
    {
     "name": "stderr",
     "output_type": "stream",
     "text": [
      "100%|██████████| 688/688 [00:50<00:00, 13.51it/s]\n",
      "100%|██████████| 688/688 [00:53<00:00, 12.94it/s]\n"
     ]
    },
    {
     "name": "stdout",
     "output_type": "stream",
     "text": [
      "error (w-wq)^2: 0.070\n",
      "model.layers.3.mlp.down_proj\n"
     ]
    },
    {
     "name": "stderr",
     "output_type": "stream",
     "text": [
      "100%|██████████| 688/688 [00:50<00:00, 13.52it/s]\n",
      "100%|██████████| 688/688 [00:53<00:00, 12.89it/s]\n"
     ]
    },
    {
     "name": "stdout",
     "output_type": "stream",
     "text": [
      "error (w-wq)^2: 0.070\n",
      "model.layers.4.self_attn.q_proj\n"
     ]
    },
    {
     "name": "stderr",
     "output_type": "stream",
     "text": [
      "100%|██████████| 256/256 [00:18<00:00, 13.56it/s]\n",
      "100%|██████████| 256/256 [00:19<00:00, 12.94it/s]\n"
     ]
    },
    {
     "name": "stdout",
     "output_type": "stream",
     "text": [
      "error (w-wq)^2: 0.070\n",
      "model.layers.4.self_attn.k_proj\n"
     ]
    },
    {
     "name": "stderr",
     "output_type": "stream",
     "text": [
      "100%|██████████| 256/256 [00:18<00:00, 13.58it/s]\n",
      "100%|██████████| 256/256 [00:19<00:00, 12.93it/s]\n"
     ]
    },
    {
     "name": "stdout",
     "output_type": "stream",
     "text": [
      "error (w-wq)^2: 0.070\n",
      "model.layers.4.self_attn.v_proj\n"
     ]
    },
    {
     "name": "stderr",
     "output_type": "stream",
     "text": [
      "100%|██████████| 256/256 [00:18<00:00, 13.56it/s]\n",
      "100%|██████████| 256/256 [00:19<00:00, 12.89it/s]\n"
     ]
    },
    {
     "name": "stdout",
     "output_type": "stream",
     "text": [
      "error (w-wq)^2: 0.070\n",
      "model.layers.4.self_attn.o_proj\n"
     ]
    },
    {
     "name": "stderr",
     "output_type": "stream",
     "text": [
      "100%|██████████| 256/256 [00:18<00:00, 13.51it/s]\n",
      "100%|██████████| 256/256 [00:19<00:00, 12.89it/s]\n"
     ]
    },
    {
     "name": "stdout",
     "output_type": "stream",
     "text": [
      "error (w-wq)^2: 0.070\n",
      "model.layers.4.mlp.gate_proj\n"
     ]
    },
    {
     "name": "stderr",
     "output_type": "stream",
     "text": [
      "100%|██████████| 688/688 [00:51<00:00, 13.47it/s]\n",
      "100%|██████████| 688/688 [00:53<00:00, 12.93it/s]\n"
     ]
    },
    {
     "name": "stdout",
     "output_type": "stream",
     "text": [
      "error (w-wq)^2: 0.070\n",
      "model.layers.4.mlp.up_proj\n"
     ]
    },
    {
     "name": "stderr",
     "output_type": "stream",
     "text": [
      "100%|██████████| 688/688 [00:50<00:00, 13.52it/s]\n",
      "100%|██████████| 688/688 [00:53<00:00, 12.89it/s]\n"
     ]
    },
    {
     "name": "stdout",
     "output_type": "stream",
     "text": [
      "error (w-wq)^2: 0.070\n",
      "model.layers.4.mlp.down_proj\n"
     ]
    },
    {
     "name": "stderr",
     "output_type": "stream",
     "text": [
      "100%|██████████| 688/688 [00:50<00:00, 13.52it/s]\n",
      "100%|██████████| 688/688 [00:53<00:00, 12.89it/s]\n"
     ]
    },
    {
     "name": "stdout",
     "output_type": "stream",
     "text": [
      "error (w-wq)^2: 0.070\n",
      "model.layers.5.self_attn.q_proj\n"
     ]
    },
    {
     "name": "stderr",
     "output_type": "stream",
     "text": [
      "100%|██████████| 256/256 [00:18<00:00, 13.56it/s]\n",
      "100%|██████████| 256/256 [00:19<00:00, 12.92it/s]\n"
     ]
    },
    {
     "name": "stdout",
     "output_type": "stream",
     "text": [
      "error (w-wq)^2: 0.070\n",
      "model.layers.5.self_attn.k_proj\n"
     ]
    },
    {
     "name": "stderr",
     "output_type": "stream",
     "text": [
      "100%|██████████| 256/256 [00:18<00:00, 13.55it/s]\n",
      "100%|██████████| 256/256 [00:19<00:00, 12.93it/s]\n"
     ]
    },
    {
     "name": "stdout",
     "output_type": "stream",
     "text": [
      "error (w-wq)^2: 0.070\n",
      "model.layers.5.self_attn.v_proj\n"
     ]
    },
    {
     "name": "stderr",
     "output_type": "stream",
     "text": [
      "100%|██████████| 256/256 [00:18<00:00, 13.55it/s]\n",
      "100%|██████████| 256/256 [00:19<00:00, 12.89it/s]\n"
     ]
    },
    {
     "name": "stdout",
     "output_type": "stream",
     "text": [
      "error (w-wq)^2: 0.070\n",
      "model.layers.5.self_attn.o_proj\n"
     ]
    },
    {
     "name": "stderr",
     "output_type": "stream",
     "text": [
      "100%|██████████| 256/256 [00:18<00:00, 13.50it/s]\n",
      "100%|██████████| 256/256 [00:19<00:00, 12.92it/s]\n"
     ]
    },
    {
     "name": "stdout",
     "output_type": "stream",
     "text": [
      "error (w-wq)^2: 0.070\n",
      "model.layers.5.mlp.gate_proj\n"
     ]
    },
    {
     "name": "stderr",
     "output_type": "stream",
     "text": [
      "100%|██████████| 688/688 [00:51<00:00, 13.47it/s]\n",
      "100%|██████████| 688/688 [00:53<00:00, 12.94it/s]\n"
     ]
    },
    {
     "name": "stdout",
     "output_type": "stream",
     "text": [
      "error (w-wq)^2: 0.070\n",
      "model.layers.5.mlp.up_proj\n"
     ]
    },
    {
     "name": "stderr",
     "output_type": "stream",
     "text": [
      "100%|██████████| 688/688 [00:50<00:00, 13.52it/s]\n",
      "100%|██████████| 688/688 [00:53<00:00, 12.89it/s]\n"
     ]
    },
    {
     "name": "stdout",
     "output_type": "stream",
     "text": [
      "error (w-wq)^2: 0.070\n",
      "model.layers.5.mlp.down_proj\n"
     ]
    },
    {
     "name": "stderr",
     "output_type": "stream",
     "text": [
      "100%|██████████| 688/688 [00:50<00:00, 13.52it/s]\n",
      "100%|██████████| 688/688 [00:53<00:00, 12.89it/s]\n"
     ]
    },
    {
     "name": "stdout",
     "output_type": "stream",
     "text": [
      "error (w-wq)^2: 0.070\n",
      "model.layers.6.self_attn.q_proj\n"
     ]
    },
    {
     "name": "stderr",
     "output_type": "stream",
     "text": [
      "100%|██████████| 256/256 [00:18<00:00, 13.56it/s]\n",
      "100%|██████████| 256/256 [00:19<00:00, 12.93it/s]\n"
     ]
    },
    {
     "name": "stdout",
     "output_type": "stream",
     "text": [
      "error (w-wq)^2: 0.070\n",
      "model.layers.6.self_attn.k_proj\n"
     ]
    },
    {
     "name": "stderr",
     "output_type": "stream",
     "text": [
      "100%|██████████| 256/256 [00:18<00:00, 13.55it/s]\n",
      "100%|██████████| 256/256 [00:19<00:00, 12.88it/s]\n"
     ]
    },
    {
     "name": "stdout",
     "output_type": "stream",
     "text": [
      "error (w-wq)^2: 0.070\n",
      "model.layers.6.self_attn.v_proj\n"
     ]
    },
    {
     "name": "stderr",
     "output_type": "stream",
     "text": [
      "100%|██████████| 256/256 [00:18<00:00, 13.56it/s]\n",
      "100%|██████████| 256/256 [00:19<00:00, 12.88it/s]\n"
     ]
    },
    {
     "name": "stdout",
     "output_type": "stream",
     "text": [
      "error (w-wq)^2: 0.070\n",
      "model.layers.6.self_attn.o_proj\n"
     ]
    },
    {
     "name": "stderr",
     "output_type": "stream",
     "text": [
      "100%|██████████| 256/256 [00:18<00:00, 13.50it/s]\n",
      "100%|██████████| 256/256 [00:19<00:00, 12.92it/s]\n"
     ]
    },
    {
     "name": "stdout",
     "output_type": "stream",
     "text": [
      "error (w-wq)^2: 0.070\n",
      "model.layers.6.mlp.gate_proj\n"
     ]
    },
    {
     "name": "stderr",
     "output_type": "stream",
     "text": [
      "100%|██████████| 688/688 [00:51<00:00, 13.47it/s]\n",
      "100%|██████████| 688/688 [00:53<00:00, 12.94it/s]\n"
     ]
    },
    {
     "name": "stdout",
     "output_type": "stream",
     "text": [
      "error (w-wq)^2: 0.070\n",
      "model.layers.6.mlp.up_proj\n"
     ]
    },
    {
     "name": "stderr",
     "output_type": "stream",
     "text": [
      "100%|██████████| 688/688 [00:51<00:00, 13.47it/s]\n",
      "100%|██████████| 688/688 [00:53<00:00, 12.89it/s]\n"
     ]
    },
    {
     "name": "stdout",
     "output_type": "stream",
     "text": [
      "error (w-wq)^2: 0.070\n",
      "model.layers.6.mlp.down_proj\n"
     ]
    },
    {
     "name": "stderr",
     "output_type": "stream",
     "text": [
      "100%|██████████| 688/688 [00:50<00:00, 13.52it/s]\n",
      "100%|██████████| 688/688 [00:53<00:00, 12.89it/s]\n"
     ]
    },
    {
     "name": "stdout",
     "output_type": "stream",
     "text": [
      "error (w-wq)^2: 0.070\n",
      "model.layers.7.self_attn.q_proj\n"
     ]
    },
    {
     "name": "stderr",
     "output_type": "stream",
     "text": [
      "100%|██████████| 256/256 [00:18<00:00, 13.57it/s]\n",
      "100%|██████████| 256/256 [00:19<00:00, 12.92it/s]\n"
     ]
    },
    {
     "name": "stdout",
     "output_type": "stream",
     "text": [
      "error (w-wq)^2: 0.070\n",
      "model.layers.7.self_attn.k_proj\n"
     ]
    },
    {
     "name": "stderr",
     "output_type": "stream",
     "text": [
      "100%|██████████| 256/256 [00:18<00:00, 13.52it/s]\n",
      "100%|██████████| 256/256 [00:19<00:00, 12.89it/s]\n"
     ]
    },
    {
     "name": "stdout",
     "output_type": "stream",
     "text": [
      "error (w-wq)^2: 0.070\n",
      "model.layers.7.self_attn.v_proj\n"
     ]
    },
    {
     "name": "stderr",
     "output_type": "stream",
     "text": [
      "100%|██████████| 256/256 [00:19<00:00, 13.45it/s]\n",
      "100%|██████████| 256/256 [00:19<00:00, 12.89it/s]\n"
     ]
    },
    {
     "name": "stdout",
     "output_type": "stream",
     "text": [
      "error (w-wq)^2: 0.070\n",
      "model.layers.7.self_attn.o_proj\n"
     ]
    },
    {
     "name": "stderr",
     "output_type": "stream",
     "text": [
      "100%|██████████| 256/256 [00:18<00:00, 13.50it/s]\n",
      "100%|██████████| 256/256 [00:19<00:00, 12.93it/s]\n"
     ]
    },
    {
     "name": "stdout",
     "output_type": "stream",
     "text": [
      "error (w-wq)^2: 0.070\n",
      "model.layers.7.mlp.gate_proj\n"
     ]
    },
    {
     "name": "stderr",
     "output_type": "stream",
     "text": [
      "100%|██████████| 688/688 [00:51<00:00, 13.47it/s]\n",
      "100%|██████████| 688/688 [00:53<00:00, 12.93it/s]\n"
     ]
    },
    {
     "name": "stdout",
     "output_type": "stream",
     "text": [
      "error (w-wq)^2: 0.070\n",
      "model.layers.7.mlp.up_proj\n"
     ]
    },
    {
     "name": "stderr",
     "output_type": "stream",
     "text": [
      "100%|██████████| 688/688 [00:50<00:00, 13.52it/s]\n",
      "100%|██████████| 688/688 [00:53<00:00, 12.89it/s]\n"
     ]
    },
    {
     "name": "stdout",
     "output_type": "stream",
     "text": [
      "error (w-wq)^2: 0.070\n",
      "model.layers.7.mlp.down_proj\n"
     ]
    },
    {
     "name": "stderr",
     "output_type": "stream",
     "text": [
      "100%|██████████| 688/688 [00:50<00:00, 13.58it/s]\n",
      "100%|██████████| 688/688 [00:53<00:00, 12.89it/s]\n"
     ]
    },
    {
     "name": "stdout",
     "output_type": "stream",
     "text": [
      "error (w-wq)^2: 0.070\n",
      "model.layers.8.self_attn.q_proj\n"
     ]
    },
    {
     "name": "stderr",
     "output_type": "stream",
     "text": [
      "100%|██████████| 256/256 [00:18<00:00, 13.61it/s]\n",
      "100%|██████████| 256/256 [00:19<00:00, 12.98it/s]\n"
     ]
    },
    {
     "name": "stdout",
     "output_type": "stream",
     "text": [
      "error (w-wq)^2: 0.070\n",
      "model.layers.8.self_attn.k_proj\n"
     ]
    },
    {
     "name": "stderr",
     "output_type": "stream",
     "text": [
      "100%|██████████| 256/256 [00:18<00:00, 13.59it/s]\n",
      "100%|██████████| 256/256 [00:19<00:00, 12.89it/s]\n"
     ]
    },
    {
     "name": "stdout",
     "output_type": "stream",
     "text": [
      "error (w-wq)^2: 0.070\n",
      "model.layers.8.self_attn.v_proj\n"
     ]
    },
    {
     "name": "stderr",
     "output_type": "stream",
     "text": [
      "100%|██████████| 256/256 [00:18<00:00, 13.60it/s]\n",
      "100%|██████████| 256/256 [00:19<00:00, 12.89it/s]\n"
     ]
    },
    {
     "name": "stdout",
     "output_type": "stream",
     "text": [
      "error (w-wq)^2: 0.070\n",
      "model.layers.8.self_attn.o_proj\n"
     ]
    },
    {
     "name": "stderr",
     "output_type": "stream",
     "text": [
      "100%|██████████| 256/256 [00:18<00:00, 13.50it/s]\n",
      "100%|██████████| 256/256 [00:19<00:00, 12.93it/s]\n"
     ]
    },
    {
     "name": "stdout",
     "output_type": "stream",
     "text": [
      "error (w-wq)^2: 0.070\n",
      "model.layers.8.mlp.gate_proj\n"
     ]
    },
    {
     "name": "stderr",
     "output_type": "stream",
     "text": [
      "100%|██████████| 688/688 [00:50<00:00, 13.52it/s]\n",
      "100%|██████████| 688/688 [00:53<00:00, 12.93it/s]\n"
     ]
    },
    {
     "name": "stdout",
     "output_type": "stream",
     "text": [
      "error (w-wq)^2: 0.070\n",
      "model.layers.8.mlp.up_proj\n"
     ]
    },
    {
     "name": "stderr",
     "output_type": "stream",
     "text": [
      "100%|██████████| 688/688 [00:50<00:00, 13.52it/s]\n",
      "100%|██████████| 688/688 [00:53<00:00, 12.93it/s]\n"
     ]
    },
    {
     "name": "stdout",
     "output_type": "stream",
     "text": [
      "error (w-wq)^2: 0.070\n",
      "model.layers.8.mlp.down_proj\n"
     ]
    },
    {
     "name": "stderr",
     "output_type": "stream",
     "text": [
      "100%|██████████| 688/688 [00:50<00:00, 13.52it/s]\n",
      "100%|██████████| 688/688 [00:53<00:00, 12.87it/s]\n"
     ]
    },
    {
     "name": "stdout",
     "output_type": "stream",
     "text": [
      "error (w-wq)^2: 0.070\n",
      "model.layers.9.self_attn.q_proj\n"
     ]
    },
    {
     "name": "stderr",
     "output_type": "stream",
     "text": [
      "100%|██████████| 256/256 [00:18<00:00, 13.56it/s]\n",
      "100%|██████████| 256/256 [00:19<00:00, 12.92it/s]\n"
     ]
    },
    {
     "name": "stdout",
     "output_type": "stream",
     "text": [
      "error (w-wq)^2: 0.070\n",
      "model.layers.9.self_attn.k_proj\n"
     ]
    },
    {
     "name": "stderr",
     "output_type": "stream",
     "text": [
      "100%|██████████| 256/256 [00:18<00:00, 13.55it/s]\n",
      "100%|██████████| 256/256 [00:19<00:00, 12.93it/s]\n"
     ]
    },
    {
     "name": "stdout",
     "output_type": "stream",
     "text": [
      "error (w-wq)^2: 0.070\n",
      "model.layers.9.self_attn.v_proj\n"
     ]
    },
    {
     "name": "stderr",
     "output_type": "stream",
     "text": [
      "100%|██████████| 256/256 [00:18<00:00, 13.55it/s]\n",
      "100%|██████████| 256/256 [00:19<00:00, 12.93it/s]\n"
     ]
    },
    {
     "name": "stdout",
     "output_type": "stream",
     "text": [
      "error (w-wq)^2: 0.070\n",
      "model.layers.9.self_attn.o_proj\n"
     ]
    },
    {
     "name": "stderr",
     "output_type": "stream",
     "text": [
      "100%|██████████| 256/256 [00:18<00:00, 13.55it/s]\n",
      "100%|██████████| 256/256 [00:19<00:00, 12.89it/s]\n"
     ]
    },
    {
     "name": "stdout",
     "output_type": "stream",
     "text": [
      "error (w-wq)^2: 0.070\n",
      "model.layers.9.mlp.gate_proj\n"
     ]
    },
    {
     "name": "stderr",
     "output_type": "stream",
     "text": [
      "100%|██████████| 688/688 [00:50<00:00, 13.51it/s]\n",
      "100%|██████████| 688/688 [00:53<00:00, 12.93it/s]\n"
     ]
    },
    {
     "name": "stdout",
     "output_type": "stream",
     "text": [
      "error (w-wq)^2: 0.070\n",
      "model.layers.9.mlp.up_proj\n"
     ]
    },
    {
     "name": "stderr",
     "output_type": "stream",
     "text": [
      "100%|██████████| 688/688 [00:51<00:00, 13.48it/s]\n",
      "100%|██████████| 688/688 [00:53<00:00, 12.94it/s]\n"
     ]
    },
    {
     "name": "stdout",
     "output_type": "stream",
     "text": [
      "error (w-wq)^2: 0.070\n",
      "model.layers.9.mlp.down_proj\n"
     ]
    },
    {
     "name": "stderr",
     "output_type": "stream",
     "text": [
      "100%|██████████| 688/688 [00:50<00:00, 13.53it/s]\n",
      "100%|██████████| 688/688 [00:52<00:00, 12.98it/s]\n"
     ]
    },
    {
     "name": "stdout",
     "output_type": "stream",
     "text": [
      "error (w-wq)^2: 0.070\n",
      "model.layers.10.self_attn.q_proj\n"
     ]
    },
    {
     "name": "stderr",
     "output_type": "stream",
     "text": [
      "100%|██████████| 256/256 [00:18<00:00, 13.56it/s]\n",
      "100%|██████████| 256/256 [00:19<00:00, 12.93it/s]\n"
     ]
    },
    {
     "name": "stdout",
     "output_type": "stream",
     "text": [
      "error (w-wq)^2: 0.070\n",
      "model.layers.10.self_attn.k_proj\n"
     ]
    },
    {
     "name": "stderr",
     "output_type": "stream",
     "text": [
      "100%|██████████| 256/256 [00:18<00:00, 13.49it/s]\n",
      "100%|██████████| 256/256 [00:19<00:00, 12.93it/s]\n"
     ]
    },
    {
     "name": "stdout",
     "output_type": "stream",
     "text": [
      "error (w-wq)^2: 0.070\n",
      "model.layers.10.self_attn.v_proj\n"
     ]
    },
    {
     "name": "stderr",
     "output_type": "stream",
     "text": [
      "100%|██████████| 256/256 [00:18<00:00, 13.55it/s]\n",
      "100%|██████████| 256/256 [00:19<00:00, 12.93it/s]\n"
     ]
    },
    {
     "name": "stdout",
     "output_type": "stream",
     "text": [
      "error (w-wq)^2: 0.070\n",
      "model.layers.10.self_attn.o_proj\n"
     ]
    },
    {
     "name": "stderr",
     "output_type": "stream",
     "text": [
      "100%|██████████| 256/256 [00:18<00:00, 13.55it/s]\n",
      "100%|██████████| 256/256 [00:19<00:00, 12.92it/s]\n"
     ]
    },
    {
     "name": "stdout",
     "output_type": "stream",
     "text": [
      "error (w-wq)^2: 0.070\n",
      "model.layers.10.mlp.gate_proj\n"
     ]
    },
    {
     "name": "stderr",
     "output_type": "stream",
     "text": [
      "100%|██████████| 688/688 [00:50<00:00, 13.52it/s]\n",
      "100%|██████████| 688/688 [00:53<00:00, 12.95it/s]\n"
     ]
    },
    {
     "name": "stdout",
     "output_type": "stream",
     "text": [
      "error (w-wq)^2: 0.070\n",
      "model.layers.10.mlp.up_proj\n"
     ]
    },
    {
     "name": "stderr",
     "output_type": "stream",
     "text": [
      "100%|██████████| 688/688 [00:51<00:00, 13.48it/s]\n",
      "100%|██████████| 688/688 [00:53<00:00, 12.95it/s]\n"
     ]
    },
    {
     "name": "stdout",
     "output_type": "stream",
     "text": [
      "error (w-wq)^2: 0.070\n",
      "model.layers.10.mlp.down_proj\n"
     ]
    },
    {
     "name": "stderr",
     "output_type": "stream",
     "text": [
      "100%|██████████| 688/688 [00:50<00:00, 13.56it/s]\n",
      "100%|██████████| 688/688 [00:53<00:00, 12.93it/s]\n"
     ]
    },
    {
     "name": "stdout",
     "output_type": "stream",
     "text": [
      "error (w-wq)^2: 0.070\n",
      "model.layers.11.self_attn.q_proj\n"
     ]
    },
    {
     "name": "stderr",
     "output_type": "stream",
     "text": [
      "100%|██████████| 256/256 [00:18<00:00, 13.61it/s]\n",
      "100%|██████████| 256/256 [00:19<00:00, 12.95it/s]\n"
     ]
    },
    {
     "name": "stdout",
     "output_type": "stream",
     "text": [
      "error (w-wq)^2: 0.070\n",
      "model.layers.11.self_attn.k_proj\n"
     ]
    },
    {
     "name": "stderr",
     "output_type": "stream",
     "text": [
      "100%|██████████| 256/256 [00:18<00:00, 13.61it/s]\n",
      "100%|██████████| 256/256 [00:19<00:00, 12.95it/s]\n"
     ]
    },
    {
     "name": "stdout",
     "output_type": "stream",
     "text": [
      "error (w-wq)^2: 0.070\n",
      "model.layers.11.self_attn.v_proj\n"
     ]
    },
    {
     "name": "stderr",
     "output_type": "stream",
     "text": [
      "100%|██████████| 256/256 [00:18<00:00, 13.57it/s]\n",
      "100%|██████████| 256/256 [00:19<00:00, 12.93it/s]\n"
     ]
    },
    {
     "name": "stdout",
     "output_type": "stream",
     "text": [
      "error (w-wq)^2: 0.070\n",
      "model.layers.11.self_attn.o_proj\n"
     ]
    },
    {
     "name": "stderr",
     "output_type": "stream",
     "text": [
      "100%|██████████| 256/256 [00:18<00:00, 13.57it/s]\n",
      "100%|██████████| 256/256 [00:19<00:00, 12.93it/s]\n"
     ]
    },
    {
     "name": "stdout",
     "output_type": "stream",
     "text": [
      "error (w-wq)^2: 0.070\n",
      "model.layers.11.mlp.gate_proj\n"
     ]
    },
    {
     "name": "stderr",
     "output_type": "stream",
     "text": [
      "100%|██████████| 688/688 [00:50<00:00, 13.55it/s]\n",
      "100%|██████████| 688/688 [00:53<00:00, 12.94it/s]\n"
     ]
    },
    {
     "name": "stdout",
     "output_type": "stream",
     "text": [
      "error (w-wq)^2: 0.070\n",
      "model.layers.11.mlp.up_proj\n"
     ]
    },
    {
     "name": "stderr",
     "output_type": "stream",
     "text": [
      "100%|██████████| 688/688 [00:50<00:00, 13.58it/s]\n",
      "100%|██████████| 688/688 [00:53<00:00, 12.94it/s]\n"
     ]
    },
    {
     "name": "stdout",
     "output_type": "stream",
     "text": [
      "error (w-wq)^2: 0.070\n",
      "model.layers.11.mlp.down_proj\n"
     ]
    },
    {
     "name": "stderr",
     "output_type": "stream",
     "text": [
      "100%|██████████| 688/688 [00:50<00:00, 13.55it/s]\n",
      "100%|██████████| 688/688 [00:53<00:00, 12.89it/s]\n"
     ]
    },
    {
     "name": "stdout",
     "output_type": "stream",
     "text": [
      "error (w-wq)^2: 0.070\n",
      "model.layers.12.self_attn.q_proj\n"
     ]
    },
    {
     "name": "stderr",
     "output_type": "stream",
     "text": [
      "100%|██████████| 256/256 [00:18<00:00, 13.60it/s]\n",
      "100%|██████████| 256/256 [00:19<00:00, 12.93it/s]\n"
     ]
    },
    {
     "name": "stdout",
     "output_type": "stream",
     "text": [
      "error (w-wq)^2: 0.070\n",
      "model.layers.12.self_attn.k_proj\n"
     ]
    },
    {
     "name": "stderr",
     "output_type": "stream",
     "text": [
      "100%|██████████| 256/256 [00:18<00:00, 13.57it/s]\n",
      "100%|██████████| 256/256 [00:19<00:00, 12.94it/s]\n"
     ]
    },
    {
     "name": "stdout",
     "output_type": "stream",
     "text": [
      "error (w-wq)^2: 0.070\n",
      "model.layers.12.self_attn.v_proj\n"
     ]
    },
    {
     "name": "stderr",
     "output_type": "stream",
     "text": [
      "100%|██████████| 256/256 [00:18<00:00, 13.55it/s]\n",
      "100%|██████████| 256/256 [00:19<00:00, 12.93it/s]\n"
     ]
    },
    {
     "name": "stdout",
     "output_type": "stream",
     "text": [
      "error (w-wq)^2: 0.070\n",
      "model.layers.12.self_attn.o_proj\n"
     ]
    },
    {
     "name": "stderr",
     "output_type": "stream",
     "text": [
      "100%|██████████| 256/256 [00:18<00:00, 13.56it/s]\n",
      "100%|██████████| 256/256 [00:19<00:00, 12.92it/s]\n"
     ]
    },
    {
     "name": "stdout",
     "output_type": "stream",
     "text": [
      "error (w-wq)^2: 0.070\n",
      "model.layers.12.mlp.gate_proj\n"
     ]
    },
    {
     "name": "stderr",
     "output_type": "stream",
     "text": [
      "100%|██████████| 688/688 [00:50<00:00, 13.52it/s]\n",
      "100%|██████████| 688/688 [00:53<00:00, 12.94it/s]\n"
     ]
    },
    {
     "name": "stdout",
     "output_type": "stream",
     "text": [
      "error (w-wq)^2: 0.070\n",
      "model.layers.12.mlp.up_proj\n"
     ]
    },
    {
     "name": "stderr",
     "output_type": "stream",
     "text": [
      "100%|██████████| 688/688 [00:50<00:00, 13.51it/s]\n",
      "100%|██████████| 688/688 [00:53<00:00, 12.92it/s]\n"
     ]
    },
    {
     "name": "stdout",
     "output_type": "stream",
     "text": [
      "error (w-wq)^2: 0.070\n",
      "model.layers.12.mlp.down_proj\n"
     ]
    },
    {
     "name": "stderr",
     "output_type": "stream",
     "text": [
      "100%|██████████| 688/688 [00:51<00:00, 13.47it/s]\n",
      "100%|██████████| 688/688 [00:53<00:00, 12.92it/s]\n"
     ]
    },
    {
     "name": "stdout",
     "output_type": "stream",
     "text": [
      "error (w-wq)^2: 0.070\n",
      "model.layers.13.self_attn.q_proj\n"
     ]
    },
    {
     "name": "stderr",
     "output_type": "stream",
     "text": [
      "100%|██████████| 256/256 [00:18<00:00, 13.53it/s]\n",
      "100%|██████████| 256/256 [00:19<00:00, 12.94it/s]\n"
     ]
    },
    {
     "name": "stdout",
     "output_type": "stream",
     "text": [
      "error (w-wq)^2: 0.070\n",
      "model.layers.13.self_attn.k_proj\n"
     ]
    },
    {
     "name": "stderr",
     "output_type": "stream",
     "text": [
      "100%|██████████| 256/256 [00:18<00:00, 13.55it/s]\n",
      "100%|██████████| 256/256 [00:19<00:00, 12.93it/s]\n"
     ]
    },
    {
     "name": "stdout",
     "output_type": "stream",
     "text": [
      "error (w-wq)^2: 0.070\n",
      "model.layers.13.self_attn.v_proj\n"
     ]
    },
    {
     "name": "stderr",
     "output_type": "stream",
     "text": [
      "100%|██████████| 256/256 [00:18<00:00, 13.56it/s]\n",
      "100%|██████████| 256/256 [00:19<00:00, 12.94it/s]\n"
     ]
    },
    {
     "name": "stdout",
     "output_type": "stream",
     "text": [
      "error (w-wq)^2: 0.070\n",
      "model.layers.13.self_attn.o_proj\n"
     ]
    },
    {
     "name": "stderr",
     "output_type": "stream",
     "text": [
      "100%|██████████| 256/256 [00:18<00:00, 13.56it/s]\n",
      "100%|██████████| 256/256 [00:19<00:00, 12.93it/s]\n"
     ]
    },
    {
     "name": "stdout",
     "output_type": "stream",
     "text": [
      "error (w-wq)^2: 0.070\n",
      "model.layers.13.mlp.gate_proj\n"
     ]
    },
    {
     "name": "stderr",
     "output_type": "stream",
     "text": [
      "100%|██████████| 688/688 [00:50<00:00, 13.53it/s]\n",
      "100%|██████████| 688/688 [00:53<00:00, 12.93it/s]\n"
     ]
    },
    {
     "name": "stdout",
     "output_type": "stream",
     "text": [
      "error (w-wq)^2: 0.070\n",
      "model.layers.13.mlp.up_proj\n"
     ]
    },
    {
     "name": "stderr",
     "output_type": "stream",
     "text": [
      "100%|██████████| 688/688 [00:50<00:00, 13.55it/s]\n",
      "100%|██████████| 688/688 [00:53<00:00, 12.87it/s]\n"
     ]
    },
    {
     "name": "stdout",
     "output_type": "stream",
     "text": [
      "error (w-wq)^2: 0.070\n",
      "model.layers.13.mlp.down_proj\n"
     ]
    },
    {
     "name": "stderr",
     "output_type": "stream",
     "text": [
      "100%|██████████| 688/688 [00:50<00:00, 13.58it/s]\n",
      "100%|██████████| 688/688 [00:53<00:00, 12.93it/s]\n"
     ]
    },
    {
     "name": "stdout",
     "output_type": "stream",
     "text": [
      "error (w-wq)^2: 0.070\n",
      "model.layers.14.self_attn.q_proj\n"
     ]
    },
    {
     "name": "stderr",
     "output_type": "stream",
     "text": [
      "100%|██████████| 256/256 [00:18<00:00, 13.63it/s]\n",
      "100%|██████████| 256/256 [00:19<00:00, 12.93it/s]\n"
     ]
    },
    {
     "name": "stdout",
     "output_type": "stream",
     "text": [
      "error (w-wq)^2: 0.070\n",
      "model.layers.14.self_attn.k_proj\n"
     ]
    },
    {
     "name": "stderr",
     "output_type": "stream",
     "text": [
      "100%|██████████| 256/256 [00:18<00:00, 13.54it/s]\n",
      "100%|██████████| 256/256 [00:19<00:00, 12.93it/s]\n"
     ]
    },
    {
     "name": "stdout",
     "output_type": "stream",
     "text": [
      "error (w-wq)^2: 0.070\n",
      "model.layers.14.self_attn.v_proj\n"
     ]
    },
    {
     "name": "stderr",
     "output_type": "stream",
     "text": [
      "100%|██████████| 256/256 [00:18<00:00, 13.55it/s]\n",
      "100%|██████████| 256/256 [00:19<00:00, 12.93it/s]\n"
     ]
    },
    {
     "name": "stdout",
     "output_type": "stream",
     "text": [
      "error (w-wq)^2: 0.070\n",
      "model.layers.14.self_attn.o_proj\n"
     ]
    },
    {
     "name": "stderr",
     "output_type": "stream",
     "text": [
      "100%|██████████| 256/256 [00:18<00:00, 13.55it/s]\n",
      "100%|██████████| 256/256 [00:19<00:00, 12.95it/s]\n"
     ]
    },
    {
     "name": "stdout",
     "output_type": "stream",
     "text": [
      "error (w-wq)^2: 0.070\n",
      "model.layers.14.mlp.gate_proj\n"
     ]
    },
    {
     "name": "stderr",
     "output_type": "stream",
     "text": [
      "100%|██████████| 688/688 [00:50<00:00, 13.54it/s]\n",
      "100%|██████████| 688/688 [00:53<00:00, 12.89it/s]\n"
     ]
    },
    {
     "name": "stdout",
     "output_type": "stream",
     "text": [
      "error (w-wq)^2: 0.070\n",
      "model.layers.14.mlp.up_proj\n"
     ]
    },
    {
     "name": "stderr",
     "output_type": "stream",
     "text": [
      "100%|██████████| 688/688 [00:50<00:00, 13.60it/s]\n",
      "100%|██████████| 688/688 [00:53<00:00, 12.93it/s]\n"
     ]
    },
    {
     "name": "stdout",
     "output_type": "stream",
     "text": [
      "error (w-wq)^2: 0.070\n",
      "model.layers.14.mlp.down_proj\n"
     ]
    },
    {
     "name": "stderr",
     "output_type": "stream",
     "text": [
      "100%|██████████| 688/688 [00:50<00:00, 13.52it/s]\n",
      "100%|██████████| 688/688 [00:53<00:00, 12.94it/s]\n"
     ]
    },
    {
     "name": "stdout",
     "output_type": "stream",
     "text": [
      "error (w-wq)^2: 0.070\n",
      "model.layers.15.self_attn.q_proj\n"
     ]
    },
    {
     "name": "stderr",
     "output_type": "stream",
     "text": [
      "100%|██████████| 256/256 [00:18<00:00, 13.56it/s]\n",
      "100%|██████████| 256/256 [00:19<00:00, 12.89it/s]\n"
     ]
    },
    {
     "name": "stdout",
     "output_type": "stream",
     "text": [
      "error (w-wq)^2: 0.070\n",
      "model.layers.15.self_attn.k_proj\n"
     ]
    },
    {
     "name": "stderr",
     "output_type": "stream",
     "text": [
      "100%|██████████| 256/256 [00:18<00:00, 13.50it/s]\n",
      "100%|██████████| 256/256 [00:19<00:00, 12.92it/s]\n"
     ]
    },
    {
     "name": "stdout",
     "output_type": "stream",
     "text": [
      "error (w-wq)^2: 0.070\n",
      "model.layers.15.self_attn.v_proj\n"
     ]
    },
    {
     "name": "stderr",
     "output_type": "stream",
     "text": [
      "100%|██████████| 256/256 [00:18<00:00, 13.47it/s]\n",
      "100%|██████████| 256/256 [00:19<00:00, 12.94it/s]\n"
     ]
    },
    {
     "name": "stdout",
     "output_type": "stream",
     "text": [
      "error (w-wq)^2: 0.070\n",
      "model.layers.15.self_attn.o_proj\n"
     ]
    },
    {
     "name": "stderr",
     "output_type": "stream",
     "text": [
      "100%|██████████| 256/256 [00:19<00:00, 13.45it/s]\n",
      "100%|██████████| 256/256 [00:19<00:00, 12.92it/s]\n"
     ]
    },
    {
     "name": "stdout",
     "output_type": "stream",
     "text": [
      "error (w-wq)^2: 0.070\n",
      "model.layers.15.mlp.gate_proj\n"
     ]
    },
    {
     "name": "stderr",
     "output_type": "stream",
     "text": [
      "100%|██████████| 688/688 [00:50<00:00, 13.55it/s]\n",
      "100%|██████████| 688/688 [00:53<00:00, 12.89it/s]\n"
     ]
    },
    {
     "name": "stdout",
     "output_type": "stream",
     "text": [
      "error (w-wq)^2: 0.070\n",
      "model.layers.15.mlp.up_proj\n"
     ]
    },
    {
     "name": "stderr",
     "output_type": "stream",
     "text": [
      "100%|██████████| 688/688 [00:50<00:00, 13.57it/s]\n",
      "100%|██████████| 688/688 [00:53<00:00, 12.93it/s]\n"
     ]
    },
    {
     "name": "stdout",
     "output_type": "stream",
     "text": [
      "error (w-wq)^2: 0.070\n",
      "model.layers.15.mlp.down_proj\n"
     ]
    },
    {
     "name": "stderr",
     "output_type": "stream",
     "text": [
      "100%|██████████| 688/688 [00:50<00:00, 13.52it/s]\n",
      "100%|██████████| 688/688 [00:53<00:00, 12.92it/s]\n"
     ]
    },
    {
     "name": "stdout",
     "output_type": "stream",
     "text": [
      "error (w-wq)^2: 0.070\n",
      "model.layers.16.self_attn.q_proj\n"
     ]
    },
    {
     "name": "stderr",
     "output_type": "stream",
     "text": [
      "100%|██████████| 256/256 [00:18<00:00, 13.50it/s]\n",
      "100%|██████████| 256/256 [00:19<00:00, 12.89it/s]\n"
     ]
    },
    {
     "name": "stdout",
     "output_type": "stream",
     "text": [
      "error (w-wq)^2: 0.070\n",
      "model.layers.16.self_attn.k_proj\n"
     ]
    },
    {
     "name": "stderr",
     "output_type": "stream",
     "text": [
      "100%|██████████| 256/256 [00:18<00:00, 13.50it/s]\n",
      "100%|██████████| 256/256 [00:19<00:00, 12.93it/s]\n"
     ]
    },
    {
     "name": "stdout",
     "output_type": "stream",
     "text": [
      "error (w-wq)^2: 0.070\n",
      "model.layers.16.self_attn.v_proj\n"
     ]
    },
    {
     "name": "stderr",
     "output_type": "stream",
     "text": [
      "100%|██████████| 256/256 [00:18<00:00, 13.50it/s]\n",
      "100%|██████████| 256/256 [00:19<00:00, 12.94it/s]\n"
     ]
    },
    {
     "name": "stdout",
     "output_type": "stream",
     "text": [
      "error (w-wq)^2: 0.070\n",
      "model.layers.16.self_attn.o_proj\n"
     ]
    },
    {
     "name": "stderr",
     "output_type": "stream",
     "text": [
      "100%|██████████| 256/256 [00:18<00:00, 13.55it/s]\n",
      "100%|██████████| 256/256 [00:19<00:00, 12.94it/s]\n"
     ]
    },
    {
     "name": "stdout",
     "output_type": "stream",
     "text": [
      "error (w-wq)^2: 0.070\n",
      "model.layers.16.mlp.gate_proj\n"
     ]
    },
    {
     "name": "stderr",
     "output_type": "stream",
     "text": [
      "100%|██████████| 688/688 [00:50<00:00, 13.53it/s]\n",
      "100%|██████████| 688/688 [00:53<00:00, 12.88it/s]\n"
     ]
    },
    {
     "name": "stdout",
     "output_type": "stream",
     "text": [
      "error (w-wq)^2: 0.070\n",
      "model.layers.16.mlp.up_proj\n"
     ]
    },
    {
     "name": "stderr",
     "output_type": "stream",
     "text": [
      "100%|██████████| 688/688 [00:50<00:00, 13.52it/s]\n",
      "100%|██████████| 688/688 [00:53<00:00, 12.95it/s]\n"
     ]
    },
    {
     "name": "stdout",
     "output_type": "stream",
     "text": [
      "error (w-wq)^2: 0.070\n",
      "model.layers.16.mlp.down_proj\n"
     ]
    },
    {
     "name": "stderr",
     "output_type": "stream",
     "text": [
      "100%|██████████| 688/688 [00:50<00:00, 13.54it/s]\n",
      "100%|██████████| 688/688 [00:53<00:00, 12.94it/s]\n"
     ]
    },
    {
     "name": "stdout",
     "output_type": "stream",
     "text": [
      "error (w-wq)^2: 0.070\n",
      "model.layers.17.self_attn.q_proj\n"
     ]
    },
    {
     "name": "stderr",
     "output_type": "stream",
     "text": [
      "100%|██████████| 256/256 [00:18<00:00, 13.55it/s]\n",
      "100%|██████████| 256/256 [00:19<00:00, 12.89it/s]\n"
     ]
    },
    {
     "name": "stdout",
     "output_type": "stream",
     "text": [
      "error (w-wq)^2: 0.070\n",
      "model.layers.17.self_attn.k_proj\n"
     ]
    },
    {
     "name": "stderr",
     "output_type": "stream",
     "text": [
      "100%|██████████| 256/256 [00:18<00:00, 13.54it/s]\n",
      "100%|██████████| 256/256 [00:19<00:00, 12.88it/s]\n"
     ]
    },
    {
     "name": "stdout",
     "output_type": "stream",
     "text": [
      "error (w-wq)^2: 0.070\n",
      "model.layers.17.self_attn.v_proj\n"
     ]
    },
    {
     "name": "stderr",
     "output_type": "stream",
     "text": [
      "100%|██████████| 256/256 [00:18<00:00, 13.50it/s]\n",
      "100%|██████████| 256/256 [00:19<00:00, 12.93it/s]\n"
     ]
    },
    {
     "name": "stdout",
     "output_type": "stream",
     "text": [
      "error (w-wq)^2: 0.070\n",
      "model.layers.17.self_attn.o_proj\n"
     ]
    },
    {
     "name": "stderr",
     "output_type": "stream",
     "text": [
      "100%|██████████| 256/256 [00:18<00:00, 13.50it/s]\n",
      "100%|██████████| 256/256 [00:19<00:00, 12.93it/s]\n"
     ]
    },
    {
     "name": "stdout",
     "output_type": "stream",
     "text": [
      "error (w-wq)^2: 0.070\n",
      "model.layers.17.mlp.gate_proj\n"
     ]
    },
    {
     "name": "stderr",
     "output_type": "stream",
     "text": [
      "100%|██████████| 688/688 [00:50<00:00, 13.52it/s]\n",
      "100%|██████████| 688/688 [00:53<00:00, 12.93it/s]\n"
     ]
    },
    {
     "name": "stdout",
     "output_type": "stream",
     "text": [
      "error (w-wq)^2: 0.070\n",
      "model.layers.17.mlp.up_proj\n"
     ]
    },
    {
     "name": "stderr",
     "output_type": "stream",
     "text": [
      "100%|██████████| 688/688 [00:50<00:00, 13.52it/s]\n",
      "100%|██████████| 688/688 [00:53<00:00, 12.91it/s]\n"
     ]
    },
    {
     "name": "stdout",
     "output_type": "stream",
     "text": [
      "error (w-wq)^2: 0.070\n",
      "model.layers.17.mlp.down_proj\n"
     ]
    },
    {
     "name": "stderr",
     "output_type": "stream",
     "text": [
      "100%|██████████| 688/688 [00:51<00:00, 13.46it/s]\n",
      "100%|██████████| 688/688 [00:53<00:00, 12.88it/s]\n"
     ]
    },
    {
     "name": "stdout",
     "output_type": "stream",
     "text": [
      "error (w-wq)^2: 0.070\n",
      "model.layers.18.self_attn.q_proj\n"
     ]
    },
    {
     "name": "stderr",
     "output_type": "stream",
     "text": [
      "100%|██████████| 256/256 [00:18<00:00, 13.56it/s]\n",
      "100%|██████████| 256/256 [00:19<00:00, 12.93it/s]\n"
     ]
    },
    {
     "name": "stdout",
     "output_type": "stream",
     "text": [
      "error (w-wq)^2: 0.070\n",
      "model.layers.18.self_attn.k_proj\n"
     ]
    },
    {
     "name": "stderr",
     "output_type": "stream",
     "text": [
      "100%|██████████| 256/256 [00:18<00:00, 13.56it/s]\n",
      "100%|██████████| 256/256 [00:19<00:00, 12.92it/s]\n"
     ]
    },
    {
     "name": "stdout",
     "output_type": "stream",
     "text": [
      "error (w-wq)^2: 0.070\n",
      "model.layers.18.self_attn.v_proj\n"
     ]
    },
    {
     "name": "stderr",
     "output_type": "stream",
     "text": [
      "100%|██████████| 256/256 [00:18<00:00, 13.55it/s]\n",
      "100%|██████████| 256/256 [00:19<00:00, 12.93it/s]\n"
     ]
    },
    {
     "name": "stdout",
     "output_type": "stream",
     "text": [
      "error (w-wq)^2: 0.070\n",
      "model.layers.18.self_attn.o_proj\n"
     ]
    },
    {
     "name": "stderr",
     "output_type": "stream",
     "text": [
      "100%|██████████| 256/256 [00:18<00:00, 13.55it/s]\n",
      "100%|██████████| 256/256 [00:19<00:00, 12.93it/s]\n"
     ]
    },
    {
     "name": "stdout",
     "output_type": "stream",
     "text": [
      "error (w-wq)^2: 0.070\n",
      "model.layers.18.mlp.gate_proj\n"
     ]
    },
    {
     "name": "stderr",
     "output_type": "stream",
     "text": [
      "100%|██████████| 688/688 [00:50<00:00, 13.55it/s]\n",
      "100%|██████████| 688/688 [00:53<00:00, 12.89it/s]\n"
     ]
    },
    {
     "name": "stdout",
     "output_type": "stream",
     "text": [
      "error (w-wq)^2: 0.070\n",
      "model.layers.18.mlp.up_proj\n"
     ]
    },
    {
     "name": "stderr",
     "output_type": "stream",
     "text": [
      "100%|██████████| 688/688 [00:50<00:00, 13.59it/s]\n",
      "100%|██████████| 688/688 [00:53<00:00, 12.89it/s]\n"
     ]
    },
    {
     "name": "stdout",
     "output_type": "stream",
     "text": [
      "error (w-wq)^2: 0.070\n",
      "model.layers.18.mlp.down_proj\n"
     ]
    },
    {
     "name": "stderr",
     "output_type": "stream",
     "text": [
      "100%|██████████| 688/688 [00:50<00:00, 13.56it/s]\n",
      "100%|██████████| 688/688 [00:53<00:00, 12.97it/s]\n"
     ]
    },
    {
     "name": "stdout",
     "output_type": "stream",
     "text": [
      "error (w-wq)^2: 0.070\n",
      "model.layers.19.self_attn.q_proj\n"
     ]
    },
    {
     "name": "stderr",
     "output_type": "stream",
     "text": [
      "100%|██████████| 256/256 [00:18<00:00, 13.56it/s]\n",
      "100%|██████████| 256/256 [00:19<00:00, 12.93it/s]\n"
     ]
    },
    {
     "name": "stdout",
     "output_type": "stream",
     "text": [
      "error (w-wq)^2: 0.070\n",
      "model.layers.19.self_attn.k_proj\n"
     ]
    },
    {
     "name": "stderr",
     "output_type": "stream",
     "text": [
      "100%|██████████| 256/256 [00:18<00:00, 13.57it/s]\n",
      "100%|██████████| 256/256 [00:19<00:00, 12.93it/s]\n"
     ]
    },
    {
     "name": "stdout",
     "output_type": "stream",
     "text": [
      "error (w-wq)^2: 0.070\n",
      "model.layers.19.self_attn.v_proj\n"
     ]
    },
    {
     "name": "stderr",
     "output_type": "stream",
     "text": [
      "100%|██████████| 256/256 [00:18<00:00, 13.56it/s]\n",
      "100%|██████████| 256/256 [00:19<00:00, 12.94it/s]\n"
     ]
    },
    {
     "name": "stdout",
     "output_type": "stream",
     "text": [
      "error (w-wq)^2: 0.070\n",
      "model.layers.19.self_attn.o_proj\n"
     ]
    },
    {
     "name": "stderr",
     "output_type": "stream",
     "text": [
      "100%|██████████| 256/256 [00:18<00:00, 13.56it/s]\n",
      "100%|██████████| 256/256 [00:19<00:00, 12.90it/s]\n"
     ]
    },
    {
     "name": "stdout",
     "output_type": "stream",
     "text": [
      "error (w-wq)^2: 0.070\n",
      "model.layers.19.mlp.gate_proj\n"
     ]
    },
    {
     "name": "stderr",
     "output_type": "stream",
     "text": [
      "100%|██████████| 688/688 [00:50<00:00, 13.52it/s]\n",
      "100%|██████████| 688/688 [00:53<00:00, 12.91it/s]\n"
     ]
    },
    {
     "name": "stdout",
     "output_type": "stream",
     "text": [
      "error (w-wq)^2: 0.070\n",
      "model.layers.19.mlp.up_proj\n"
     ]
    },
    {
     "name": "stderr",
     "output_type": "stream",
     "text": [
      "100%|██████████| 688/688 [00:51<00:00, 13.48it/s]\n",
      "100%|██████████| 688/688 [00:53<00:00, 12.92it/s]\n"
     ]
    },
    {
     "name": "stdout",
     "output_type": "stream",
     "text": [
      "error (w-wq)^2: 0.070\n",
      "model.layers.19.mlp.down_proj\n"
     ]
    },
    {
     "name": "stderr",
     "output_type": "stream",
     "text": [
      "100%|██████████| 688/688 [00:50<00:00, 13.53it/s]\n",
      "100%|██████████| 688/688 [00:53<00:00, 12.95it/s]\n"
     ]
    },
    {
     "name": "stdout",
     "output_type": "stream",
     "text": [
      "error (w-wq)^2: 0.070\n",
      "model.layers.20.self_attn.q_proj\n"
     ]
    },
    {
     "name": "stderr",
     "output_type": "stream",
     "text": [
      "100%|██████████| 256/256 [00:18<00:00, 13.56it/s]\n",
      "100%|██████████| 256/256 [00:19<00:00, 12.96it/s]\n"
     ]
    },
    {
     "name": "stdout",
     "output_type": "stream",
     "text": [
      "error (w-wq)^2: 0.070\n",
      "model.layers.20.self_attn.k_proj\n"
     ]
    },
    {
     "name": "stderr",
     "output_type": "stream",
     "text": [
      "100%|██████████| 256/256 [00:18<00:00, 13.56it/s]\n",
      "100%|██████████| 256/256 [00:19<00:00, 12.94it/s]\n"
     ]
    },
    {
     "name": "stdout",
     "output_type": "stream",
     "text": [
      "error (w-wq)^2: 0.070\n",
      "model.layers.20.self_attn.v_proj\n"
     ]
    },
    {
     "name": "stderr",
     "output_type": "stream",
     "text": [
      "100%|██████████| 256/256 [00:18<00:00, 13.57it/s]\n",
      "100%|██████████| 256/256 [00:19<00:00, 12.93it/s]\n"
     ]
    },
    {
     "name": "stdout",
     "output_type": "stream",
     "text": [
      "error (w-wq)^2: 0.070\n",
      "model.layers.20.self_attn.o_proj\n"
     ]
    },
    {
     "name": "stderr",
     "output_type": "stream",
     "text": [
      "100%|██████████| 256/256 [00:18<00:00, 13.55it/s]\n",
      "100%|██████████| 256/256 [00:19<00:00, 12.94it/s]\n"
     ]
    },
    {
     "name": "stdout",
     "output_type": "stream",
     "text": [
      "error (w-wq)^2: 0.070\n",
      "model.layers.20.mlp.gate_proj\n"
     ]
    },
    {
     "name": "stderr",
     "output_type": "stream",
     "text": [
      "100%|██████████| 688/688 [00:50<00:00, 13.52it/s]\n",
      "100%|██████████| 688/688 [00:53<00:00, 12.94it/s]\n"
     ]
    },
    {
     "name": "stdout",
     "output_type": "stream",
     "text": [
      "error (w-wq)^2: 0.070\n",
      "model.layers.20.mlp.up_proj\n"
     ]
    },
    {
     "name": "stderr",
     "output_type": "stream",
     "text": [
      "100%|██████████| 688/688 [00:50<00:00, 13.55it/s]\n",
      "100%|██████████| 688/688 [00:53<00:00, 12.93it/s]\n"
     ]
    },
    {
     "name": "stdout",
     "output_type": "stream",
     "text": [
      "error (w-wq)^2: 0.070\n",
      "model.layers.20.mlp.down_proj\n"
     ]
    },
    {
     "name": "stderr",
     "output_type": "stream",
     "text": [
      "100%|██████████| 688/688 [00:50<00:00, 13.52it/s]\n",
      "100%|██████████| 688/688 [00:53<00:00, 12.94it/s]\n"
     ]
    },
    {
     "name": "stdout",
     "output_type": "stream",
     "text": [
      "error (w-wq)^2: 0.070\n",
      "model.layers.21.self_attn.q_proj\n"
     ]
    },
    {
     "name": "stderr",
     "output_type": "stream",
     "text": [
      "100%|██████████| 256/256 [00:18<00:00, 13.55it/s]\n",
      "100%|██████████| 256/256 [00:19<00:00, 12.94it/s]\n"
     ]
    },
    {
     "name": "stdout",
     "output_type": "stream",
     "text": [
      "error (w-wq)^2: 0.070\n",
      "model.layers.21.self_attn.k_proj\n"
     ]
    },
    {
     "name": "stderr",
     "output_type": "stream",
     "text": [
      "100%|██████████| 256/256 [00:18<00:00, 13.56it/s]\n",
      "100%|██████████| 256/256 [00:19<00:00, 12.95it/s]\n"
     ]
    },
    {
     "name": "stdout",
     "output_type": "stream",
     "text": [
      "error (w-wq)^2: 0.070\n",
      "model.layers.21.self_attn.v_proj\n"
     ]
    },
    {
     "name": "stderr",
     "output_type": "stream",
     "text": [
      "100%|██████████| 256/256 [00:18<00:00, 13.56it/s]\n",
      "100%|██████████| 256/256 [00:19<00:00, 12.93it/s]\n"
     ]
    },
    {
     "name": "stdout",
     "output_type": "stream",
     "text": [
      "error (w-wq)^2: 0.070\n",
      "model.layers.21.self_attn.o_proj\n"
     ]
    },
    {
     "name": "stderr",
     "output_type": "stream",
     "text": [
      "100%|██████████| 256/256 [00:18<00:00, 13.54it/s]\n",
      "100%|██████████| 256/256 [00:19<00:00, 12.91it/s]\n"
     ]
    },
    {
     "name": "stdout",
     "output_type": "stream",
     "text": [
      "error (w-wq)^2: 0.070\n",
      "model.layers.21.mlp.gate_proj\n"
     ]
    },
    {
     "name": "stderr",
     "output_type": "stream",
     "text": [
      "100%|██████████| 688/688 [00:50<00:00, 13.53it/s]\n",
      "100%|██████████| 688/688 [00:53<00:00, 12.90it/s]\n"
     ]
    },
    {
     "name": "stdout",
     "output_type": "stream",
     "text": [
      "error (w-wq)^2: 0.070\n",
      "model.layers.21.mlp.up_proj\n"
     ]
    },
    {
     "name": "stderr",
     "output_type": "stream",
     "text": [
      "100%|██████████| 688/688 [00:50<00:00, 13.56it/s]\n",
      "100%|██████████| 688/688 [00:53<00:00, 12.97it/s]\n"
     ]
    },
    {
     "name": "stdout",
     "output_type": "stream",
     "text": [
      "error (w-wq)^2: 0.070\n",
      "model.layers.21.mlp.down_proj\n"
     ]
    },
    {
     "name": "stderr",
     "output_type": "stream",
     "text": [
      "100%|██████████| 688/688 [00:51<00:00, 13.47it/s]\n",
      "100%|██████████| 688/688 [00:53<00:00, 12.94it/s]\n"
     ]
    },
    {
     "name": "stdout",
     "output_type": "stream",
     "text": [
      "error (w-wq)^2: 0.070\n",
      "model.layers.22.self_attn.q_proj\n"
     ]
    },
    {
     "name": "stderr",
     "output_type": "stream",
     "text": [
      "100%|██████████| 256/256 [00:18<00:00, 13.50it/s]\n",
      "100%|██████████| 256/256 [00:19<00:00, 12.94it/s]\n"
     ]
    },
    {
     "name": "stdout",
     "output_type": "stream",
     "text": [
      "error (w-wq)^2: 0.070\n",
      "model.layers.22.self_attn.k_proj\n"
     ]
    },
    {
     "name": "stderr",
     "output_type": "stream",
     "text": [
      "100%|██████████| 256/256 [00:18<00:00, 13.50it/s]\n",
      "100%|██████████| 256/256 [00:19<00:00, 12.94it/s]\n"
     ]
    },
    {
     "name": "stdout",
     "output_type": "stream",
     "text": [
      "error (w-wq)^2: 0.070\n",
      "model.layers.22.self_attn.v_proj\n"
     ]
    },
    {
     "name": "stderr",
     "output_type": "stream",
     "text": [
      "100%|██████████| 256/256 [00:18<00:00, 13.50it/s]\n",
      "100%|██████████| 256/256 [00:19<00:00, 12.94it/s]\n"
     ]
    },
    {
     "name": "stdout",
     "output_type": "stream",
     "text": [
      "error (w-wq)^2: 0.070\n",
      "model.layers.22.self_attn.o_proj\n"
     ]
    },
    {
     "name": "stderr",
     "output_type": "stream",
     "text": [
      "100%|██████████| 256/256 [00:18<00:00, 13.50it/s]\n",
      "100%|██████████| 256/256 [00:19<00:00, 12.94it/s]\n"
     ]
    },
    {
     "name": "stdout",
     "output_type": "stream",
     "text": [
      "error (w-wq)^2: 0.070\n",
      "model.layers.22.mlp.gate_proj\n"
     ]
    },
    {
     "name": "stderr",
     "output_type": "stream",
     "text": [
      "100%|██████████| 688/688 [00:50<00:00, 13.54it/s]\n",
      "100%|██████████| 688/688 [00:53<00:00, 12.92it/s]\n"
     ]
    },
    {
     "name": "stdout",
     "output_type": "stream",
     "text": [
      "error (w-wq)^2: 0.070\n",
      "model.layers.22.mlp.up_proj\n"
     ]
    },
    {
     "name": "stderr",
     "output_type": "stream",
     "text": [
      "100%|██████████| 688/688 [00:50<00:00, 13.60it/s]\n",
      "100%|██████████| 688/688 [00:52<00:00, 13.01it/s]\n"
     ]
    },
    {
     "name": "stdout",
     "output_type": "stream",
     "text": [
      "error (w-wq)^2: 0.070\n",
      "model.layers.22.mlp.down_proj\n"
     ]
    },
    {
     "name": "stderr",
     "output_type": "stream",
     "text": [
      "100%|██████████| 688/688 [00:51<00:00, 13.47it/s]\n",
      "100%|██████████| 688/688 [00:53<00:00, 12.93it/s]\n"
     ]
    },
    {
     "name": "stdout",
     "output_type": "stream",
     "text": [
      "error (w-wq)^2: 0.070\n",
      "model.layers.23.self_attn.q_proj\n"
     ]
    },
    {
     "name": "stderr",
     "output_type": "stream",
     "text": [
      "100%|██████████| 256/256 [00:18<00:00, 13.51it/s]\n",
      "100%|██████████| 256/256 [00:19<00:00, 12.94it/s]\n"
     ]
    },
    {
     "name": "stdout",
     "output_type": "stream",
     "text": [
      "error (w-wq)^2: 0.070\n",
      "model.layers.23.self_attn.k_proj\n"
     ]
    },
    {
     "name": "stderr",
     "output_type": "stream",
     "text": [
      "100%|██████████| 256/256 [00:18<00:00, 13.56it/s]\n",
      "100%|██████████| 256/256 [00:19<00:00, 12.94it/s]\n"
     ]
    },
    {
     "name": "stdout",
     "output_type": "stream",
     "text": [
      "error (w-wq)^2: 0.070\n",
      "model.layers.23.self_attn.v_proj\n"
     ]
    },
    {
     "name": "stderr",
     "output_type": "stream",
     "text": [
      "100%|██████████| 256/256 [00:18<00:00, 13.56it/s]\n",
      "100%|██████████| 256/256 [00:19<00:00, 12.95it/s]\n"
     ]
    },
    {
     "name": "stdout",
     "output_type": "stream",
     "text": [
      "error (w-wq)^2: 0.070\n",
      "model.layers.23.self_attn.o_proj\n"
     ]
    },
    {
     "name": "stderr",
     "output_type": "stream",
     "text": [
      "100%|██████████| 256/256 [00:18<00:00, 13.56it/s]\n",
      "100%|██████████| 256/256 [00:19<00:00, 12.93it/s]\n"
     ]
    },
    {
     "name": "stdout",
     "output_type": "stream",
     "text": [
      "error (w-wq)^2: 0.070\n",
      "model.layers.23.mlp.gate_proj\n"
     ]
    },
    {
     "name": "stderr",
     "output_type": "stream",
     "text": [
      "100%|██████████| 688/688 [00:50<00:00, 13.53it/s]\n",
      "100%|██████████| 688/688 [00:53<00:00, 12.93it/s]\n"
     ]
    },
    {
     "name": "stdout",
     "output_type": "stream",
     "text": [
      "error (w-wq)^2: 0.070\n",
      "model.layers.23.mlp.up_proj\n"
     ]
    },
    {
     "name": "stderr",
     "output_type": "stream",
     "text": [
      "100%|██████████| 688/688 [00:50<00:00, 13.51it/s]\n",
      "100%|██████████| 688/688 [00:53<00:00, 12.89it/s]\n"
     ]
    },
    {
     "name": "stdout",
     "output_type": "stream",
     "text": [
      "error (w-wq)^2: 0.070\n",
      "model.layers.23.mlp.down_proj\n"
     ]
    },
    {
     "name": "stderr",
     "output_type": "stream",
     "text": [
      "100%|██████████| 688/688 [00:50<00:00, 13.51it/s]\n",
      "100%|██████████| 688/688 [00:53<00:00, 12.88it/s]\n"
     ]
    },
    {
     "name": "stdout",
     "output_type": "stream",
     "text": [
      "error (w-wq)^2: 0.070\n",
      "model.layers.24.self_attn.q_proj\n"
     ]
    },
    {
     "name": "stderr",
     "output_type": "stream",
     "text": [
      "100%|██████████| 256/256 [00:18<00:00, 13.50it/s]\n",
      "100%|██████████| 256/256 [00:19<00:00, 12.93it/s]\n"
     ]
    },
    {
     "name": "stdout",
     "output_type": "stream",
     "text": [
      "error (w-wq)^2: 0.070\n",
      "model.layers.24.self_attn.k_proj\n"
     ]
    },
    {
     "name": "stderr",
     "output_type": "stream",
     "text": [
      "100%|██████████| 256/256 [00:18<00:00, 13.50it/s]\n",
      "100%|██████████| 256/256 [00:19<00:00, 12.93it/s]\n"
     ]
    },
    {
     "name": "stdout",
     "output_type": "stream",
     "text": [
      "error (w-wq)^2: 0.070\n",
      "model.layers.24.self_attn.v_proj\n"
     ]
    },
    {
     "name": "stderr",
     "output_type": "stream",
     "text": [
      "100%|██████████| 256/256 [00:18<00:00, 13.54it/s]\n",
      "100%|██████████| 256/256 [00:19<00:00, 12.93it/s]\n"
     ]
    },
    {
     "name": "stdout",
     "output_type": "stream",
     "text": [
      "error (w-wq)^2: 0.070\n",
      "model.layers.24.self_attn.o_proj\n"
     ]
    },
    {
     "name": "stderr",
     "output_type": "stream",
     "text": [
      "100%|██████████| 256/256 [00:18<00:00, 13.55it/s]\n",
      "100%|██████████| 256/256 [00:19<00:00, 12.94it/s]\n"
     ]
    },
    {
     "name": "stdout",
     "output_type": "stream",
     "text": [
      "error (w-wq)^2: 0.070\n",
      "model.layers.24.mlp.gate_proj\n"
     ]
    },
    {
     "name": "stderr",
     "output_type": "stream",
     "text": [
      "100%|██████████| 688/688 [00:50<00:00, 13.53it/s]\n",
      "100%|██████████| 688/688 [00:53<00:00, 12.91it/s]\n"
     ]
    },
    {
     "name": "stdout",
     "output_type": "stream",
     "text": [
      "error (w-wq)^2: 0.070\n",
      "model.layers.24.mlp.up_proj\n"
     ]
    },
    {
     "name": "stderr",
     "output_type": "stream",
     "text": [
      "100%|██████████| 688/688 [00:50<00:00, 13.51it/s]\n",
      "100%|██████████| 688/688 [00:53<00:00, 12.89it/s]\n"
     ]
    },
    {
     "name": "stdout",
     "output_type": "stream",
     "text": [
      "error (w-wq)^2: 0.070\n",
      "model.layers.24.mlp.down_proj\n"
     ]
    },
    {
     "name": "stderr",
     "output_type": "stream",
     "text": [
      "100%|██████████| 688/688 [00:50<00:00, 13.52it/s]\n",
      "100%|██████████| 688/688 [00:53<00:00, 12.93it/s]\n"
     ]
    },
    {
     "name": "stdout",
     "output_type": "stream",
     "text": [
      "error (w-wq)^2: 0.070\n",
      "model.layers.25.self_attn.q_proj\n"
     ]
    },
    {
     "name": "stderr",
     "output_type": "stream",
     "text": [
      "100%|██████████| 256/256 [00:18<00:00, 13.56it/s]\n",
      "100%|██████████| 256/256 [00:19<00:00, 12.92it/s]\n"
     ]
    },
    {
     "name": "stdout",
     "output_type": "stream",
     "text": [
      "error (w-wq)^2: 0.070\n",
      "model.layers.25.self_attn.k_proj\n"
     ]
    },
    {
     "name": "stderr",
     "output_type": "stream",
     "text": [
      "100%|██████████| 256/256 [00:18<00:00, 13.55it/s]\n",
      "100%|██████████| 256/256 [00:19<00:00, 12.92it/s]\n"
     ]
    },
    {
     "name": "stdout",
     "output_type": "stream",
     "text": [
      "error (w-wq)^2: 0.070\n",
      "model.layers.25.self_attn.v_proj\n"
     ]
    },
    {
     "name": "stderr",
     "output_type": "stream",
     "text": [
      "100%|██████████| 256/256 [00:18<00:00, 13.56it/s]\n",
      "100%|██████████| 256/256 [00:19<00:00, 12.93it/s]\n"
     ]
    },
    {
     "name": "stdout",
     "output_type": "stream",
     "text": [
      "error (w-wq)^2: 0.070\n",
      "model.layers.25.self_attn.o_proj\n"
     ]
    },
    {
     "name": "stderr",
     "output_type": "stream",
     "text": [
      "100%|██████████| 256/256 [00:18<00:00, 13.57it/s]\n",
      "100%|██████████| 256/256 [00:19<00:00, 12.93it/s]\n"
     ]
    },
    {
     "name": "stdout",
     "output_type": "stream",
     "text": [
      "error (w-wq)^2: 0.070\n",
      "model.layers.25.mlp.gate_proj\n"
     ]
    },
    {
     "name": "stderr",
     "output_type": "stream",
     "text": [
      "100%|██████████| 688/688 [00:50<00:00, 13.53it/s]\n",
      "100%|██████████| 688/688 [00:53<00:00, 12.95it/s]\n"
     ]
    },
    {
     "name": "stdout",
     "output_type": "stream",
     "text": [
      "error (w-wq)^2: 0.070\n",
      "model.layers.25.mlp.up_proj\n"
     ]
    },
    {
     "name": "stderr",
     "output_type": "stream",
     "text": [
      "100%|██████████| 688/688 [00:50<00:00, 13.52it/s]\n",
      "100%|██████████| 688/688 [00:53<00:00, 12.89it/s]\n"
     ]
    },
    {
     "name": "stdout",
     "output_type": "stream",
     "text": [
      "error (w-wq)^2: 0.070\n",
      "model.layers.25.mlp.down_proj\n"
     ]
    },
    {
     "name": "stderr",
     "output_type": "stream",
     "text": [
      "100%|██████████| 688/688 [00:51<00:00, 13.46it/s]\n",
      "100%|██████████| 688/688 [00:53<00:00, 12.93it/s]\n"
     ]
    },
    {
     "name": "stdout",
     "output_type": "stream",
     "text": [
      "error (w-wq)^2: 0.070\n",
      "model.layers.26.self_attn.q_proj\n"
     ]
    },
    {
     "name": "stderr",
     "output_type": "stream",
     "text": [
      "100%|██████████| 256/256 [00:18<00:00, 13.53it/s]\n",
      "100%|██████████| 256/256 [00:19<00:00, 12.92it/s]\n"
     ]
    },
    {
     "name": "stdout",
     "output_type": "stream",
     "text": [
      "error (w-wq)^2: 0.070\n",
      "model.layers.26.self_attn.k_proj\n"
     ]
    },
    {
     "name": "stderr",
     "output_type": "stream",
     "text": [
      "100%|██████████| 256/256 [00:18<00:00, 13.55it/s]\n",
      "100%|██████████| 256/256 [00:19<00:00, 12.93it/s]\n"
     ]
    },
    {
     "name": "stdout",
     "output_type": "stream",
     "text": [
      "error (w-wq)^2: 0.070\n",
      "model.layers.26.self_attn.v_proj\n"
     ]
    },
    {
     "name": "stderr",
     "output_type": "stream",
     "text": [
      "100%|██████████| 256/256 [00:18<00:00, 13.54it/s]\n",
      "100%|██████████| 256/256 [00:19<00:00, 12.91it/s]\n"
     ]
    },
    {
     "name": "stdout",
     "output_type": "stream",
     "text": [
      "error (w-wq)^2: 0.070\n",
      "model.layers.26.self_attn.o_proj\n"
     ]
    },
    {
     "name": "stderr",
     "output_type": "stream",
     "text": [
      "100%|██████████| 256/256 [00:18<00:00, 13.47it/s]\n",
      "100%|██████████| 256/256 [00:19<00:00, 12.92it/s]\n"
     ]
    },
    {
     "name": "stdout",
     "output_type": "stream",
     "text": [
      "error (w-wq)^2: 0.070\n",
      "model.layers.26.mlp.gate_proj\n"
     ]
    },
    {
     "name": "stderr",
     "output_type": "stream",
     "text": [
      "100%|██████████| 688/688 [00:50<00:00, 13.52it/s]\n",
      "100%|██████████| 688/688 [00:53<00:00, 12.94it/s]\n"
     ]
    },
    {
     "name": "stdout",
     "output_type": "stream",
     "text": [
      "error (w-wq)^2: 0.070\n",
      "model.layers.26.mlp.up_proj\n"
     ]
    },
    {
     "name": "stderr",
     "output_type": "stream",
     "text": [
      "100%|██████████| 688/688 [00:50<00:00, 13.51it/s]\n",
      "100%|██████████| 688/688 [00:53<00:00, 12.89it/s]\n"
     ]
    },
    {
     "name": "stdout",
     "output_type": "stream",
     "text": [
      "error (w-wq)^2: 0.070\n",
      "model.layers.26.mlp.down_proj\n"
     ]
    },
    {
     "name": "stderr",
     "output_type": "stream",
     "text": [
      "100%|██████████| 688/688 [00:50<00:00, 13.52it/s]\n",
      "100%|██████████| 688/688 [00:53<00:00, 12.92it/s]\n"
     ]
    },
    {
     "name": "stdout",
     "output_type": "stream",
     "text": [
      "error (w-wq)^2: 0.070\n",
      "model.layers.27.self_attn.q_proj\n"
     ]
    },
    {
     "name": "stderr",
     "output_type": "stream",
     "text": [
      "100%|██████████| 256/256 [00:18<00:00, 13.55it/s]\n",
      "100%|██████████| 256/256 [00:19<00:00, 12.93it/s]\n"
     ]
    },
    {
     "name": "stdout",
     "output_type": "stream",
     "text": [
      "error (w-wq)^2: 0.070\n",
      "model.layers.27.self_attn.k_proj\n"
     ]
    },
    {
     "name": "stderr",
     "output_type": "stream",
     "text": [
      "100%|██████████| 256/256 [00:18<00:00, 13.56it/s]\n",
      "100%|██████████| 256/256 [00:19<00:00, 12.92it/s]\n"
     ]
    },
    {
     "name": "stdout",
     "output_type": "stream",
     "text": [
      "error (w-wq)^2: 0.070\n",
      "model.layers.27.self_attn.v_proj\n"
     ]
    },
    {
     "name": "stderr",
     "output_type": "stream",
     "text": [
      "100%|██████████| 256/256 [00:18<00:00, 13.55it/s]\n",
      "100%|██████████| 256/256 [00:19<00:00, 12.93it/s]\n"
     ]
    },
    {
     "name": "stdout",
     "output_type": "stream",
     "text": [
      "error (w-wq)^2: 0.070\n",
      "model.layers.27.self_attn.o_proj\n"
     ]
    },
    {
     "name": "stderr",
     "output_type": "stream",
     "text": [
      "100%|██████████| 256/256 [00:18<00:00, 13.55it/s]\n",
      "100%|██████████| 256/256 [00:19<00:00, 12.92it/s]\n"
     ]
    },
    {
     "name": "stdout",
     "output_type": "stream",
     "text": [
      "error (w-wq)^2: 0.070\n",
      "model.layers.27.mlp.gate_proj\n"
     ]
    },
    {
     "name": "stderr",
     "output_type": "stream",
     "text": [
      "100%|██████████| 688/688 [00:50<00:00, 13.50it/s]\n",
      "100%|██████████| 688/688 [00:53<00:00, 12.89it/s]\n"
     ]
    },
    {
     "name": "stdout",
     "output_type": "stream",
     "text": [
      "error (w-wq)^2: 0.070\n",
      "model.layers.27.mlp.up_proj\n"
     ]
    },
    {
     "name": "stderr",
     "output_type": "stream",
     "text": [
      "100%|██████████| 688/688 [00:51<00:00, 13.47it/s]\n",
      "100%|██████████| 688/688 [00:53<00:00, 12.94it/s]\n"
     ]
    },
    {
     "name": "stdout",
     "output_type": "stream",
     "text": [
      "error (w-wq)^2: 0.070\n",
      "model.layers.27.mlp.down_proj\n"
     ]
    },
    {
     "name": "stderr",
     "output_type": "stream",
     "text": [
      "100%|██████████| 688/688 [00:50<00:00, 13.51it/s]\n",
      "100%|██████████| 688/688 [00:53<00:00, 12.93it/s]\n"
     ]
    },
    {
     "name": "stdout",
     "output_type": "stream",
     "text": [
      "error (w-wq)^2: 0.070\n",
      "model.layers.28.self_attn.q_proj\n"
     ]
    },
    {
     "name": "stderr",
     "output_type": "stream",
     "text": [
      "100%|██████████| 256/256 [00:18<00:00, 13.55it/s]\n",
      "100%|██████████| 256/256 [00:19<00:00, 12.94it/s]\n"
     ]
    },
    {
     "name": "stdout",
     "output_type": "stream",
     "text": [
      "error (w-wq)^2: 0.070\n",
      "model.layers.28.self_attn.k_proj\n"
     ]
    },
    {
     "name": "stderr",
     "output_type": "stream",
     "text": [
      "100%|██████████| 256/256 [00:18<00:00, 13.55it/s]\n",
      "100%|██████████| 256/256 [00:19<00:00, 12.93it/s]\n"
     ]
    },
    {
     "name": "stdout",
     "output_type": "stream",
     "text": [
      "error (w-wq)^2: 0.070\n",
      "model.layers.28.self_attn.v_proj\n"
     ]
    },
    {
     "name": "stderr",
     "output_type": "stream",
     "text": [
      "100%|██████████| 256/256 [00:18<00:00, 13.55it/s]\n",
      "100%|██████████| 256/256 [00:19<00:00, 12.91it/s]\n"
     ]
    },
    {
     "name": "stdout",
     "output_type": "stream",
     "text": [
      "error (w-wq)^2: 0.070\n",
      "model.layers.28.self_attn.o_proj\n"
     ]
    },
    {
     "name": "stderr",
     "output_type": "stream",
     "text": [
      "100%|██████████| 256/256 [00:18<00:00, 13.55it/s]\n",
      "100%|██████████| 256/256 [00:19<00:00, 12.92it/s]\n"
     ]
    },
    {
     "name": "stdout",
     "output_type": "stream",
     "text": [
      "error (w-wq)^2: 0.070\n",
      "model.layers.28.mlp.gate_proj\n"
     ]
    },
    {
     "name": "stderr",
     "output_type": "stream",
     "text": [
      "100%|██████████| 688/688 [00:50<00:00, 13.51it/s]\n",
      "100%|██████████| 688/688 [00:53<00:00, 12.89it/s]\n"
     ]
    },
    {
     "name": "stdout",
     "output_type": "stream",
     "text": [
      "error (w-wq)^2: 0.070\n",
      "model.layers.28.mlp.up_proj\n"
     ]
    },
    {
     "name": "stderr",
     "output_type": "stream",
     "text": [
      "100%|██████████| 688/688 [00:51<00:00, 13.47it/s]\n",
      "100%|██████████| 688/688 [00:53<00:00, 12.93it/s]\n"
     ]
    },
    {
     "name": "stdout",
     "output_type": "stream",
     "text": [
      "error (w-wq)^2: 0.070\n",
      "model.layers.28.mlp.down_proj\n"
     ]
    },
    {
     "name": "stderr",
     "output_type": "stream",
     "text": [
      "100%|██████████| 688/688 [00:51<00:00, 13.47it/s]\n",
      "100%|██████████| 688/688 [00:53<00:00, 12.93it/s]\n"
     ]
    },
    {
     "name": "stdout",
     "output_type": "stream",
     "text": [
      "error (w-wq)^2: 0.070\n",
      "model.layers.29.self_attn.q_proj\n"
     ]
    },
    {
     "name": "stderr",
     "output_type": "stream",
     "text": [
      "100%|██████████| 256/256 [00:18<00:00, 13.50it/s]\n",
      "100%|██████████| 256/256 [00:19<00:00, 12.93it/s]\n"
     ]
    },
    {
     "name": "stdout",
     "output_type": "stream",
     "text": [
      "error (w-wq)^2: 0.070\n",
      "model.layers.29.self_attn.k_proj\n"
     ]
    },
    {
     "name": "stderr",
     "output_type": "stream",
     "text": [
      "100%|██████████| 256/256 [00:18<00:00, 13.50it/s]\n",
      "100%|██████████| 256/256 [00:19<00:00, 12.94it/s]\n"
     ]
    },
    {
     "name": "stdout",
     "output_type": "stream",
     "text": [
      "error (w-wq)^2: 0.070\n",
      "model.layers.29.self_attn.v_proj\n"
     ]
    },
    {
     "name": "stderr",
     "output_type": "stream",
     "text": [
      "100%|██████████| 256/256 [00:18<00:00, 13.52it/s]\n",
      "100%|██████████| 256/256 [00:19<00:00, 12.93it/s]\n"
     ]
    },
    {
     "name": "stdout",
     "output_type": "stream",
     "text": [
      "error (w-wq)^2: 0.070\n",
      "model.layers.29.self_attn.o_proj\n"
     ]
    },
    {
     "name": "stderr",
     "output_type": "stream",
     "text": [
      "100%|██████████| 256/256 [00:19<00:00, 13.43it/s]\n",
      "100%|██████████| 256/256 [00:19<00:00, 12.93it/s]\n"
     ]
    },
    {
     "name": "stdout",
     "output_type": "stream",
     "text": [
      "error (w-wq)^2: 0.070\n",
      "model.layers.29.mlp.gate_proj\n"
     ]
    },
    {
     "name": "stderr",
     "output_type": "stream",
     "text": [
      "100%|██████████| 688/688 [00:50<00:00, 13.51it/s]\n",
      "100%|██████████| 688/688 [00:53<00:00, 12.89it/s]\n"
     ]
    },
    {
     "name": "stdout",
     "output_type": "stream",
     "text": [
      "error (w-wq)^2: 0.070\n",
      "model.layers.29.mlp.up_proj\n"
     ]
    },
    {
     "name": "stderr",
     "output_type": "stream",
     "text": [
      "100%|██████████| 688/688 [00:51<00:00, 13.49it/s]\n",
      "100%|██████████| 688/688 [00:53<00:00, 12.92it/s]\n"
     ]
    },
    {
     "name": "stdout",
     "output_type": "stream",
     "text": [
      "error (w-wq)^2: 0.070\n",
      "model.layers.29.mlp.down_proj\n"
     ]
    },
    {
     "name": "stderr",
     "output_type": "stream",
     "text": [
      "100%|██████████| 688/688 [00:50<00:00, 13.56it/s]\n",
      "100%|██████████| 688/688 [00:53<00:00, 12.93it/s]\n"
     ]
    },
    {
     "name": "stdout",
     "output_type": "stream",
     "text": [
      "error (w-wq)^2: 0.070\n",
      "model.layers.30.self_attn.q_proj\n"
     ]
    },
    {
     "name": "stderr",
     "output_type": "stream",
     "text": [
      "100%|██████████| 256/256 [00:18<00:00, 13.60it/s]\n",
      "100%|██████████| 256/256 [00:19<00:00, 12.95it/s]\n"
     ]
    },
    {
     "name": "stdout",
     "output_type": "stream",
     "text": [
      "error (w-wq)^2: 0.070\n",
      "model.layers.30.self_attn.k_proj\n"
     ]
    },
    {
     "name": "stderr",
     "output_type": "stream",
     "text": [
      "100%|██████████| 256/256 [00:18<00:00, 13.58it/s]\n",
      "100%|██████████| 256/256 [00:19<00:00, 12.99it/s]\n"
     ]
    },
    {
     "name": "stdout",
     "output_type": "stream",
     "text": [
      "error (w-wq)^2: 0.070\n",
      "model.layers.30.self_attn.v_proj\n"
     ]
    },
    {
     "name": "stderr",
     "output_type": "stream",
     "text": [
      "100%|██████████| 256/256 [00:18<00:00, 13.56it/s]\n",
      "100%|██████████| 256/256 [00:19<00:00, 12.93it/s]\n"
     ]
    },
    {
     "name": "stdout",
     "output_type": "stream",
     "text": [
      "error (w-wq)^2: 0.070\n",
      "model.layers.30.self_attn.o_proj\n"
     ]
    },
    {
     "name": "stderr",
     "output_type": "stream",
     "text": [
      "100%|██████████| 256/256 [00:18<00:00, 13.56it/s]\n",
      "100%|██████████| 256/256 [00:19<00:00, 12.93it/s]\n"
     ]
    },
    {
     "name": "stdout",
     "output_type": "stream",
     "text": [
      "error (w-wq)^2: 0.070\n",
      "model.layers.30.mlp.gate_proj\n"
     ]
    },
    {
     "name": "stderr",
     "output_type": "stream",
     "text": [
      "100%|██████████| 688/688 [00:50<00:00, 13.51it/s]\n",
      "100%|██████████| 688/688 [00:53<00:00, 12.89it/s]\n"
     ]
    },
    {
     "name": "stdout",
     "output_type": "stream",
     "text": [
      "error (w-wq)^2: 0.070\n",
      "model.layers.30.mlp.up_proj\n"
     ]
    },
    {
     "name": "stderr",
     "output_type": "stream",
     "text": [
      "100%|██████████| 688/688 [00:50<00:00, 13.51it/s]\n",
      "100%|██████████| 688/688 [00:53<00:00, 12.93it/s]\n"
     ]
    },
    {
     "name": "stdout",
     "output_type": "stream",
     "text": [
      "error (w-wq)^2: 0.070\n",
      "model.layers.30.mlp.down_proj\n"
     ]
    },
    {
     "name": "stderr",
     "output_type": "stream",
     "text": [
      "100%|██████████| 688/688 [00:51<00:00, 13.48it/s]\n",
      "100%|██████████| 688/688 [00:53<00:00, 12.93it/s]\n"
     ]
    },
    {
     "name": "stdout",
     "output_type": "stream",
     "text": [
      "error (w-wq)^2: 0.070\n",
      "model.layers.31.self_attn.q_proj\n"
     ]
    },
    {
     "name": "stderr",
     "output_type": "stream",
     "text": [
      "100%|██████████| 256/256 [00:18<00:00, 13.50it/s]\n",
      "100%|██████████| 256/256 [00:19<00:00, 12.94it/s]\n"
     ]
    },
    {
     "name": "stdout",
     "output_type": "stream",
     "text": [
      "error (w-wq)^2: 0.070\n",
      "model.layers.31.self_attn.k_proj\n"
     ]
    },
    {
     "name": "stderr",
     "output_type": "stream",
     "text": [
      "100%|██████████| 256/256 [00:18<00:00, 13.55it/s]\n",
      "100%|██████████| 256/256 [00:19<00:00, 12.94it/s]\n"
     ]
    },
    {
     "name": "stdout",
     "output_type": "stream",
     "text": [
      "error (w-wq)^2: 0.070\n",
      "model.layers.31.self_attn.v_proj\n"
     ]
    },
    {
     "name": "stderr",
     "output_type": "stream",
     "text": [
      "100%|██████████| 256/256 [00:18<00:00, 13.56it/s]\n",
      "100%|██████████| 256/256 [00:19<00:00, 12.93it/s]\n"
     ]
    },
    {
     "name": "stdout",
     "output_type": "stream",
     "text": [
      "error (w-wq)^2: 0.070\n",
      "model.layers.31.self_attn.o_proj\n"
     ]
    },
    {
     "name": "stderr",
     "output_type": "stream",
     "text": [
      "100%|██████████| 256/256 [00:18<00:00, 13.55it/s]\n",
      "100%|██████████| 256/256 [00:19<00:00, 12.93it/s]\n"
     ]
    },
    {
     "name": "stdout",
     "output_type": "stream",
     "text": [
      "error (w-wq)^2: 0.070\n",
      "model.layers.31.mlp.gate_proj\n"
     ]
    },
    {
     "name": "stderr",
     "output_type": "stream",
     "text": [
      "100%|██████████| 688/688 [00:50<00:00, 13.51it/s]\n",
      "100%|██████████| 688/688 [00:53<00:00, 12.89it/s]\n"
     ]
    },
    {
     "name": "stdout",
     "output_type": "stream",
     "text": [
      "error (w-wq)^2: 0.070\n",
      "model.layers.31.mlp.up_proj\n"
     ]
    },
    {
     "name": "stderr",
     "output_type": "stream",
     "text": [
      "100%|██████████| 688/688 [00:50<00:00, 13.52it/s]\n",
      "100%|██████████| 688/688 [00:53<00:00, 12.93it/s]\n"
     ]
    },
    {
     "name": "stdout",
     "output_type": "stream",
     "text": [
      "error (w-wq)^2: 0.070\n",
      "model.layers.31.mlp.down_proj\n"
     ]
    },
    {
     "name": "stderr",
     "output_type": "stream",
     "text": [
      "100%|██████████| 688/688 [00:50<00:00, 13.51it/s]\n",
      "100%|██████████| 688/688 [00:53<00:00, 12.93it/s]\n"
     ]
    },
    {
     "name": "stdout",
     "output_type": "stream",
     "text": [
      "error (w-wq)^2: 0.070\n"
     ]
    }
   ],
   "source": [
    "for module_name, qmodule in qmodel.named_modules():\n",
    "    if isinstance(qmodule, qlib.TrellisLinear):\n",
    "        qmodule.wrap_module(\n",
    "            fp_model.get_submodule(module_name), \n",
    "            verbose=True,\n",
    "            module_name=module_name)\n",
    "\n",
    "# quantlut_sym  \n",
    "# self_attn.q_proj: 0.074\n",
    "# self_attn.k_proj: 0.073\n",
    "# self_attn.v_proj: 0.071\n",
    "# self_attn.o_proj: 0.071\n",
    "# mlp.gate_proj:    0.071\n",
    "\n",
    "# Rand2d  \n",
    "# self_attn.q_proj: 0.072\n",
    "# self_attn.k_proj: 0.071\n",
    "# self_attn.v_proj: 0.069\n",
    "# self_attn.o_proj: 0.069\n",
    "# mlp.gate_proj:    0.069\n",
    "\n",
    "# LowBitSym 4bit = 5bit\n",
    "# self_attn.q_proj: 0.073\n",
    "# self_attn.k_proj: 0.072\n",
    "# self_attn.v_proj: 0.070\n",
    "# self_attn.o_proj: 0.070\n",
    "# mlp.gate_proj:    0.070\n"
   ]
  },
  {
   "cell_type": "code",
   "execution_count": 3,
   "metadata": {},
   "outputs": [],
   "source": [
    "tlp = qmodel.config.trellis_linear_params\n",
    "checkpoints_path = '/home/msst/repo/Quantization/logs/checkpoints_Llama2-7b-hf/trellis/'\n",
    "\n",
    "qmodel.save_pretrained(\n",
    "\tos.path.join(\n",
    "\t\tcheckpoints_path, \n",
    "\t    'T{T}_L{L}_V{V}_K{K}_cbs{tlut_bits}_{decode_mode}_{incoh_proc_mode}'.format(\n",
    "\t\t\tT=tlp['T'],\n",
    "\t\t\tL=tlp['L'],\n",
    "\t\t\tV=tlp['V'],\n",
    "\t\t\tK=tlp['K'],\n",
    "\t\t\ttlut_bits=tlp['tlut_bits'],\n",
    "\t\t\tdecode_mode=tlp['decode_mode'],\n",
    "\t\t\tincoh_proc_mode=tlp['incoh_proc_mode'])\n",
    "\t)\n",
    ")"
   ]
  },
  {
   "cell_type": "code",
   "execution_count": null,
   "metadata": {},
   "outputs": [],
   "source": []
  }
 ],
 "metadata": {
  "kernelspec": {
   "display_name": "qenv",
   "language": "python",
   "name": "python3"
  },
  "language_info": {
   "codemirror_mode": {
    "name": "ipython",
    "version": 3
   },
   "file_extension": ".py",
   "mimetype": "text/x-python",
   "name": "python",
   "nbconvert_exporter": "python",
   "pygments_lexer": "ipython3",
   "version": "3.10.16"
  }
 },
 "nbformat": 4,
 "nbformat_minor": 2
}
