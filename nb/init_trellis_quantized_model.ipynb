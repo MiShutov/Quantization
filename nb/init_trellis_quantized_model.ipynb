{
 "cells": [
  {
   "cell_type": "code",
   "execution_count": 1,
   "metadata": {},
   "outputs": [
    {
     "data": {
      "application/vnd.jupyter.widget-view+json": {
       "model_id": "850e2c5381b046d79d52b743aaf44a30",
       "version_major": 2,
       "version_minor": 0
      },
      "text/plain": [
       "Loading checkpoint shards:   0%|          | 0/2 [00:00<?, ?it/s]"
      ]
     },
     "metadata": {},
     "output_type": "display_data"
    },
    {
     "name": "stdout",
     "output_type": "stream",
     "text": [
      "LOL, Im custom!\n"
     ]
    }
   ],
   "source": [
    "%load_ext autoreload\n",
    "%autoreload 2\n",
    "\n",
    "import os\n",
    "import torch\n",
    "\n",
    "import sys\n",
    "sys.path.append(\"/home/msst/repo/Quantization\")\n",
    "import qlib\n",
    "\n",
    "model_name='Llama2-7b-hf'\n",
    "#model_name='Llama-3.2-1B'\n",
    "\n",
    "DTYPE = torch.float16\n",
    "fp_model, _ = qlib.load_llama(\n",
    "\tmodel_name=model_name, \n",
    "\tdevice_map='cpu', \n",
    "\ttorch_dtype=DTYPE\n",
    ")\n",
    "\n",
    "qmodel = qlib.QuantizedLlamaForCausalLM.from_pretrained(\n",
    "\tf'/home/msst/repo/Quantization/logs/checkpoints_Llama2-7b-hf/trellis/T256_L16_V2_K2_cbs10_LowBitSym_qtip_init',\n",
    "\ttorch_dtype=torch.float16,\n",
    ")"
   ]
  },
  {
   "cell_type": "code",
   "execution_count": null,
   "metadata": {},
   "outputs": [
    {
     "name": "stdout",
     "output_type": "stream",
     "text": [
      "model.layers.0.self_attn.q_proj\n"
     ]
    },
    {
     "name": "stderr",
     "output_type": "stream",
     "text": [
      "100%|██████████| 256/256 [00:19<00:00, 13.15it/s]\n",
      "100%|██████████| 256/256 [00:19<00:00, 12.98it/s]\n"
     ]
    },
    {
     "name": "stdout",
     "output_type": "stream",
     "text": [
      "error (w-wq)^2: 0.074\n",
      "model.layers.0.self_attn.k_proj\n"
     ]
    },
    {
     "name": "stderr",
     "output_type": "stream",
     "text": [
      "100%|██████████| 256/256 [00:18<00:00, 13.59it/s]\n",
      "100%|██████████| 256/256 [00:19<00:00, 12.93it/s]\n"
     ]
    },
    {
     "name": "stdout",
     "output_type": "stream",
     "text": [
      "error (w-wq)^2: 0.072\n",
      "model.layers.0.self_attn.v_proj\n"
     ]
    },
    {
     "name": "stderr",
     "output_type": "stream",
     "text": [
      "100%|██████████| 256/256 [00:18<00:00, 13.60it/s]\n",
      "100%|██████████| 256/256 [00:19<00:00, 12.92it/s]\n"
     ]
    },
    {
     "name": "stdout",
     "output_type": "stream",
     "text": [
      "error (w-wq)^2: 0.070\n",
      "model.layers.0.self_attn.o_proj\n"
     ]
    },
    {
     "name": "stderr",
     "output_type": "stream",
     "text": [
      " 27%|██▋       | 70/256 [00:05<00:13, 13.55it/s]"
     ]
    }
   ],
   "source": [
    "for module_name, qmodule in qmodel.named_modules():\n",
    "    if isinstance(qmodule, qlib.TrellisLinear):\n",
    "        qmodule.wrap_module(\n",
    "            fp_model.get_submodule(module_name), \n",
    "            verbose=True,\n",
    "            module_name=module_name)\n",
    "\n",
    "# quantlut_sym  \n",
    "# self_attn.q_proj: 0.074\n",
    "# self_attn.k_proj: 0.073\n",
    "# self_attn.v_proj: 0.071\n",
    "# self_attn.o_proj: 0.071\n",
    "# mlp.gate_proj:    0.071\n",
    "\n",
    "# Rand2d  \n",
    "# self_attn.q_proj: 0.072\n",
    "# self_attn.k_proj: 0.071\n",
    "# self_attn.v_proj: 0.069\n",
    "# self_attn.o_proj: 0.069\n",
    "# mlp.gate_proj:    0.069\n",
    "\n",
    "# LowBitSym 4bit = 5bit\n",
    "# self_attn.q_proj: 0.073\n",
    "# self_attn.k_proj: 0.072\n",
    "# self_attn.v_proj: 0.070\n",
    "# self_attn.o_proj: 0.070\n",
    "# mlp.gate_proj:    0.070\n"
   ]
  },
  {
   "cell_type": "code",
   "execution_count": 3,
   "metadata": {},
   "outputs": [],
   "source": [
    "tlp = qmodel.config.trellis_linear_params\n",
    "checkpoints_path = '/home/msst/repo/Quantization/logs/checkpoints_Llama2-7b-hf/trellis/'\n",
    "\n",
    "qmodel.save_pretrained(\n",
    "\tos.path.join(\n",
    "\t\tcheckpoints_path, \n",
    "\t    'T{T}_L{L}_V{V}_K{K}_cbs{tlut_bits}_{decode_mode}_{incoh_proc_mode}'.format(\n",
    "\t\t\tT=tlp['T'],\n",
    "\t\t\tL=tlp['L'],\n",
    "\t\t\tV=tlp['V'],\n",
    "\t\t\tK=tlp['K'],\n",
    "\t\t\ttlut_bits=tlp['tlut_bits'],\n",
    "\t\t\tdecode_mode=tlp['decode_mode'],\n",
    "\t\t\tincoh_proc_mode=tlp['incoh_proc_mode'])\n",
    "\t)\n",
    ")"
   ]
  },
  {
   "cell_type": "code",
   "execution_count": null,
   "metadata": {},
   "outputs": [],
   "source": []
  }
 ],
 "metadata": {
  "kernelspec": {
   "display_name": "qenv",
   "language": "python",
   "name": "python3"
  },
  "language_info": {
   "codemirror_mode": {
    "name": "ipython",
    "version": 3
   },
   "file_extension": ".py",
   "mimetype": "text/x-python",
   "name": "python",
   "nbconvert_exporter": "python",
   "pygments_lexer": "ipython3",
   "version": "3.10.16"
  }
 },
 "nbformat": 4,
 "nbformat_minor": 2
}
