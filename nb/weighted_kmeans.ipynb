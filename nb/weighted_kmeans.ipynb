{
 "cells": [
  {
   "cell_type": "code",
   "execution_count": 1,
   "metadata": {},
   "outputs": [],
   "source": [
    "%load_ext autoreload\n",
    "%autoreload 2\n",
    "\n",
    "from copy import deepcopy\n",
    "import torch\n",
    "import os\n",
    "import sys\n",
    "sys.path.append(\"/home/msst/repo/Quantization\")\n",
    "from qlib.vector_quantization.kmeans.kmeans_job import kmeas_job, KmeasJobParams\n",
    "\n",
    "\n",
    "torch.backends.cuda.matmul.allow_tf32 = True\n",
    "DEVICE = 'cuda'\n",
    "DTYPE = torch.float32\n",
    "\n",
    "model_name='Llama2-7b-hf'\n",
    "# model_name='Llama-3.2-1B'"
   ]
  },
  {
   "cell_type": "code",
   "execution_count": 2,
   "metadata": {},
   "outputs": [],
   "source": [
    "path_to_per_block_fp = f'/mnt/ssd_storage/ml/weights/vc_data/{model_name}/per_block_fp'\n",
    "\n",
    "path_to_hess = f'/mnt/ssd_storage/ml/weights/vc_data/{model_name}/xtx/{model_name}_xtx.pth'\n",
    "xtx = torch.load(path_to_hess, weights_only=True)\n",
    "\n",
    "#path_to_model_grads = '/home/msst/repo/Quantization/weights/Llama-3.2-1B-grads-slimpajama-hf'\n",
    "#grads_model = AutoModelForCausalLM.from_pretrained(path_to_model_grads)\n",
    "\n",
    "path_to_save = f'/mnt/ssd_storage/ml/weights/vc_data/{model_name}/kmeans/'"
   ]
  },
  {
   "cell_type": "code",
   "execution_count": 3,
   "metadata": {},
   "outputs": [],
   "source": [
    "args = KmeasJobParams(\n",
    "    layer_name = None,\n",
    "    matrix = None,\n",
    "    path_to_save=path_to_save,\n",
    "    vector_dim=8,\n",
    "    codebook_size=2**15, #256,\n",
    "    num_iters=10, #10,\n",
    "    scale_type='OUTL2', #' #None,#'OUTSTD',#'OUTL2',\n",
    "    weighting_type=\"PERCOORD\",\n",
    "    distance_type='MSE',\n",
    "    init_type='RANDOM',\n",
    "    batch_size=2**14,\n",
    "    matrix_block_size=None,\n",
    "\tuse_absolute_coordinates=True,\n",
    "\thaar_decomposition_level=None,\n",
    "\tuse_incoherence_processing=False,\n",
    "    eps=1e-8,\n",
    ")"
   ]
  },
  {
   "cell_type": "code",
   "execution_count": 4,
   "metadata": {},
   "outputs": [
    {
     "name": "stderr",
     "output_type": "stream",
     "text": [
      "/tmp/ipykernel_32570/97967701.py:8: FutureWarning: You are using `torch.load` with `weights_only=False` (the current default value), which uses the default pickle module implicitly. It is possible to construct malicious pickle data which will execute arbitrary code during unpickling (See https://github.com/pytorch/pytorch/blob/main/SECURITY.md#untrusted-models for more details). In a future release, the default value for `weights_only` will be flipped to `True`. This limits the functions that could be executed during unpickling. Arbitrary objects will no longer be allowed to be loaded via this mode unless they are explicitly allowlisted by the user via `torch.serialization.add_safe_globals`. We recommend you start setting `weights_only=True` for any use case where you don't have full control of the loaded file. Please open an issue on GitHub for any issues related to this experimental feature.\n",
      "  block = torch.load(\n",
      "100%|██████████| 10/10 [01:49<00:00, 10.93s/iter]\n"
     ]
    },
    {
     "name": "stdout",
     "output_type": "stream",
     "text": [
      "{'layer_name': 'model.layers.0.self_attn.q_proj', 'mse': 0.0003602021897677332}\n"
     ]
    },
    {
     "name": "stderr",
     "output_type": "stream",
     "text": [
      "100%|██████████| 10/10 [01:37<00:00,  9.71s/iter]\n"
     ]
    },
    {
     "name": "stdout",
     "output_type": "stream",
     "text": [
      "{'layer_name': 'model.layers.0.self_attn.k_proj', 'mse': 0.0004511828301474452}\n"
     ]
    },
    {
     "name": "stderr",
     "output_type": "stream",
     "text": [
      "100%|██████████| 10/10 [01:36<00:00,  9.67s/iter]\n"
     ]
    },
    {
     "name": "stdout",
     "output_type": "stream",
     "text": [
      "{'layer_name': 'model.layers.0.self_attn.v_proj', 'mse': 0.0002387574058957398}\n"
     ]
    },
    {
     "name": "stderr",
     "output_type": "stream",
     "text": [
      "100%|██████████| 10/10 [01:36<00:00,  9.70s/iter]\n"
     ]
    },
    {
     "name": "stdout",
     "output_type": "stream",
     "text": [
      "{'layer_name': 'model.layers.0.self_attn.o_proj', 'mse': 0.00010120678052771837}\n"
     ]
    },
    {
     "name": "stderr",
     "output_type": "stream",
     "text": [
      "100%|██████████| 10/10 [04:53<00:00, 29.38s/iter]\n"
     ]
    },
    {
     "name": "stdout",
     "output_type": "stream",
     "text": [
      "{'layer_name': 'model.layers.0.mlp.gate_proj', 'mse': 0.0005300829652696848}\n"
     ]
    },
    {
     "name": "stderr",
     "output_type": "stream",
     "text": [
      "100%|██████████| 10/10 [03:43<00:00, 22.33s/iter]\n"
     ]
    },
    {
     "name": "stdout",
     "output_type": "stream",
     "text": [
      "{'layer_name': 'model.layers.0.mlp.up_proj', 'mse': 0.00051154475659132}\n"
     ]
    },
    {
     "name": "stderr",
     "output_type": "stream",
     "text": [
      "100%|██████████| 10/10 [03:43<00:00, 22.33s/iter]\n",
      "/tmp/ipykernel_32570/97967701.py:8: FutureWarning: You are using `torch.load` with `weights_only=False` (the current default value), which uses the default pickle module implicitly. It is possible to construct malicious pickle data which will execute arbitrary code during unpickling (See https://github.com/pytorch/pytorch/blob/main/SECURITY.md#untrusted-models for more details). In a future release, the default value for `weights_only` will be flipped to `True`. This limits the functions that could be executed during unpickling. Arbitrary objects will no longer be allowed to be loaded via this mode unless they are explicitly allowlisted by the user via `torch.serialization.add_safe_globals`. We recommend you start setting `weights_only=True` for any use case where you don't have full control of the loaded file. Please open an issue on GitHub for any issues related to this experimental feature.\n",
      "  block = torch.load(\n"
     ]
    },
    {
     "name": "stdout",
     "output_type": "stream",
     "text": [
      "{'layer_name': 'model.layers.0.mlp.down_proj', 'mse': 0.0005555751267820597}\n"
     ]
    },
    {
     "name": "stderr",
     "output_type": "stream",
     "text": [
      "100%|██████████| 10/10 [01:36<00:00,  9.69s/iter]\n"
     ]
    },
    {
     "name": "stdout",
     "output_type": "stream",
     "text": [
      "{'layer_name': 'model.layers.1.self_attn.q_proj', 'mse': 0.001382139977067709}\n"
     ]
    },
    {
     "name": "stderr",
     "output_type": "stream",
     "text": [
      "100%|██████████| 10/10 [01:37<00:00,  9.71s/iter]\n"
     ]
    },
    {
     "name": "stdout",
     "output_type": "stream",
     "text": [
      "{'layer_name': 'model.layers.1.self_attn.k_proj', 'mse': 0.0013789979275316}\n"
     ]
    },
    {
     "name": "stderr",
     "output_type": "stream",
     "text": [
      "100%|██████████| 10/10 [01:36<00:00,  9.67s/iter]\n"
     ]
    },
    {
     "name": "stdout",
     "output_type": "stream",
     "text": [
      "{'layer_name': 'model.layers.1.self_attn.v_proj', 'mse': 0.00019578041974455118}\n"
     ]
    },
    {
     "name": "stderr",
     "output_type": "stream",
     "text": [
      "100%|██████████| 10/10 [01:36<00:00,  9.67s/iter]\n"
     ]
    },
    {
     "name": "stdout",
     "output_type": "stream",
     "text": [
      "{'layer_name': 'model.layers.1.self_attn.o_proj', 'mse': 0.0001335104607278481}\n"
     ]
    },
    {
     "name": "stderr",
     "output_type": "stream",
     "text": [
      "100%|██████████| 10/10 [03:43<00:00, 22.32s/iter]\n"
     ]
    },
    {
     "name": "stdout",
     "output_type": "stream",
     "text": [
      "{'layer_name': 'model.layers.1.mlp.gate_proj', 'mse': 0.0006548755336552858}\n"
     ]
    },
    {
     "name": "stderr",
     "output_type": "stream",
     "text": [
      "100%|██████████| 10/10 [03:43<00:00, 22.32s/iter]\n"
     ]
    },
    {
     "name": "stdout",
     "output_type": "stream",
     "text": [
      "{'layer_name': 'model.layers.1.mlp.up_proj', 'mse': 0.0005789246060885489}\n"
     ]
    },
    {
     "name": "stderr",
     "output_type": "stream",
     "text": [
      "100%|██████████| 10/10 [03:43<00:00, 22.31s/iter]\n"
     ]
    },
    {
     "name": "stdout",
     "output_type": "stream",
     "text": [
      "{'layer_name': 'model.layers.1.mlp.down_proj', 'mse': 0.0005954488879069686}\n"
     ]
    },
    {
     "name": "stderr",
     "output_type": "stream",
     "text": [
      "100%|██████████| 10/10 [01:37<00:00,  9.74s/iter]\n"
     ]
    },
    {
     "name": "stdout",
     "output_type": "stream",
     "text": [
      "{'layer_name': 'model.layers.2.self_attn.q_proj', 'mse': 0.001396175124682486}\n"
     ]
    },
    {
     "name": "stderr",
     "output_type": "stream",
     "text": [
      "100%|██████████| 10/10 [01:37<00:00,  9.76s/iter]\n"
     ]
    },
    {
     "name": "stdout",
     "output_type": "stream",
     "text": [
      "{'layer_name': 'model.layers.2.self_attn.k_proj', 'mse': 0.0015460662543773651}\n"
     ]
    },
    {
     "name": "stderr",
     "output_type": "stream",
     "text": [
      "100%|██████████| 10/10 [01:36<00:00,  9.69s/iter]\n"
     ]
    },
    {
     "name": "stdout",
     "output_type": "stream",
     "text": [
      "{'layer_name': 'model.layers.2.self_attn.v_proj', 'mse': 0.00040424117469228804}\n"
     ]
    },
    {
     "name": "stderr",
     "output_type": "stream",
     "text": [
      "100%|██████████| 10/10 [01:36<00:00,  9.69s/iter]\n"
     ]
    },
    {
     "name": "stdout",
     "output_type": "stream",
     "text": [
      "{'layer_name': 'model.layers.2.self_attn.o_proj', 'mse': 0.00038082312676124275}\n"
     ]
    },
    {
     "name": "stderr",
     "output_type": "stream",
     "text": [
      "100%|██████████| 10/10 [03:43<00:00, 22.32s/iter]\n"
     ]
    },
    {
     "name": "stdout",
     "output_type": "stream",
     "text": [
      "{'layer_name': 'model.layers.2.mlp.gate_proj', 'mse': 0.0006900613661855459}\n"
     ]
    },
    {
     "name": "stderr",
     "output_type": "stream",
     "text": [
      "100%|██████████| 10/10 [03:43<00:00, 22.33s/iter]\n"
     ]
    },
    {
     "name": "stdout",
     "output_type": "stream",
     "text": [
      "{'layer_name': 'model.layers.2.mlp.up_proj', 'mse': 0.0006002670852467418}\n"
     ]
    },
    {
     "name": "stderr",
     "output_type": "stream",
     "text": [
      "100%|██████████| 10/10 [03:43<00:00, 22.33s/iter]\n"
     ]
    },
    {
     "name": "stdout",
     "output_type": "stream",
     "text": [
      "{'layer_name': 'model.layers.2.mlp.down_proj', 'mse': 0.0006076947320252657}\n"
     ]
    }
   ],
   "source": [
    "block_names = sorted(\n",
    "    [name for name in os.listdir(path_to_per_block_fp) if name.startswith('model.layers')],\n",
    "    key=lambda name: int(name.split('.')[-1])\n",
    ")\n",
    "\n",
    "\n",
    "for block_name in block_names[:3]:\n",
    "    block = torch.load(\n",
    "        os.path.join(path_to_per_block_fp, block_name)\n",
    "    )\n",
    "    matrices_and_names = []\n",
    "    for module_name, module in block.named_modules():\n",
    "        if module.__class__ == torch.nn.Linear:\n",
    "            full_module_name = '.'.join([block_name, module_name])\n",
    "            matrices_and_names.append([module.weight.data, full_module_name])\n",
    "\n",
    "    for matrix, name in matrices_and_names:\n",
    "        hess = xtx[name].expand(matrix.shape).clone()\n",
    "        #hess = torch.ones_like(matrix)\n",
    "        \n",
    "        params = deepcopy(args)\n",
    "        params.layer_name = name\n",
    "        params.matrix = matrix.to(DTYPE)\n",
    "        params.hess = hess.to(DTYPE)\n",
    "\n",
    "        res = kmeas_job(params, device=DEVICE)\n",
    "        print(res)"
   ]
  },
  {
   "cell_type": "code",
   "execution_count": null,
   "metadata": {},
   "outputs": [],
   "source": []
  }
 ],
 "metadata": {
  "kernelspec": {
   "display_name": "qenv",
   "language": "python",
   "name": "python3"
  },
  "language_info": {
   "codemirror_mode": {
    "name": "ipython",
    "version": 3
   },
   "file_extension": ".py",
   "mimetype": "text/x-python",
   "name": "python",
   "nbconvert_exporter": "python",
   "pygments_lexer": "ipython3",
   "version": "3.10.16"
  }
 },
 "nbformat": 4,
 "nbformat_minor": 2
}
