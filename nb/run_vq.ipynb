{
 "cells": [
  {
   "cell_type": "code",
   "execution_count": 1,
   "metadata": {},
   "outputs": [],
   "source": [
    "import torch\n",
    "from transformers import AutoModelForCausalLM, AutoTokenizer\n",
    "import nip\n",
    "\n",
    "import os\n",
    "import sys\n",
    "sys.path.append(\"/home/msst/repo/Quantization\")\n",
    "import qlib\n",
    "\n",
    "DEVICE = 'cuda:0'"
   ]
  },
  {
   "cell_type": "code",
   "execution_count": 2,
   "metadata": {},
   "outputs": [],
   "source": [
    "# path_to_model = '/home/msst/repo/Quantization/ml/llm/pretrained_models/Llama2-7b-trellis'\n",
    "# qmodel = AutoModelForCausalLM.from_pretrained(\n",
    "# \tpath_to_model, \n",
    "# \ttrust_remote_code=True,\n",
    "#     torch_dtype=torch.float16,\n",
    "# ).to(DEVICE)\n",
    "\n",
    "# tokenizer = AutoTokenizer.from_pretrained(path_to_model)"
   ]
  },
  {
   "cell_type": "code",
   "execution_count": 3,
   "metadata": {},
   "outputs": [
    {
     "name": "stdout",
     "output_type": "stream",
     "text": [
      "LOL, Im custom!\n"
     ]
    }
   ],
   "source": [
    "path_to_checkpoints = \"/home/msst/repo/Quantization/logs/checkpoints_Llama2-7b-hf/trellis/\"\n",
    "chpnt_name = 'gs128_lukashevich_ptq_ga2'\n",
    "\n",
    "qmodel = qlib.QuantizedLlamaForCausalLM.from_pretrained(\n",
    "    os.path.join(path_to_checkpoints, chpnt_name),\n",
    "    torch_dtype=torch.float16,\n",
    ").to(DEVICE)\n",
    "\n",
    "model_name = 'Llama2-7b-hf'\n",
    "tokenizer = qlib.load_tokenizer(model_name)"
   ]
  },
  {
   "cell_type": "code",
   "execution_count": 4,
   "metadata": {},
   "outputs": [
    {
     "name": "stderr",
     "output_type": "stream",
     "text": [
      " 10%|▉         | 2/21 [00:27<04:13, 13.36s/it]"
     ]
    },
    {
     "name": "stdout",
     "output_type": "stream",
     "text": [
      "6.311033566800311\n"
     ]
    },
    {
     "name": "stderr",
     "output_type": "stream",
     "text": [
      " 14%|█▍        | 3/21 [00:38<03:43, 12.42s/it]"
     ]
    },
    {
     "name": "stdout",
     "output_type": "stream",
     "text": [
      "6.587504731176926\n"
     ]
    },
    {
     "name": "stderr",
     "output_type": "stream",
     "text": [
      " 19%|█▉        | 4/21 [00:50<03:23, 11.98s/it]"
     ]
    },
    {
     "name": "stdout",
     "output_type": "stream",
     "text": [
      "6.9051807099171265\n"
     ]
    },
    {
     "name": "stderr",
     "output_type": "stream",
     "text": [
      " 24%|██▍       | 5/21 [01:01<03:07, 11.73s/it]"
     ]
    },
    {
     "name": "stdout",
     "output_type": "stream",
     "text": [
      "6.808957314230785\n"
     ]
    },
    {
     "name": "stderr",
     "output_type": "stream",
     "text": [
      " 29%|██▊       | 6/21 [01:12<02:53, 11.58s/it]"
     ]
    },
    {
     "name": "stdout",
     "output_type": "stream",
     "text": [
      "6.3491750742906214\n"
     ]
    },
    {
     "name": "stderr",
     "output_type": "stream",
     "text": [
      " 33%|███▎      | 7/21 [01:24<02:40, 11.49s/it]"
     ]
    },
    {
     "name": "stdout",
     "output_type": "stream",
     "text": [
      "6.640755053239752\n"
     ]
    },
    {
     "name": "stderr",
     "output_type": "stream",
     "text": [
      " 38%|███▊      | 8/21 [01:35<02:28, 11.43s/it]"
     ]
    },
    {
     "name": "stdout",
     "output_type": "stream",
     "text": [
      "6.471779256678596\n"
     ]
    },
    {
     "name": "stderr",
     "output_type": "stream",
     "text": [
      " 43%|████▎     | 9/21 [01:46<02:16, 11.38s/it]"
     ]
    },
    {
     "name": "stdout",
     "output_type": "stream",
     "text": [
      "6.44360938230721\n"
     ]
    },
    {
     "name": "stderr",
     "output_type": "stream",
     "text": [
      " 48%|████▊     | 10/21 [01:57<02:04, 11.36s/it]"
     ]
    },
    {
     "name": "stdout",
     "output_type": "stream",
     "text": [
      "6.350904782145162\n"
     ]
    },
    {
     "name": "stderr",
     "output_type": "stream",
     "text": [
      " 52%|█████▏    | 11/21 [02:09<01:53, 11.34s/it]"
     ]
    },
    {
     "name": "stdout",
     "output_type": "stream",
     "text": [
      "6.349324181529467\n"
     ]
    },
    {
     "name": "stderr",
     "output_type": "stream",
     "text": [
      " 57%|█████▋    | 12/21 [02:20<01:41, 11.32s/it]"
     ]
    },
    {
     "name": "stdout",
     "output_type": "stream",
     "text": [
      "6.346637760598729\n"
     ]
    },
    {
     "name": "stderr",
     "output_type": "stream",
     "text": [
      " 62%|██████▏   | 13/21 [02:31<01:30, 11.32s/it]"
     ]
    },
    {
     "name": "stdout",
     "output_type": "stream",
     "text": [
      "6.342882461384432\n"
     ]
    },
    {
     "name": "stderr",
     "output_type": "stream",
     "text": [
      " 67%|██████▋   | 14/21 [02:43<01:19, 11.31s/it]"
     ]
    },
    {
     "name": "stdout",
     "output_type": "stream",
     "text": [
      "6.529352142635639\n"
     ]
    },
    {
     "name": "stderr",
     "output_type": "stream",
     "text": [
      " 71%|███████▏  | 15/21 [02:54<01:07, 11.31s/it]"
     ]
    },
    {
     "name": "stdout",
     "output_type": "stream",
     "text": [
      "6.542110226475402\n"
     ]
    },
    {
     "name": "stderr",
     "output_type": "stream",
     "text": [
      " 76%|███████▌  | 16/21 [03:05<00:56, 11.30s/it]"
     ]
    },
    {
     "name": "stdout",
     "output_type": "stream",
     "text": [
      "6.511828365363939\n"
     ]
    },
    {
     "name": "stderr",
     "output_type": "stream",
     "text": [
      " 81%|████████  | 17/21 [03:17<00:45, 11.30s/it]"
     ]
    },
    {
     "name": "stdout",
     "output_type": "stream",
     "text": [
      "6.513190862494661\n"
     ]
    },
    {
     "name": "stderr",
     "output_type": "stream",
     "text": [
      " 86%|████████▌ | 18/21 [03:28<00:33, 11.30s/it]"
     ]
    },
    {
     "name": "stdout",
     "output_type": "stream",
     "text": [
      "6.48983735586998\n"
     ]
    },
    {
     "name": "stderr",
     "output_type": "stream",
     "text": [
      " 90%|█████████ | 19/21 [03:39<00:22, 11.30s/it]"
     ]
    },
    {
     "name": "stdout",
     "output_type": "stream",
     "text": [
      "6.447397416131599\n"
     ]
    },
    {
     "name": "stderr",
     "output_type": "stream",
     "text": [
      " 95%|█████████▌| 20/21 [03:50<00:11, 11.30s/it]"
     ]
    },
    {
     "name": "stdout",
     "output_type": "stream",
     "text": [
      "6.418619736062445\n"
     ]
    },
    {
     "name": "stderr",
     "output_type": "stream",
     "text": [
      "100%|██████████| 21/21 [03:59<00:00, 11.40s/it]"
     ]
    },
    {
     "name": "stdout",
     "output_type": "stream",
     "text": [
      "6.455445726171355\n",
      "6.455445726171355\n"
     ]
    },
    {
     "name": "stderr",
     "output_type": "stream",
     "text": [
      "\n"
     ]
    }
   ],
   "source": [
    "dataloader = qlib.QATDataset(\n",
    "    config=nip.load('/home/msst/repo/Quantization/configs/data/wikitext_test_seqlen4096.yaml'),\n",
    "    tokenizer=tokenizer\n",
    ").get_dataloader()\n",
    "\n",
    "with torch.amp.autocast('cuda', dtype=torch.float16):\n",
    "    res = qlib.evaluate(qmodel.half(), dataloader, print_times=25)\n",
    "    print(res)\n"
   ]
  },
  {
   "cell_type": "code",
   "execution_count": 5,
   "metadata": {},
   "outputs": [],
   "source": [
    "# path_to_save = os.path.join(\n",
    "# \tpath_to_checkpoints, \n",
    "# \tf'{chpnt_name}_act4bit_calib2'\n",
    "# )\n",
    "# qmodel.half().save_pretrained(path_to_save)"
   ]
  },
  {
   "cell_type": "code",
   "execution_count": 6,
   "metadata": {},
   "outputs": [],
   "source": [
    "### lukashevich icoherence + norm\n",
    "# 39 ppl init\n",
    "# 6.393 ptq\n",
    "# 6.297 ptq + qat (CE, 150 steps 20 ga Adam)\n",
    "# 6.227 ptq + qat (CE, 50 steps 50 ga Adam)\n",
    "# 7.206 ptq + 8 bit acts calib\n",
    "# 7.107 ptq + 8 bit acts ptq (7.040 short ptq first 6 blocks)\n",
    "#  769  ptq + 4 bit acts calib\n",
    "#  650  ptq + 4 bit acts calib2\n",
    "#  ~450 ptq + 4 bit acts calib2 qat 20ga 10 steps\n",
    "\n",
    "\n",
    "\n",
    "### 25.07 ppl init\n",
    "## 7.016 ptq (ns=128, bs=2, ne=1)\n",
    "## 7.545 ptq (ns=128, bs=2, ne=1, fp acts)\n",
    "\n",
    "## 7.058 ptq (ns=128, bs=2, ne=2)\n",
    "# 6.654 ptq + qat (KD+CE, 25 steps)\n",
    "# 6.598 ptq + qat (CE, 25 steps)\n",
    "# 6.547 ptq + qat (KD, 10 steps)\n",
    "# 6.511 ptq + qat (KD, 5 steps)\n",
    "\n",
    "## 6.797 ptq (ns=320, bs=5, ne=4)\n",
    "## 6.779 ptq (ns=320, bs=5, ne=2)\n",
    "# 6.579 ptq + qat (KD, 2 steps 1 ga Adam)\n",
    "# 6.493 ptq + qat (KD, 5 steps 1 ga Adam) # PiQA 0.7584 # WINO 0.6606 # ArcE 0.7071 # ArcC 0.3712\n",
    "# 7.372 ptq + qat (KD, 25 steps 1 ga Adam)\n",
    "# 7.236 ptq + qat (KD, 10 steps 4 ga Adafactor)\n",
    "# > 7.5 ptq + qat (CE, 10 steps 4 ga Adafactor)\n",
    "# 6.567 ptq + qat (CE, 10 steps 4 ga Adam)\n",
    "# 6.612 ptq + qat (CE, 10 steps 4 ga Adam small lr)\n",
    "# 6.609 ptq + qat (CE, 25 steps 4 ga Adam)\n",
    "# 7.449 ptq + qat (CE, 100 steps 2 ga Adam)\n",
    "# 6.464 ptq + qat (CE, 20 steps 10 ga Adam)\n",
    "# 6.390 ptq + qat (CE, 20 steps 20 ga Adam)\n",
    "# 6.325 ptq + qat (CE, 125 steps 20 ga Adam)\n",
    "\n",
    "### 39 ppl init\n",
    "# 6.778 ptq (ns=128, bs=2, ne=2)\n",
    "# 6.565 ptq + qat (CE, 10 steps 1 ga Adafactor)\n",
    "# 6.478 ptq + qat (KD, 25 steps 1 ga Adafactor)\n",
    "# 6.420 ptq + qat (KD+CE, 25 steps 1 ga Adafactor)"
   ]
  },
  {
   "cell_type": "code",
   "execution_count": 7,
   "metadata": {},
   "outputs": [
    {
     "data": {
      "text/plain": [
       "0.62975"
      ]
     },
     "execution_count": 7,
     "metadata": {},
     "output_type": "execute_result"
    }
   ],
   "source": [
    "(0.383 + 0.710 + 0.761 + 0.665) / 4\n",
    "\n",
    "\n",
    "\n"
   ]
  }
 ],
 "metadata": {
  "kernelspec": {
   "display_name": "qenv",
   "language": "python",
   "name": "python3"
  },
  "language_info": {
   "codemirror_mode": {
    "name": "ipython",
    "version": 3
   },
   "file_extension": ".py",
   "mimetype": "text/x-python",
   "name": "python",
   "nbconvert_exporter": "python",
   "pygments_lexer": "ipython3",
   "version": "3.10.16"
  }
 },
 "nbformat": 4,
 "nbformat_minor": 2
}
